{
 "cells": [
  {
   "cell_type": "markdown",
   "id": "acea00d6-550e-4671-9cb4-d46073043756",
   "metadata": {
    "kernel": "SoS",
    "tags": []
   },
   "source": [
    "# Genotype data preprocessing\n",
    "\n",
    "This document performs genotype data quality control and preprocessing, as outlined in the yellow boxes of the flowchart below."
   ]
  },
  {
   "cell_type": "markdown",
   "id": "e0ed5515-29a3-441c-b7a2-7f158fcf4780",
   "metadata": {
    "kernel": "SoS",
    "tags": []
   },
   "source": [
    "![Data_proc_flowchart](images/Data_proc_flowchart.png)"
   ]
  },
  {
   "cell_type": "markdown",
   "id": "af38ae50-0da5-4f40-8622-47f01a8a4ddd",
   "metadata": {
    "jp-MarkdownHeadingCollapsed": true,
    "kernel": "SoS",
    "tags": []
   },
   "source": [
    "## Overview\n",
    "\n",
    "### Analysis steps\n",
    "\n",
    "1. Genotype data quality control (QC). See here for the [QC steps performed].\n",
    "2. Principle component analysis (PCA) based QC, and PC computation for each sub-population available in the genotype data.\n",
    "3. Genomic relationship matrix (GRM) computation.\n",
    "4. Genotype data reformatting for downstream fine-mapping analysis.\n",
    "\n",
    "### Input data requirement\n",
    "\n",
    "1. Genotype data. See here for [format details]().\n",
    "2. [Optional] a sample information file to specific population information, if external data such as HapMap or 1000 Genomes are to be integrated to the PCA analysis to visualize and assess population structure in the genotype data. See here for [format details]()."
   ]
  },
  {
   "cell_type": "markdown",
   "id": "0e04400b-f2d4-46d6-8179-066df3b3ff73",
   "metadata": {
    "kernel": "SoS"
   },
   "source": [
    "## Genotype QC"
   ]
  },
  {
   "cell_type": "code",
   "execution_count": null,
   "id": "1ac51bbb-ef96-4f61-84d1-a66de8db6108",
   "metadata": {
    "kernel": "SoS"
   },
   "outputs": [],
   "source": [
    "nohup sos run  GWAS_QC.ipynb qc \\\n",
    "    --genotype_list Rosmap_wgs_genotype_list.txt \\\n",
    "    --cwd GWAS_QC/ \\\n",
    "    --name \"ac\" \\\n",
    "    --container_lmm \"base-bioinfo.sif\" "
   ]
  },
  {
   "cell_type": "markdown",
   "id": "1ff1330c-1834-4d1a-a932-44faa70c3136",
   "metadata": {
    "kernel": "SoS"
   },
   "source": [
    "## Principle component analysis"
   ]
  },
  {
   "cell_type": "code",
   "execution_count": null,
   "id": "e2c0c0af-5db9-4615-9c6a-fce975da139b",
   "metadata": {
    "kernel": "SoS"
   },
   "outputs": [],
   "source": [
    "nohup sos run PCA.ipynb pca \\\n",
    "            --cwd PCA/ \\\n",
    "            --container_lmm \"flashpcaR.sif\" \\\n",
    "            --name \"demo\" \\\n",
    "            --unrelated_genotype merge.mergrd.unrelated.bed \\\n",
    "            --related_genotype merge.mergrd.related.bed \\\n",
    "            --phenoFile demo.for_pca.mol_phe.exp \\\n",
    "            --label_col \"RACE\" \\\n",
    "            --pop_col \"RACE\"  "
   ]
  },
  {
   "cell_type": "markdown",
   "id": "2ec2cb1e-b424-4eb9-b2c8-9dbbbdf3324b",
   "metadata": {
    "kernel": "SoS"
   },
   "source": [
    "## Genomic relationship matrix\n",
    "input:\n",
    "1. A list of plink trio per chrom, output from Genotype QC\n",
    "\n",
    "output: \n",
    "1. A collection of ld.rds file that are suitable for mvsusie_rss and susie_rss\n",
    "2. One row of the LD recipe file for this particular theme, so that susie_rss can find the correct ld"
   ]
  },
  {
   "cell_type": "code",
   "execution_count": null,
   "id": "06c5785b-c7c0-4048-a772-cf424354a5e5",
   "metadata": {
    "kernel": "SoS"
   },
   "outputs": [],
   "source": [
    "nohup sos run GRM.ipynb GRM\n",
    "    --genotype_list demo.processed_genotype.plink_per_chrom.recipe \\\n",
    "    --wd GRM/ \\\n",
    "    --name \"demo\" \\\n",
    "    --container \"base-bioinfo.sif\" "
   ]
  },
  {
   "cell_type": "markdown",
   "id": "578c632e-d459-4e3b-9030-b5cf893cc4f8",
   "metadata": {
    "kernel": "SoS"
   },
   "source": [
    "## Reformatting and partition for regional genotypic data"
   ]
  },
  {
   "cell_type": "code",
   "execution_count": null,
   "id": "4bb3aba7-6974-4273-91de-6b76189a5c12",
   "metadata": {
    "kernel": "SoS"
   },
   "outputs": [],
   "source": [
    "\n",
    "nohup sos run plink2vcf\\\n",
    "    --genoFile ac.mergrd.ac.filtered.prune.bed \\\n",
    "    --wd genotype_reformmating/ \\\n",
    "    --name \"ac\" \\\n",
    "    --region_list geneTpmResidualsAgeGenderAdj_rename_region_list.txt  \\\n",
    "    --container \"base-bioinfo.sif\" \n",
    "\n",
    "nohup sos run genotype_formatting.ipynb plink_by_gene \\\n",
    "    --genoFile ac.mergrd.ac.filtered.prune.bed \\\n",
    "    --wd genotype_reformmating/ \\\n",
    "    --name \"dlpfc\" \\\n",
    "    --region_list mwe_region  \\\n",
    "    --container \"base-bioinfo.sif\" \n",
    "\n",
    "nohup sos run genotype_formatting.ipynb plink_by_chrom \\\n",
    "    --genoFile ac.mergrd.ac.filtered.prune.bed \\\n",
    "    --wd genotype_reformmating/ \\\n",
    "    --name \"pcc\" \\\n",
    "    --region_list mwe_region  \\\n",
    "    --container \"base-bioinfo.sif\" "
   ]
  }
 ],
 "metadata": {
  "kernelspec": {
   "display_name": "SoS",
   "language": "sos",
   "name": "sos"
  },
  "language_info": {
   "codemirror_mode": "sos",
   "file_extension": ".sos",
   "mimetype": "text/x-sos",
   "name": "sos",
   "nbconvert_exporter": "sos_notebook.converter.SoS_Exporter",
   "pygments_lexer": "sos"
  },
  "sos": {
   "kernels": [
    [
     "Bash",
     "bash",
     "Bash",
     "#E6EEFF",
     ""
    ],
    [
     "SoS",
     "sos",
     "",
     "",
     "sos"
    ]
   ],
   "version": "0.22.9"
  }
 },
 "nbformat": 4,
 "nbformat_minor": 5
}
