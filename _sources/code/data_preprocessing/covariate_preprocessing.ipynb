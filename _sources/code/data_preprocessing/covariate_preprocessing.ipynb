{
 "cells": [
  {
   "cell_type": "markdown",
   "id": "descending-sample",
   "metadata": {
    "kernel": "SoS",
    "tags": []
   },
   "source": [
    "# Covariate data preprocessing\n",
    "\n",
    "1. **This tutorial are for the factor analysis and PCA modules of the following flowchart**\n",
    "2. **Each commands in this tutorials should be run once per theme**\n",
    "\n"
   ]
  },
  {
   "cell_type": "markdown",
   "id": "eff601c4-0146-4a04-8908-a1f5c028635c",
   "metadata": {
    "kernel": "SoS"
   },
   "source": [
    "## Factor analysis\n",
    "1. Factor analysis can be done using one of the following method:PEER & APEX (BiCV).\n",
    "2. Both factor analysis method can run with or without covariate file input.\n",
    "3. No need to run both.\n"
   ]
  },
  {
   "cell_type": "markdown",
   "id": "32340ad8-03a7-42cc-89e3-808706546c09",
   "metadata": {
    "kernel": "SoS"
   },
   "source": [
    "### PEER\n",
    "First command is an example for where there is no more external covariate file to be input. ( i.e. the input molecular phenotype is already an residual phenotype )\n",
    "\n",
    "Input:\n",
    "1. a molecular phenotype file in bed format\n",
    "2. (optionally) a covariate file, with each rows a covariate, first column is #id, and each subsquent column a sample"
   ]
  },
  {
   "cell_type": "code",
   "execution_count": null,
   "id": "04464532-e6eb-4036-b6d8-3c4be385b6a2",
   "metadata": {
    "kernel": "SoS"
   },
   "outputs": [],
   "source": [
    "nohup sos run /home/hs3163/GIT/xqtl-pipeline/pipeline/data_preprocessing/covariate/PEER_factor.ipynb PEER \\\n",
    "        --molecular_pheno  /mnt/mfs/statgen/xqtl_workflow_testing/demo/annotation/AC.mol_phe.annotated.bed.gz \\\n",
    "        --wd ./ \\\n",
    "        --container /mnt/mfs/statgen/containers/xqtl_pipeline_sif/PEER.sif \\\n",
    "        --name \"demo\" &"
   ]
  },
  {
   "cell_type": "code",
   "execution_count": null,
   "id": "4c6070b7-66fa-496b-bcfa-3ea93e208344",
   "metadata": {
    "kernel": "SoS"
   },
   "outputs": [],
   "source": [
    "nohup sos run /home/hs3163/GIT/xqtl-pipeline/pipeline/data_preprocessing/covariate/PEER_factor.ipynb PEER \\\n",
    "        --molecular_pheno  /mnt/mfs/statgen/xqtl_workflow_testing/demo/PEER/Example_data/example_data.bed.gz \\\n",
    "        --covariate_file /mnt/mfs/statgen/xqtl_workflow_testing/demo/PEER/Example_data/example_cov.txt \\\n",
    "        --wd ./ \\\n",
    "        --container /mnt/mfs/statgen/containers/xqtl_pipeline_sif/PEER.sif \\\n",
    "        --name \"demo\" &"
   ]
  },
  {
   "cell_type": "markdown",
   "id": "e27874b1-f57e-44c3-be0f-e1fb5c72b40c",
   "metadata": {
    "kernel": "SoS"
   },
   "source": [
    "### APEX\n",
    "\n",
    "First command is an example for where there is no more external covariate file to be input. ( i.e. the input molecular phenotype is already an residual phenotype )"
   ]
  },
  {
   "cell_type": "code",
   "execution_count": null,
   "id": "34172cca-8337-4f90-a781-7fa31538c9d3",
   "metadata": {
    "kernel": "SoS"
   },
   "outputs": [],
   "source": [
    "nohup sos run /home/hs3163/GIT/xqtl-pipeline/pipeline/data_preprocessing/covariate/BiCV_factor.ipynb APEX \\\n",
    "        --molecular_pheno  /mnt/mfs/statgen/xqtl_workflow_testing/demo/annotation/AC.mol_phe.annotated.bed.gz \\\n",
    "        --genotype_list  /mnt/mfs/statgen/xqtl_workflow_testing/demo/genotype_reformmating/demo_vcf_geno/demo.vcf_geno_list.txt \\\n",
    "        --covariate /mnt/mfs/statgen/xqtl_workflow_testing/success_example/testing_no_cov/Data_Processing/Factor_and_Covariate/AC.APEX.cov \\\n",
    "        --wd ./ \\\n",
    "        --container_apex /mnt/mfs/statgen/containers/xqtl_pipeline_sif/apex.sif \\\n",
    "        --name \"demo\" &"
   ]
  },
  {
   "cell_type": "code",
   "execution_count": null,
   "id": "5f26df3e-062c-4250-9847-4674c7873811",
   "metadata": {
    "kernel": "SoS"
   },
   "outputs": [],
   "source": [
    "nohup sos run /home/hs3163/GIT/xqtl-pipeline/pipeline/data_preprocessing/covariate/BiCV_factor.ipynb APEX \\\n",
    "        --molecular_pheno  /mnt/mfs/statgen/xqtl_workflow_testing/demo/annotation/AC.mol_phe.annotated.bed.gz \\\n",
    "        --genotype_list  /mnt/mfs/statgen/xqtl_workflow_testing/demo/genotype_reformmating/demo_vcf_geno/demo.vcf_geno_list.txt \\\n",
    "        --wd ./ \\\n",
    "        --container_apex /mnt/mfs/statgen/containers/xqtl_pipeline_sif/apex.sif \\\n",
    "        --name \"demo\" &"
   ]
  },
  {
   "cell_type": "markdown",
   "id": "bbde9dc4-8a41-460a-acc9-9a75319ec847",
   "metadata": {
    "kernel": "SoS"
   },
   "source": [
    "## PCA\n",
    "After the factor analysis of the previouse module, the residual expression shall be generated as outlined in the phenotype processing tutorials, and then used for the follwoing PCA analysis\n",
    "\n"
   ]
  },
  {
   "cell_type": "code",
   "execution_count": null,
   "id": "21dc13b0-9dc3-4d8f-86ad-dd0c5a76bbe8",
   "metadata": {
    "kernel": "SoS"
   },
   "outputs": [],
   "source": [
    "nohup sos run /home/hs3163/GIT/xqtl-pipeline/pipeline/data_preprocessing/covariate/PCA.ipynb pca \\\n",
    "            --cwd /mnt/mfs/statgen/xqtl_workflow_testing/demo/PCA/ \\\n",
    "            --container_lmm \"/mnt/mfs/statgen/containers/xqtl_pipeline_sif/flashpcaR.sif\" \\\n",
    "            --name \"demo\" \\\n",
    "            --unrelated_genotype /mnt/mfs/statgen/xqtl_workflow_testing/demo/GWAS_QC/merge.mergrd.unrelated.bed \\\n",
    "            --related_genotype /mnt/mfs/statgen/xqtl_workflow_testing//demo/GWAS_QC/merge.mergrd.related.bed \\\n",
    "            --phenoFile /mnt/mfs/statgen/xqtl_workflow_testing/demo/phenotype_reformat/demo.for_pca.mol_phe.exp \\\n",
    "            --label_col \"RACE\" \\\n",
    "            --pop_col \"RACE\"  &"
   ]
  },
  {
   "cell_type": "markdown",
   "id": "0feecc32-f334-4dbe-9e07-ff3946d987eb",
   "metadata": {
    "kernel": "SoS"
   },
   "source": [
    "## Merge covariate\n",
    "The factor_and_covariate file shall be the output from gou-29's peer and apex module. For the time being, please use the provided input"
   ]
  },
  {
   "cell_type": "code",
   "execution_count": null,
   "id": "ad761cec-00ea-4aa7-8e13-c051ee717123",
   "metadata": {
    "kernel": "SoS"
   },
   "outputs": [],
   "source": [
    "nohup sos run /home/hs3163/GIT/xqtl-pipeline/pipeline/data_preprocessing/covariate/merge_covariate.ipynb pca_factor_merge \\\n",
    "            --wd /mnt/mfs/statgen/xqtl_workflow_testing/demo/merge_factor/ \\\n",
    "            --name \"demo\" \\\n",
    "            --factor_and_covariate /mnt/mfs/statgen/xqtl_workflow_testing/success_example/testing_no_cov/Data_Processing/Factor_and_Covariate/AC.APEX.cov \\\n",
    "            --PC /mnt/mfs/statgen/xqtl_workflow_testing/demo/PCA/demo.for_pca.mol_phe.demo.pca.projected.rds  &"
   ]
  }
 ],
 "metadata": {
  "kernelspec": {
   "display_name": "SoS",
   "language": "sos",
   "name": "sos"
  },
  "language_info": {
   "codemirror_mode": "sos",
   "file_extension": ".sos",
   "mimetype": "text/x-sos",
   "name": "sos",
   "nbconvert_exporter": "sos_notebook.converter.SoS_Exporter",
   "pygments_lexer": "sos"
  },
  "sos": {
   "kernels": [
    [
     "Bash",
     "bash",
     "Bash",
     "#E6EEFF",
     ""
    ],
    [
     "SoS",
     "sos",
     "",
     "",
     "sos"
    ]
   ],
   "version": "0.22.6"
  }
 },
 "nbformat": 4,
 "nbformat_minor": 5
}
