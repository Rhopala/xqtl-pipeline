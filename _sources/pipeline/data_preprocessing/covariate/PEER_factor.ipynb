{
 "cells": [
  {
   "cell_type": "markdown",
   "id": "convertible-retention",
   "metadata": {
    "kernel": "SoS",
    "tags": []
   },
   "source": [
    "# Factor analysis using PEER"
   ]
  },
  {
   "cell_type": "markdown",
   "id": "satisfactory-revision",
   "metadata": {
    "kernel": "SoS"
   },
   "source": [
    "**FIXME: there is a file `Get_default_sets.R` in this directory. Please eliminate if it is not necessary** - Delected\n",
    "\n",
    "**FIXME2: will wrap docker image tmr (current image: Baseline docker image is from: rtibiocloud/peer:1.3_8f2237f)**"
   ]
  },
  {
   "cell_type": "markdown",
   "id": "sixth-thing",
   "metadata": {
    "kernel": "Bash",
    "tags": []
   },
   "source": [
    "## 1.Overview: \n",
    "\n",
    "This workflow is intend to perform [Probabilistic Estimation of Expression Residuals (PEER) method](https://github.com/PMBio/peer/wiki/Tutorial) , which is a standard part in GTEX protocal \n",
    "\n",
    "## 2.Input and output:\n",
    "\n",
    "As we intend to make this module exchangeable with `APEX`, the input file in both workflow are same. Please refer [APEX input format](https://corbinq.github.io/apex/doc/input_files/) for other details. Here we just illustrate the minimum requirment in this workflow. \n",
    "\n",
    "#### Required input\n",
    "\n",
    "* --expression_file: a `.bed` like file with following format. Please note that **no missing values** is allowed in molecular trait quantification. **In this workflow only**, first four coloum can be any informaion irrelvant (just designed for consistency with `APEX` workflow). "
   ]
  },
  {
   "cell_type": "code",
   "execution_count": 48,
   "id": "encouraging-morris",
   "metadata": {
    "kernel": "R",
    "tags": []
   },
   "outputs": [
    {
     "data": {
      "text/html": [
       "<table class=\"dataframe\">\n",
       "<caption>A tibble: 3 × 8</caption>\n",
       "<thead>\n",
       "\t<tr><th scope=col>#chr</th><th scope=col>start</th><th scope=col>end</th><th scope=col>gene_name</th><th scope=col>Sample1</th><th scope=col>Sample2</th><th scope=col>Sample3</th><th scope=col>Sample4</th></tr>\n",
       "\t<tr><th scope=col>&lt;dbl&gt;</th><th scope=col>&lt;dbl&gt;</th><th scope=col>&lt;dbl&gt;</th><th scope=col>&lt;chr&gt;</th><th scope=col>&lt;dbl&gt;</th><th scope=col>&lt;dbl&gt;</th><th scope=col>&lt;dbl&gt;</th><th scope=col>&lt;dbl&gt;</th></tr>\n",
       "</thead>\n",
       "<tbody>\n",
       "\t<tr><td>1</td><td>  1</td><td>100</td><td>Gene1</td><td> -1.627455</td><td> 1.684725</td><td> -0.0807924</td><td> 1.510522</td></tr>\n",
       "\t<tr><td>1</td><td>100</td><td>200</td><td>Gene2</td><td>-12.626715</td><td>17.746163</td><td>-14.2519447</td><td> 5.254536</td></tr>\n",
       "\t<tr><td>1</td><td>199</td><td>300</td><td>Gene3</td><td>  3.337390</td><td>-7.259074</td><td>  6.2643526</td><td>-1.375911</td></tr>\n",
       "</tbody>\n",
       "</table>\n"
      ],
      "text/latex": [
       "A tibble: 3 × 8\n",
       "\\begin{tabular}{llllllll}\n",
       " \\#chr & start & end & gene\\_name & Sample1 & Sample2 & Sample3 & Sample4\\\\\n",
       " <dbl> & <dbl> & <dbl> & <chr> & <dbl> & <dbl> & <dbl> & <dbl>\\\\\n",
       "\\hline\n",
       "\t 1 &   1 & 100 & Gene1 &  -1.627455 &  1.684725 &  -0.0807924 &  1.510522\\\\\n",
       "\t 1 & 100 & 200 & Gene2 & -12.626715 & 17.746163 & -14.2519447 &  5.254536\\\\\n",
       "\t 1 & 199 & 300 & Gene3 &   3.337390 & -7.259074 &   6.2643526 & -1.375911\\\\\n",
       "\\end{tabular}\n"
      ],
      "text/markdown": [
       "\n",
       "A tibble: 3 × 8\n",
       "\n",
       "| #chr &lt;dbl&gt; | start &lt;dbl&gt; | end &lt;dbl&gt; | gene_name &lt;chr&gt; | Sample1 &lt;dbl&gt; | Sample2 &lt;dbl&gt; | Sample3 &lt;dbl&gt; | Sample4 &lt;dbl&gt; |\n",
       "|---|---|---|---|---|---|---|---|\n",
       "| 1 |   1 | 100 | Gene1 |  -1.627455 |  1.684725 |  -0.0807924 |  1.510522 |\n",
       "| 1 | 100 | 200 | Gene2 | -12.626715 | 17.746163 | -14.2519447 |  5.254536 |\n",
       "| 1 | 199 | 300 | Gene3 |   3.337390 | -7.259074 |   6.2643526 | -1.375911 |\n",
       "\n"
      ],
      "text/plain": [
       "  #chr start end gene_name Sample1    Sample2   Sample3     Sample4  \n",
       "1 1      1   100 Gene1      -1.627455  1.684725  -0.0807924  1.510522\n",
       "2 1    100   200 Gene2     -12.626715 17.746163 -14.2519447  5.254536\n",
       "3 1    199   300 Gene3       3.337390 -7.259074   6.2643526 -1.375911"
      ]
     },
     "metadata": {},
     "output_type": "display_data"
    }
   ],
   "source": [
    "readr::read_delim(\"PEER_example_data/Peer_example_data.bed\",show_col_types= F)[1:3,1:8]"
   ]
  },
  {
   "cell_type": "markdown",
   "id": "innovative-conducting",
   "metadata": {
    "kernel": "SoS"
   },
   "source": [
    "#### Optional inputs\n",
    "\n",
    "* --covariate: A matrix with `C + 1` rows for covariates and `S + 1` columnes for samples. **No missing value is allowed** "
   ]
  },
  {
   "cell_type": "code",
   "execution_count": 49,
   "id": "pressed-fiber",
   "metadata": {
    "kernel": "R"
   },
   "outputs": [
    {
     "data": {
      "text/html": [
       "<table class=\"dataframe\">\n",
       "<caption>A tibble: 2 × 8</caption>\n",
       "<thead>\n",
       "\t<tr><th scope=col>#ID</th><th scope=col>Sample1</th><th scope=col>Sample2</th><th scope=col>Sample3</th><th scope=col>Sample4</th><th scope=col>Sample5</th><th scope=col>Sample6</th><th scope=col>Sample7</th></tr>\n",
       "\t<tr><th scope=col>&lt;chr&gt;</th><th scope=col>&lt;dbl&gt;</th><th scope=col>&lt;dbl&gt;</th><th scope=col>&lt;dbl&gt;</th><th scope=col>&lt;dbl&gt;</th><th scope=col>&lt;dbl&gt;</th><th scope=col>&lt;dbl&gt;</th><th scope=col>&lt;dbl&gt;</th></tr>\n",
       "</thead>\n",
       "<tbody>\n",
       "\t<tr><td>Cov1</td><td> 1.6243454</td><td>-2.301539</td><td> 1.462108</td><td>-1.0998913</td><td>-1.100619</td><td>-0.6837279</td><td>-0.6916608</td></tr>\n",
       "\t<tr><td>Cov2</td><td>-0.6117564</td><td> 1.744812</td><td>-2.060141</td><td>-0.1724282</td><td> 1.144724</td><td>-0.1228902</td><td>-0.3967535</td></tr>\n",
       "</tbody>\n",
       "</table>\n"
      ],
      "text/latex": [
       "A tibble: 2 × 8\n",
       "\\begin{tabular}{llllllll}\n",
       " \\#ID & Sample1 & Sample2 & Sample3 & Sample4 & Sample5 & Sample6 & Sample7\\\\\n",
       " <chr> & <dbl> & <dbl> & <dbl> & <dbl> & <dbl> & <dbl> & <dbl>\\\\\n",
       "\\hline\n",
       "\t Cov1 &  1.6243454 & -2.301539 &  1.462108 & -1.0998913 & -1.100619 & -0.6837279 & -0.6916608\\\\\n",
       "\t Cov2 & -0.6117564 &  1.744812 & -2.060141 & -0.1724282 &  1.144724 & -0.1228902 & -0.3967535\\\\\n",
       "\\end{tabular}\n"
      ],
      "text/markdown": [
       "\n",
       "A tibble: 2 × 8\n",
       "\n",
       "| #ID &lt;chr&gt; | Sample1 &lt;dbl&gt; | Sample2 &lt;dbl&gt; | Sample3 &lt;dbl&gt; | Sample4 &lt;dbl&gt; | Sample5 &lt;dbl&gt; | Sample6 &lt;dbl&gt; | Sample7 &lt;dbl&gt; |\n",
       "|---|---|---|---|---|---|---|---|\n",
       "| Cov1 |  1.6243454 | -2.301539 |  1.462108 | -1.0998913 | -1.100619 | -0.6837279 | -0.6916608 |\n",
       "| Cov2 | -0.6117564 |  1.744812 | -2.060141 | -0.1724282 |  1.144724 | -0.1228902 | -0.3967535 |\n",
       "\n"
      ],
      "text/plain": [
       "  #ID  Sample1    Sample2   Sample3   Sample4    Sample5   Sample6   \n",
       "1 Cov1  1.6243454 -2.301539  1.462108 -1.0998913 -1.100619 -0.6837279\n",
       "2 Cov2 -0.6117564  1.744812 -2.060141 -0.1724282  1.144724 -0.1228902\n",
       "  Sample7   \n",
       "1 -0.6916608\n",
       "2 -0.3967535"
      ]
     },
     "metadata": {},
     "output_type": "display_data"
    }
   ],
   "source": [
    "readr::read_delim(\"PEER_example_data/Peer_example_cov.txt\",show_col_types= F)[,1:8]"
   ]
  },
  {
   "cell_type": "markdown",
   "id": "monetary-collar",
   "metadata": {
    "kernel": "Markdown",
    "tags": []
   },
   "source": [
    "* --name: a string specify the name of main output file `{name}.PEER.cov`\n",
    "\n",
    "* --N: Number of PEER factor used. Default value will be 0. Under default, Recommended PEER factors will be generated based on the suggestion of [GTEX](https://gtexportal.org/home/documentationPage) automatically. To obtain `N` used in this case, please see the `.stdout` file.\n",
    "\n",
    "* Other parameters sepcified by PEER\n",
    "\n",
    "## 3. Outputs:\n",
    "\n",
    "#### Main outputs:\n",
    "\n",
    "* `{name}.PEER.cov`: result for peer factor covariates\n",
    "\n",
    "\n",
    "## 4. Useage:\n",
    "```sos\n",
    "    sos run Call_PEER.ipynb PEER \\\n",
    "        --expression_file Peer_example_data/Peer_example_data.txt \\\n",
    "        --covariate (optional) \\\n",
    "        --cwd /Users/albert29/Documents/Lab/Pipelines/Call_PEER/Output/ \\\n",
    "        --N 10\n",
    "        ...\n",
    "```"
   ]
  },
  {
   "cell_type": "markdown",
   "id": "perceived-integrity",
   "metadata": {
    "kernel": "R"
   },
   "source": [
    "## Setup and global parameters:"
   ]
  },
  {
   "cell_type": "code",
   "execution_count": 42,
   "id": "binding-thing",
   "metadata": {
    "kernel": "SoS",
    "tags": []
   },
   "outputs": [],
   "source": [
    "[global]\n",
    "# The output directory for generated files. MUST BE FULL PATH\n",
    "parameter: wd = path\n",
    "cwd = wd\n",
    "# For cluster jobs, number commands to run per job\n",
    "parameter: job_size = 1\n",
    "# Wall clock time expected\n",
    "parameter: walltime = \"5h\"\n",
    "# Memory expected\n",
    "parameter: mem = \"16384\"\n",
    "# Number of threads\n",
    "parameter: numThreads = 8\n",
    "# Software container option\n",
    "parameter: container_apex = str\n",
    "parameter: name = \"peer_out\"\n",
    "\n",
    "# N PEER factors, If do not specify or specified as 0, default values suggested by \n",
    "# UCSC (based on different sample size) Will be used\n",
    "parameter: N = 4\n",
    "n_of_factor = N\n",
    "\n",
    "# Default values from PEER:\n",
    "## The number of max iteration\n",
    "\n",
    "parameter: max_iter = 1000\n",
    "iteration = max_iter\n",
    "## Prior parameters\n",
    "parameter: Alpha_a = 0.001\n",
    "parameter: Alpha_b = 0.1\n",
    "parameter: Eps_a = 0.1\n",
    "parameter: Eps_b = 10.\n",
    "## Tolarance parameters\n",
    "parameter: tol = 0.001\n",
    "parameter: var_tol = 1e-08\n",
    "# The molecular phenotype matrix\n",
    "parameter: molecular_pheno = path\n",
    "expression_file = molecular_pheno\n",
    "# The covariate file\n",
    "parameter: covariate_file = path\n",
    "\n",
    "# vcf Genotypy list, so that apex factor can run with covariate file input, requirment: vcf shall have the same sample as the cov and molecular phenotype\n",
    "# parameter: genotype_list = path\n",
    "parameter: genotype_list = \"None\"\n",
    "# import pandas as pd\n",
    "# import os\n",
    "# vcf_file = pd.read_csv(genotype_list,sep = \"\\t\")[\"dir\"][0]"
   ]
  },
  {
   "cell_type": "code",
   "execution_count": 44,
   "id": "induced-trainer",
   "metadata": {
    "kernel": "Bash",
    "tags": []
   },
   "outputs": [
    {
     "name": "stdout",
     "output_type": "stream",
     "text": [
      "usage: sos run PEER_factor.ipynb [workflow_name | -t targets] [options] [workflow_options]\n",
      "  workflow_name:        Single or combined workflows defined in this script\n",
      "  targets:              One or more targets to generate\n",
      "  options:              Single-hyphen sos parameters (see \"sos run -h\" for details)\n",
      "  workflow_options:     Double-hyphen workflow-specific parameters\n",
      "\n",
      "Workflows:\n",
      "  PEER\n",
      "\n",
      "Global Workflow Options:\n",
      "  --wd VAL (as path, required)\n",
      "                        The output directory for generated files. MUST BE FULL\n",
      "                        PATH\n",
      "  --job-size 1 (as int)\n",
      "                        For cluster jobs, number commands to run per job\n",
      "  --walltime 5h\n",
      "                        Wall clock time expected\n",
      "  --mem 16384\n",
      "                        Memory expected\n",
      "  --numThreads 8 (as int)\n",
      "                        Number of threads\n",
      "  --container-apex VAL (as str, required)\n",
      "                        Software container option\n",
      "  --name 'peer_out'\n",
      "  --N 4 (as int)\n",
      "                        N PEER factors, If do not specify or specified as 0,\n",
      "                        default values suggested by UCSC (based on different\n",
      "                        sample size) Will be used\n",
      "  --max-iter 1000 (as int)\n",
      "  --Alpha-a 0.001 (as float)\n",
      "                        Prior parameters\n",
      "  --Alpha-b 0.1 (as float)\n",
      "  --Eps-a 0.1 (as float)\n",
      "  --Eps-b 10.0 (as float)\n",
      "  --tol 0.001 (as float)\n",
      "                        Tolarance parameters\n",
      "  --var-tol 1e-08 (as float)\n",
      "  --molecular-pheno VAL (as path, required)\n",
      "                        The molecular phenotype matrix\n",
      "  --covariate-file VAL (as path, required)\n",
      "                        The covariate file\n",
      "  --genotype-list None\n",
      "                        vcf Genotypy list, so that apex factor can run with\n",
      "                        covariate file input, requirment: vcf shall have the\n",
      "                        same sample as the cov and molecular phenotype\n",
      "                        parameter: genotype_list = path\n",
      "\n",
      "Sections\n",
      "  PEER:\n"
     ]
    }
   ],
   "source": [
    "sos run PEER_factor.ipynb -h"
   ]
  },
  {
   "cell_type": "code",
   "execution_count": null,
   "id": "theoretical-glasgow",
   "metadata": {
    "kernel": "SoS",
    "tags": []
   },
   "outputs": [],
   "source": [
    "[PEER]\n",
    "input: expression_file\n",
    "output: f'{cwd}/{_input:bn}_diagnosis_plot.jpeg',\n",
    "        f'{cwd}/{name}.PEER.cov'\n",
    "task: trunk_workers = 1, walltime = walltime, mem = mem, cores = numThreads, tags = f'{step_name}_{_output:bn}'\n",
    "R: container=container_apex, expand= \"${ }\", stderr = f'{_output}.stderr', stdout = f'{_output}.stdout'\n",
    "    library(peer)\n",
    "  \n",
    "    #### PLOTING FUNCTIONS: ####  \n",
    "      \n",
    "    ## Adapted from the source code of package: https://github.com/PMBio/peer/blob/40bc4b2cd92459ce42f44dfe279717436395f3f6/R/peer/R/plot.R \n",
    "  \n",
    "  \n",
    "    PEER_plotModel_adapted <- function(model){\n",
    "        par(mfrow=c(2,1))\n",
    "        bounds = PEER_getBounds(model)\n",
    "        vars = PEER_getResidualVars(model)\n",
    "        plot(bounds, type=\"l\", col=\"red\", lwd=2, xlab=\"Iterations\", ylab=\"Lower bound\")\n",
    "        par(new=TRUE)\n",
    "        plot(vars,,type=\"l\",col=\"blue\",xaxt=\"n\",yaxt=\"n\",xlab=\"\",ylab=\"\")\n",
    "        axis(4)\n",
    "        mtext(\"Residual variance\",side=4,line=3)\n",
    "        legend(\"right\",col=c(\"red\",\"blue\"),lty=1,legend=c(\"Lower bound\",\"Residual variance\"))\n",
    "        alpha = PEER_getAlpha(model)\n",
    "        plot(alpha,xlab=\"Factors\",ylab=\"Inverse variance of factor weights\", type=\"b\", col=\"blue\", lwd=4, xaxp=c(1,length(alpha), length(alpha)-1))\n",
    "    }\n",
    "    \n",
    "    WriteTable <- function(data, filename, index.name) {\n",
    "      datafile <- file(filename, open = \"wt\")\n",
    "      on.exit(close(datafile))\n",
    "      header <- c(index.name, colnames(data))\n",
    "      writeLines(paste0(header, collapse = \"\\t\"), con = datafile, sep = \"\\n\")\n",
    "      write.table(data, datafile, sep = \"\\t\", col.names = F, quote = F)\n",
    "    }\n",
    "  \n",
    "    #### MAIN ####\n",
    "    \n",
    "  \n",
    "    # Start analysis:\n",
    "    model <- PEER()\n",
    "    cat(\"PEER: loading expression data ... \")\n",
    "    #pe <- file.path(${_input:r})\n",
    "    #df <- read.table(pe, header = T, row.names = 1)\n",
    "    #df <- readr::read_delim(${_input:r},\"\\t\")\n",
    "    df <- read.delim(${_input:r})\n",
    "    mtx = df[,5:ncol(df)]\n",
    "    rownames(mtx) = df$gene_ID\n",
    "    # Input: each column is a sample each row is a gene\n",
    "    # PEER require each row is a sample each column is a gene\n",
    "    M <- t(as.matrix(mtx, rownames = T))\n",
    "    cat(\"done!\\n\")\n",
    "    \n",
    "    # Load covariate file:\n",
    "    pc <- \"${covariate_file}\"\n",
    "    if(pc !=  \"None\"){\n",
    "        cat(\"PEER: loading covariate file ...\")\n",
    "        pc <- file.path()\n",
    "        cov.mat <- read.table(${covariate_file:r}, header = T, row.names = 1)\n",
    "        cov.mat <- t(as.matrix(cov.mat))\n",
    "        \n",
    "        if(dim(M)[1] != dim(cov.mat)[1]){\n",
    "            cat(\"\\n\")\n",
    "            stop(\"Expression file and covariate file do not have identical number of samples!\")}\n",
    "        cat(\"done!\\n\")\n",
    "        cat(\"PEER: Input summary:\",dim(M)[1], \"samples with\",dim(M)[2], \"genes and\", dim(cov.mat)[2],\"covariates \\n\")\n",
    "        invisible(PEER_setCovariates(model, cov.mat))\n",
    "    }else{\n",
    "        cov.mat <- NULL\n",
    "        cat(\"PEER: Input summary:\",dim(M)[1], \"samples with\",dim(M)[2], \"genes \\n\")\n",
    "    }\n",
    "       \n",
    "    # Suggest the number of factors to use if no input value\n",
    "      \n",
    "    if(${N} == 0){\n",
    "      # Use suggestion\n",
    "      if(dim(M)[1] < 150){\n",
    "          num_factor = 15}else{\n",
    "              if(dim(M)[1] < 250){num_factor = 30}else{num_factor = 35}\n",
    "          }\n",
    "    }else{num_factor = ${N}}\n",
    "      \n",
    "    # run PEER\n",
    "    cat(paste0(\"Setting initialization parameters ...\"))\n",
    "    \n",
    "    invisible(PEER_setNk(model, num_factor))\n",
    "    invisible(PEER_setPhenoMean(model, M))\n",
    "    invisible(PEER_setPriorAlpha(model,${Alpha_a},${Alpha_b}))\n",
    "    invisible(PEER_setPriorEps(model,${Eps_a}, ${Eps_b}))\n",
    "    invisible(PEER_setTolerance(model, ${tol}))\n",
    "    invisible(PEER_setVarTolerance(model, ${var_tol}))\n",
    "    invisible(PEER_setNmax_iterations(model, ${max_iter}))\n",
    "    if(!is.null(cov.mat)){\n",
    "        invisible(PEER_setCovariates(model, cov.mat))\n",
    "    }\n",
    "    cat(\"Done.\\n\")\n",
    "  \n",
    "    \n",
    "    cat(paste0(\"PEER: estimating hidden confounders (\", num_factor, \")\\n\"))\n",
    "    time <- system.time(PEER_update(model))\n",
    "    \n",
    "    # Add relevant row/column names\n",
    "    \n",
    "    factor.mat <- PEER_getX(model)  # samples x PEER factors\n",
    "    weight.mat <- PEER_getW(model)  # omic features x PEER factors\n",
    "    precision.mat <- PEER_getAlpha(model)  # PEER factors x 1\n",
    "    resid.mat <- t(PEER_getResiduals(model))  # omic features x samples\n",
    "    \n",
    "    peer.var.names <- paste0(\"peer.factor_\", 1:ncol(factor.mat))\n",
    "    rownames(factor.mat) <- rownames(M)\n",
    "    colnames(factor.mat) <- peer.var.names\n",
    "    colnames(weight.mat) <- peer.var.names\n",
    "    rownames(weight.mat) <- colnames(M)\n",
    "    rownames(precision.mat) <- peer.var.names\n",
    "    colnames(precision.mat) <- \"alpha\"\n",
    "    precision.mat <- as.data.frame(precision.mat)\n",
    "    precision.mat$relevance <- 1.0 / precision.mat$alpha\n",
    "    rownames(resid.mat) <- colnames(M)\n",
    "    colnames(resid.mat) <- rownames(M)\n",
    "    \n",
    "    cat(\"Exporting results ... \")\n",
    "      \n",
    "    # Diagnosis plot:\n",
    "    output_path <- paste(${cwd:r},\"/\",${_input:bnr},\"_diagnosis_plot.jpeg\", sep = \"\")\n",
    "    jpeg(output_path)\n",
    "    invisible(PEER_plotModel_adapted(model))\n",
    "    invisible(dev.off())\n",
    "    \n",
    "    # Write 4 numeric results\n",
    "    WriteTable(t(factor.mat), file.path(\"${_output[1]:d}\",\"${_output[1]:b}\"), \"#id\")  \n",
    "    WriteTable(weight.mat, file.path(${cwd:r}, \"peer_weights.txt\"), \"#id\")\n",
    "    WriteTable(precision.mat, file.path(${cwd:r}, \"peer_precisions.txt\"), \"#id\")\n",
    "    WriteTable(resid.mat, file.path(${cwd:r}, \"peer_residuals.txt\"), \"#id\")\n",
    "    cat(\"Done.\\n\")"
   ]
  },
  {
   "cell_type": "markdown",
   "id": "combined-meditation",
   "metadata": {
    "kernel": "SoS"
   },
   "source": [
    "## Minimum working example\n",
    "**FIXME**: it seems that `--wd` only work when set as `.`. I have tried full path of somthing like `./output` but it cannot work"
   ]
  },
  {
   "cell_type": "code",
   "execution_count": 46,
   "id": "historical-sperm",
   "metadata": {
    "kernel": "Bash",
    "tags": []
   },
   "outputs": [
    {
     "name": "stdout",
     "output_type": "stream",
     "text": [
      "INFO: Running \u001b[32mPEER\u001b[0m: \n",
      "HINT: Pulling docker image rtibiocloud/peer:1.3_8d39ff8\n",
      "HINT: Docker image rtibiocloud/peer:1.3_8d39ff8 is now up to date\n",
      "INFO: \u001b[32mPEER\u001b[0m is \u001b[32mcompleted\u001b[0m.\n",
      "INFO: \u001b[32mPEER\u001b[0m output:   \u001b[32mPeer_example_data_diagnosis_plot.jpeg peer_out.PEER.cov\u001b[0m\n",
      "INFO: Workflow PEER (ID=w68fde3c21715931b) is executed successfully with 1 completed step.\n"
     ]
    }
   ],
   "source": [
    "sos run PEER_factor.ipynb PEER \\\n",
    "        --molecular_pheno PEER_example_data/Peer_example_data.bed \\\n",
    "        --covariate_file PEER_example_data/Peer_example_cov.txt \\\n",
    "        --container_apex rtibiocloud/peer:1.3_8d39ff8 \\\n",
    "        --wd . \\\n",
    "        --N 10"
   ]
  },
  {
   "cell_type": "code",
   "execution_count": 47,
   "id": "handy-queensland",
   "metadata": {
    "kernel": "Bash"
   },
   "outputs": [
    {
     "data": {
      "text/html": [
       "<div class=\"sos_hint\">> Peer_example_data_diagnosis_plot.jpeg (21.1 KiB):</div>"
      ],
      "text/plain": [
       "\n",
       "> Peer_example_data_diagnosis_plot.jpeg (21.1 KiB):"
      ]
     },
     "metadata": {},
     "output_type": "display_data"
    },
    {
     "data": {
      "image/jpeg": "[encoded data removed]"
     },
     "metadata": {
      "image/png": {}
     },
     "output_type": "display_data"
    },
    {
     "data": {
      "text/html": [
       "<div class=\"sos_hint\">> Peer_example_data_diagnosis_plot.jpeg:</div>"
      ],
      "text/plain": [
       ">>> Peer_example_data_diagnosis_plot.jpeg:\n"
      ]
     },
     "metadata": {},
     "output_type": "display_data"
    },
    {
     "name": "stdout",
     "output_type": "stream",
     "text": [
      "bash: ./Peer_example_data_diagnosis_plot.jpeg: Permission denied\n"
     ]
    }
   ],
   "source": [
    "%preview Peer_example_data_diagnosis_plot.jpeg "
   ]
  },
  {
   "cell_type": "markdown",
   "id": "pretty-transmission",
   "metadata": {
    "kernel": "Bash"
   },
   "source": [
    "## Reference:\n",
    "* Codes are adapted from [here](https://github.com/RTIInternational/biocloud_docker_tools/blob/master/peer/v1.3/run_peer.R)\n",
    "* GTEX recommandation of PEER factors is [here](https://gtexportal.org/home/documentationPage)\n",
    "* Examples by PEER is at [github](https://github.com/PMBio/peer/wiki/Tutorial)"
   ]
  },
  {
   "cell_type": "code",
   "execution_count": null,
   "id": "amber-expression",
   "metadata": {
    "kernel": "Bash"
   },
   "outputs": [],
   "source": []
  }
 ],
 "metadata": {
  "kernelspec": {
   "display_name": "SoS",
   "language": "sos",
   "name": "sos"
  },
  "language_info": {
   "codemirror_mode": "sos",
   "file_extension": ".sos",
   "mimetype": "text/x-sos",
   "name": "sos",
   "nbconvert_exporter": "sos_notebook.converter.SoS_Exporter",
   "pygments_lexer": "sos"
  },
  "sos": {
   "kernels": [
    [
     "Bash",
     "bash",
     "Bash",
     "#E6EEFF",
     "shell"
    ],
    [
     "R",
     "ir",
     "R",
     "#DCDCDA",
     "r"
    ],
    [
     "SoS",
     "sos",
     "",
     "",
     "sos"
    ]
   ],
   "version": "0.22.4"
  }
 },
 "nbformat": 4,
 "nbformat_minor": 5
}
