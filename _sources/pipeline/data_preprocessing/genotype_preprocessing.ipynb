{
 "cells": [
  {
   "cell_type": "markdown",
   "id": "brilliant-gauge",
   "metadata": {
    "kernel": "SoS",
    "tags": []
   },
   "source": [
    "# Genotype data preprocessing\n",
    "\n",
    "**FIXME: a general comment -- I am thinking this kind of notebook (that sits outside these folders) should be of a tutorial nature. It should only contain `sos run` commands interactively with enough text explanations. For those who want to run the default analysis they should work with `master_control.ipynb` and generate the commands to run as is. For those who want to customize the analysis, they should refer to each of these \"recipe\" and change the parameters here. That should cover 95% user cases. People will read the module notebooks only for learning purpose. For those who want to edit the module notebooks we will consider them developers or at least power users and I expect few of them.**\n",
    "\n",
    "\n",
    "**FIXME: specific comment -- this pipeline should contain GWAS QC, genotype formatting, GRM and LD calculations**\n",
    "\n",
    "This is the data processing pipeline for xqtl workflow, containing the generation of:\n",
    "1. Factor from expression\n",
    "2. PCA from genotype\n",
    "3. GRM from genotype\n",
    "4. LD from genotype, filtered by grm [TBD]\n",
    "5. Molecular_phenotype per chrom within selected regions in the format APEX and tensorQTL takes\n",
    "\n",
    "\n",
    "### Input\n",
    "The input for this workflow is 1 row of the input recipe file, documenting the path to\n",
    "1. 1 complete molecular_phenotype data\n",
    "2. 1 collection of genotype data in plink format, partitioned by chrm\n",
    "3. 1 file documenting the list of region to be analyzed\n",
    "4. \n",
    "\n",
    "\n",
    "### Output\n",
    "For each collection, the output is 23 sets of :\n",
    "1. EXP file for selected region\n",
    "2. genotype from vcf file\n",
    "\n",
    "1 sets of\n",
    "1. PCA + Factor + Covariate file\n",
    "\n",
    "### Excutable:\n",
    "This notebook depends on the scripts of multiple other notebook, the directory those are specify by exe_dir"
   ]
  },
  {
   "cell_type": "markdown",
   "id": "surprising-responsibility",
   "metadata": {
    "kernel": "SoS"
   },
   "source": [
    "## Process of Genotype data"
   ]
  },
  {
   "cell_type": "markdown",
   "id": "sweet-serum",
   "metadata": {
    "kernel": "SoS",
    "tags": []
   },
   "source": [
    "### QC for Missingness and MAF\n",
    "\n",
    "**FIXME: here you should improve GWAS_QC.ipynb so that it takes a list of genotypes. You only call `sos run GWAS_QC.ipynb` without having to do any preprocessing here.**\n"
   ]
  },
  {
   "cell_type": "code",
   "execution_count": null,
   "id": "impressive-plaintiff",
   "metadata": {
    "kernel": "SoS"
   },
   "outputs": [],
   "source": [
    "[genotype_qc_1]\n",
    "# List of Genotype file in plink trio format\n",
    "parameter: genotype_list = path\n",
    "chrom_list = [x.strip().split() for x in open(genotype_list).readlines() if x.strip() and not x.strip().startswith('#')]\n",
    "\n",
    "def extract(lst):\n",
    "    return [item[0] for item in lst]\n",
    "chrom = list(set(extract(chrom_list)))\n",
    "geno_inventory = dict([x.strip().split() for x in open(genotype_list).readlines() if x.strip() and not x.strip().startswith('#')])\n",
    "def get_genotype_file(chrom, genotype_list, geno_inventory):\n",
    "    chrom = f'{chrom}'\n",
    "    if chrom.startswith('chr'):\n",
    "        chrom = chrom[3:]\n",
    "    if chrom not in geno_inventory:\n",
    "        geno_file = f'{chrom}'\n",
    "    else:\n",
    "        geno_file = geno_inventory[chrom]\n",
    "    if not os.path.isfile(geno_file):\n",
    "        # relative path\n",
    "        if not os.path.isfile(f'{genotype_list:ad}/' + geno_file):\n",
    "            raise ValueError(f\"Cannot find genotype file {geno_file}\")\n",
    "        else:\n",
    "            geno_file = f'{genotype_list:ad}/' + geno_file\n",
    "    return path(geno_file)\n",
    "\n",
    "# The path to the file that contains the list of samples to remove (format FID, IID)\n",
    "parameter: remove_samples = path('.')\n",
    "# The path to the file that contains the list of samples to keep (format FID, IID)\n",
    "parameter: keep_samples = path('.')\n",
    "# The path to the file that contains the list of variants to keep\n",
    "parameter: keep_variants = path('.')\n",
    "# minimum MAF filter to use. Notice that PLINK default is 0.01\n",
    "parameter: maf_filter = 0.01\n",
    "# maximum MAF filter to use\n",
    "parameter: maf_max_filter = 0.0\n",
    "# Maximum missingess per-variant\n",
    "parameter: geno_filter = 0.01\n",
    "# Maximum missingness per-sample\n",
    "parameter: mind_filter = 0.02\n",
    "# HWE filter \n",
    "parameter: hwe_filter = 5e-08\n",
    "\n",
    "\n",
    "\n",
    "fail_if(not (keep_samples.is_file() or keep_samples == path('.')), msg = f'Cannot find ``{keep_samples}``')\n",
    "fail_if(not (keep_variants.is_file() or keep_variants == path('.')), msg = f'Cannot find ``{keep_variants}``')\n",
    "fail_if(not (remove_samples.is_file() or remove_samples == path('.')), msg = f'Cannot find ``{remove_samples}``')\n",
    "\n",
    "input: genotype_list, for_each = \"chrom\"\n",
    "geno_file = get_genotype_file(_chrom, genotype_list, geno_inventory)\n",
    "output: f'{wd}/Genotype/{geno_file:bn}.{name}.filtered{\".extracted\" if keep_variants.is_file() else \"\"}.bed'\n",
    "bash:  expand= \"$[ ]\", stderr = f'{_output:n}.stderr', stdout = f'{_output:n}.stdout'\n",
    "        sos run $[exe_dir]/Data_Processing/Genotype/GWAS_QC.ipynb qc:1 \\\n",
    "            --cwd $[wd]/Genotype/ \\\n",
    "            --container_lmm $[container_lmm] \\\n",
    "            --name $[name] \\\n",
    "            --numThreads $[numThreads] \\\n",
    "            --genoFile $[geno_file:a] \\\n",
    "            --remove_samples   $[remove_samples] \\\n",
    "            --keep_samples   $[keep_samples] \\\n",
    "            --keep_variants    $[keep_variants ] \\\n",
    "            --maf_filter   $[maf_filter] \\\n",
    "            --maf_max_filter   $[maf_max_filter] \\\n",
    "            --geno_filter   $[geno_filter] \\\n",
    "            --mind_filter   $[mind_filter] \\\n",
    "            --hwe_filter   $[hwe_filter] "
   ]
  },
  {
   "cell_type": "code",
   "execution_count": null,
   "id": "intimate-garden",
   "metadata": {
    "kernel": "SoS"
   },
   "outputs": [],
   "source": [
    "Generate a reciepe to document the filtered-ed genotype "
   ]
  },
  {
   "cell_type": "code",
   "execution_count": null,
   "id": "charged-apparel",
   "metadata": {
    "kernel": "SoS"
   },
   "outputs": [],
   "source": [
    "[genotype_qc_2]\n",
    "# List of Genotype file in plink trio format\n",
    "parameter: genotype_list = path\n",
    "chrom_list = [x.strip().split() for x in open(genotype_list).readlines() if x.strip() and not x.strip().startswith('#')]\n",
    "def extract(lst):\n",
    "    return [item[0] for item in lst]\n",
    "chrom = list(set(extract(chrom_list)))\n",
    "input: group_by = \"all\"\n",
    "output: qced_plink_genotype_list = f'{wd:a}/Genotype/{name}.filtered.plink.genotype_list'\n",
    "R: expand= \"$[ ]\", stderr = f'{_output[0]}.stderr', stdout = f'{_output[0]}.stdout'\n",
    "    library(\"dplyr\")\n",
    "    library(\"tibble\")\n",
    "    library(\"readr\")\n",
    "    library(\"purrr\")\n",
    "    chrom = c('$[\"','\".join(chrom)]')\n",
    "    file = c($[_input:r,])\n",
    "    table = tibble(`#chr` = chrom, dir = file)\n",
    "    table%>%write_delim($[_output:r],\"\\t\")"
   ]
  },
  {
   "cell_type": "markdown",
   "id": "sacred-replacement",
   "metadata": {
    "kernel": "SoS"
   },
   "source": [
    "### PLINK2VCF\n",
    "This step takes genotype_list documenting filtered plink file(output from genotype qc), turn them into vcf format so that APEX can used and also create a list documenting them"
   ]
  },
  {
   "cell_type": "code",
   "execution_count": null,
   "id": "measured-delay",
   "metadata": {
    "kernel": "SoS"
   },
   "outputs": [],
   "source": [
    "[plink2vcf]\n",
    "# The output genotype list from genotype qc 2: 1.list of plink, 2.passed basic filtering\n",
    "input: named_output(\"qced_plink_genotype_list\")\n",
    "output: qced_vcf_genotype_list = f'{wd:a}/Genotype/{name}_vcf_geno/{name}.vcf_geno_list.txt'\n",
    "bash:  expand= \"$[ ]\", stderr = f'{_output:n}.stderr', stdout = f'{_output:n}.stdout'\n",
    "    sos run $[exe_dir]/Data_Processing/Genotype/plink2VCF.ipynb plink2vcf \\\n",
    "            --wd $[wd]/Genotype/ \\\n",
    "            --container $[container_apex] \\\n",
    "            --name $[name] \\\n",
    "            --numThreads $[numThreads] \\\n",
    "            --genotype_list $[_input] \\\n",
    "            -J $[J] -q $[queue] -c $[yml]"
   ]
  },
  {
   "cell_type": "markdown",
   "id": "harmful-elizabeth",
   "metadata": {
    "kernel": "SoS",
    "tags": []
   },
   "source": [
    "### PCA\n",
    "This is a five step workflow that act on a list qced genotype file to generate a genome wide PCA\n",
    "1. Merge all the plink from the raw data via qc(same criterio as genotype_filtering)[FIXME: this can be simplify by using the qced file directly?].\n",
    "2. Estimate and Filtered by whole genome kinship\n",
    "3. LD prunning\n",
    "4. PCA\n",
    "5. Project back PCA result"
   ]
  },
  {
   "cell_type": "code",
   "execution_count": null,
   "id": "worst-cross",
   "metadata": {
    "kernel": "SoS"
   },
   "outputs": [],
   "source": [
    "[merge_plink]\n",
    "# List of unfiltered Genotype file in plink trio format, not output from genotype_2\n",
    "parameter: genotype_list = path\n",
    "chrom_list = [x.strip().split() for x in open(genotype_list).readlines() if x.strip() and not x.strip().startswith('#')]\n",
    "def extract(lst):\n",
    "    return [item[0] for item in lst]\n",
    "chrom = list(set(extract(chrom_list)))\n",
    "geno_inventory = [x.strip().split() for x in open(genotype_list).readlines() if x.strip() and not x.strip().startswith('#')]\n",
    "geno_file = [geno_inventory[i][1] for i in range(len(chrom)) ]\n",
    "\n",
    "input: geno_file\n",
    "output: merge_plink = f\"{wd}/Genotype/PCA/{name}.bed\"\n",
    "bash:  expand= \"$[ ]\", stderr = f'{_output:n}.stderr', stdout = f'{_output:n}.stdout'\n",
    "    sos run $[exe_dir]/Data_Processing/Genotype/GWAS_QC.ipynb merge_plink \\\n",
    "            --cwd $[wd]/Genotype/PCA/ \\\n",
    "            --container_lmm $[container_lmm] \\\n",
    "            --name $[name] \\\n",
    "            --numThreads $[numThreads] \\\n",
    "            --genoFile $[_input] \\\n",
    "            --merged_prefix $[name] \n"
   ]
  },
  {
   "cell_type": "code",
   "execution_count": null,
   "id": "simplified-pontiac",
   "metadata": {
    "kernel": "SoS"
   },
   "outputs": [],
   "source": [
    "[king]\n",
    "# Merged Genotype file in plink trio format\n",
    "# Name of the analysis\n",
    "# kinship cutoff\n",
    "parameter: kinship = 0.0625\n",
    "# Otherwise (use `--no-maximize-unrelated`) the entire family will be removed\n",
    "parameter: maximize_unrelated = \"F\"\n",
    "input: output_from(\"merge_plink\")[\"merge_plink\"]\n",
    "output: king =  f\"{wd}/Genotype/PCA/{_input:bn}.{name}.related_id\"\n",
    "bash:  expand= \"$[ ]\", stderr = f'{_output:n}.stderr', stdout = f'{_output:n}.stdout'\n",
    "    sos run $[exe_dir]/Data_Processing/Genotype/GWAS_QC.ipynb king \\\n",
    "            --cwd $[wd]/Genotype/PCA/ \\\n",
    "            --container_lmm $[container_lmm] \\\n",
    "            --name $[name] \\\n",
    "            --numThreads $[numThreads] \\\n",
    "            --genoFile $[_input:a] \\\n",
    "            --kinship $[kinship] \n",
    "\n",
    "\n",
    "\n"
   ]
  },
  {
   "cell_type": "code",
   "execution_count": null,
   "id": "sonic-interstate",
   "metadata": {
    "kernel": "SoS"
   },
   "outputs": [],
   "source": []
  },
  {
   "cell_type": "code",
   "execution_count": null,
   "id": "warming-special",
   "metadata": {
    "kernel": "SoS"
   },
   "outputs": [],
   "source": [
    "[pca_unrelated_sample]\n",
    "# Merged Genotype file in plink trio format\n",
    "# minimum MAF filter to use. Notice that PLINK default is 0.01\n",
    "parameter: maf_filter = 0.01\n",
    "# maximum MAF filter to use\n",
    "parameter: maf_max_filter = 0.0\n",
    "# Maximum missingess per-variant\n",
    "parameter: geno_filter = 0.01\n",
    "# Maximum missingness per-sample\n",
    "parameter: mind_filter = 0.02\n",
    "# HWE filter \n",
    "parameter: hwe_filter = 5e-08\n",
    "\n",
    "input: output_from(\"merge_plink\") ,  output_from(\"king\")\n",
    "output: pca_unrelated_sample = f'{wd}/Genotype/PCA/{_input[0]:bn}.{name}.unrelated.bed', \n",
    "        keep_variants = f'{wd}/Genotype/PCA/{_input[0]:bn}.{name}.filtered.prune.in'\n",
    "bash:  expand= \"$[ ]\", stderr = f'{_output[0]:n}.stderr', stdout = f'{_output[0]:n}.stdout'\n",
    "        sos run $[exe_dir]/Data_Processing/Genotype/GWAS_QC.ipynb qc \\\n",
    "            --cwd $[wd]/Genotype/PCA/ \\\n",
    "            --container_lmm $[container_lmm] \\\n",
    "            --name $[name] \\\n",
    "            --numThreads $[numThreads] \\\n",
    "            --genoFile $[_input[0]:a] \\\n",
    "            --remove_samples   $[_input[1]:a] \\\n",
    "            --maf_filter   $[maf_filter] \\\n",
    "            --maf_max_filter   $[maf_max_filter] \\\n",
    "            --geno_filter   $[geno_filter] \\\n",
    "            --mind_filter   $[mind_filter] \\\n",
    "            --hwe_filter   $[hwe_filter] \\\n",
    "            --merged_name $[_output[0]:n] "
   ]
  },
  {
   "cell_type": "code",
   "execution_count": null,
   "id": "supposed-court",
   "metadata": {
    "kernel": "SoS"
   },
   "outputs": [],
   "source": [
    "[pca_related_sample]\n",
    "# The path to the file that contains the list of samples to keep (format FID, IID)\n",
    "parameter: keep_samples = f\"{wd}/Genotype/PCA/cache/{name}.related_id\"\n",
    "parameter: geno_file = f\"{wd}/Genotype/PCA/cache/{name}.bed\"\n",
    "# The path to the file that contains the list of variants to keep\n",
    "input: output_from(\"merge_plink\"), output_from(\"pca_unrelated_sample\")[\"keep_variants\"], output_from(\"king\")\n",
    "output: f'{_input[0]:ann}.related.bed'\n",
    "bash:  expand= \"$[ ]\", stderr = f'{_output:n}.stderr', stdout = f'{_output:n}.stdout'\n",
    "        sos run $[exe_dir]/Data_Processing/Genotype/GWAS_QC.ipynb qc:1 \\\n",
    "            --cwd $[wd]/Genotype/PCA/ \\\n",
    "            --container_lmm $[container_lmm] \\\n",
    "            --name $[name] \\\n",
    "            --numThreads $[numThreads] \\\n",
    "            --genoFile $[_input[0]] \\\n",
    "            --keep_samples   $[_input[2]] \\\n",
    "            --keep_variants    $[_input[1]] \\\n",
    "            --maf_filter  0 \\\n",
    "            --maf_max_filter   0 \\\n",
    "            --geno_filter   0 \\\n",
    "            --mind_filter   0 \\\n",
    "            --hwe_filter   0 \\\n",
    "            --merged_name $[_output[0]:n] "
   ]
  },
  {
   "cell_type": "code",
   "execution_count": null,
   "id": "collected-cameroon",
   "metadata": {
    "kernel": "SoS"
   },
   "outputs": [],
   "source": [
    "[pca_model]\n",
    "# Plink binary file\n",
    "## The phenotypic file\n",
    "# Number of Principal Components to output. Default is 10\n",
    "parameter: k = 3\n",
    "# Number of Principal Components based on which outliers should be evaluated. Default is 5 but this should be based on examine the scree plot\n",
    "parameter: maha_k = 3\n",
    "# POPS in pca\n",
    "parameter: pops = \"RACE_1\"\n",
    "# Homogeneity of populations. Set to --homogeneous when true and --no-homogeneous when false\n",
    "parameter: homogeneous = False\n",
    "# The path to the file that contains the list of samples to keep (format FID, IID)\n",
    "parameter: keep_samples = f\"{wd}/Genotype/PCA/cache/{name}.related_id\"\n",
    "\n",
    "input: output_from(\"pca_unrelated_sample\")[\"pca_unrelated_sample\"] ,  output_from(\"phenoFile_mod\")[\"phenoFile_mod\"]\n",
    "output: pca_model =  f'{wd}/Genotype/PCA/{_input[1]:bn}.exp.pca.rds'\n",
    "bash: expand= \"$[ ]\", stderr = f'{_output:n}.stderr', stdout = f'{_output:n}.stdout'\n",
    "        sos run $[exe_dir]/Data_Processing/Genotype/PCA.ipynb flashpca:1 \\\n",
    "            --cwd $[wd]/Genotype/PCA/ \\\n",
    "            --container_lmm $[container_lmm] \\\n",
    "            --name $[name] \\\n",
    "            --numThreads $[numThreads] \\\n",
    "            --genoFile $[_input[0]:a] \\\n",
    "            --phenoFile $[_input[1]:a] \\\n",
    "            --label_col \"RACE\" \\\n",
    "            --k $[k] \\\n",
    "            --maha_k $[maha_k] \\\n",
    "            --pop_col \"RACE\" \\\n",
    "            --pops $[pops]   \\\n",
    "            --homogeneous $[homogeneous] "
   ]
  },
  {
   "cell_type": "code",
   "execution_count": null,
   "id": "geographic-clinton",
   "metadata": {
    "kernel": "SoS"
   },
   "outputs": [],
   "source": [
    "[project_sample]\n",
    "## Plink binary file\n",
    "## The phenotypic file, in bed\n",
    "## The PCA model, in rds\n",
    "## Population lable: 2 column: iid + RACE\n",
    "# Number of Principal Components to output. Default is 10\n",
    "parameter: k = 3\n",
    "# Number of Principal Components based on which outliers should be evaluated. Default is 5 but this should be based on examine the scree plot\n",
    "parameter: maha_k = 3\n",
    "# Homogeneity of populations. Set to --homogeneous when true and --no-homogeneous when false\n",
    "parameter: homogeneous = False\n",
    "parameter: prob = 0.8\n",
    "parameter: pval = 0.05\n",
    "\n",
    "input: output_from(\"pca_unrelated_sample\")[\"pca_unrelated_sample\"],  output_from(\"phenoFile_mod\")[\"phenoFile_mod\"] ,  output_from(\"pca_model\")[\"pca_model\"]\n",
    "output: project_sample = f'{_input[1]:n}.pca.projected.rds'\n",
    "bash: expand= \"$[ ]\", stderr = f'{_output:n}.stderr', stdout = f'{_output:n}.stdout'\n",
    "        sos run $[exe_dir]/Data_Processing/Genotype/PCA.ipynb project_samples:1 \\\n",
    "            --cwd $[wd]/Genotype/PCA/ \\\n",
    "            --container_lmm $[container_lmm] \\\n",
    "            --name $[name] \\\n",
    "            --numThreads $[numThreads] \\\n",
    "            --genoFile $[_input[0]:a] \\\n",
    "            --phenoFile $[_input[1]:a] \\\n",
    "            --pca_model $[_input[2]:a] \\\n",
    "            --pop_col \"RACE\" \\\n",
    "            --label_col \"RACE\" \\\n",
    "            --prob $[prob] \\\n",
    "            --pval $[pval] \\\n",
    "            --k $[k] \\\n",
    "            --maha_k $[maha_k]"
   ]
  },
  {
   "cell_type": "code",
   "execution_count": null,
   "id": "wanted-giant",
   "metadata": {
    "kernel": "SoS"
   },
   "outputs": [],
   "source": [
    "[pca_factor]\n",
    "## PCA models\n",
    "input: output_from(\"project_sample\")[\"project_sample\"], output_from(\"Factor_analysis\")[\"Factor_analysis\"]\n",
    "output: pca_factor = f'{_input[1]:n}.pca.cov'\n",
    "R: expand= \"$[ ]\", stderr = f'{_output:n}.stderr', stdout = f'{_output:n}.stdout'\n",
    "        library(\"dplyr\")\n",
    "        library(\"tibble\")\n",
    "        library(\"readr\")\n",
    "        library(\"modelr\")\n",
    "        library(\"purrr\")\n",
    "        pca_output = readRDS(\"$[_input[0]]\")$pc_scores\n",
    "        mtx = pca_output%>%select(contains(\"PC\"))%>%t()\n",
    "        colnames(mtx) <- pca_output$IID\n",
    "        mtx = mtx%>%as_tibble()%>%mutate(\"#id\" = rownames(mtx))%>%select(\"#id\",everything())\n",
    "        factor_cov = read_delim(\"$[_input[1]]\",\"\\t\")\n",
    "        output = bind_rows(factor_cov,mtx)\n",
    "        output%>%write_delim(\"$[_output]\",\"\\t\")"
   ]
  },
  {
   "cell_type": "code",
   "execution_count": null,
   "id": "married-cooperation",
   "metadata": {
    "kernel": "SoS"
   },
   "outputs": [],
   "source": []
  },
  {
   "cell_type": "code",
   "execution_count": null,
   "id": "binary-mattress",
   "metadata": {
    "kernel": "SoS"
   },
   "outputs": [],
   "source": []
  },
  {
   "cell_type": "markdown",
   "id": "numerical-parking",
   "metadata": {
    "kernel": "SoS"
   },
   "source": [
    "### LOCO GRM by GCTA \n",
    "GRM was used due to the advantage of gcta where seperate sets of bfile can be feeded to generate the grm result without merging them. A list of bfile that are used to generate the GRM are listed"
   ]
  },
  {
   "cell_type": "code",
   "execution_count": null,
   "id": "driving-postcard",
   "metadata": {
    "kernel": "SoS",
    "tags": []
   },
   "outputs": [],
   "source": [
    "[GRM]\n",
    "# List of Genotype file in plink trio format\n",
    "parameter: genotype_list = path\n",
    "input: genotype_list\n",
    "output: GRM =  f'{wd:a}/Genotype/GRM/{name}.grm_list.txt'\n",
    "bash: expand = \"$[ ]\", stderr = f'{_output[0]}.stderr', stdout = f'{_output[0]}.stdout'\n",
    "        sos run $[exe_dir]/Data_Processing/Genotype/LOCO_GRM.ipynb GRM \\\n",
    "            --wd $[wd]/Genotype/ \\\n",
    "            --container $[container] \\\n",
    "            --name $[name] \\\n",
    "            --numThreads $[numThreads] \\\n",
    "            --genotype_list $[genotype_list] \\\n",
    "            -J $[J] -q $[queue] -c $[yml]"
   ]
  }
 ],
 "metadata": {
  "kernelspec": {
   "display_name": "SoS",
   "language": "sos",
   "name": "sos"
  },
  "language_info": {
   "codemirror_mode": "sos",
   "file_extension": ".sos",
   "mimetype": "text/x-sos",
   "name": "sos",
   "nbconvert_exporter": "sos_notebook.converter.SoS_Exporter",
   "pygments_lexer": "sos"
  },
  "sos": {
   "kernels": [
    [
     "Bash",
     "bash",
     "Bash",
     "#E6EEFF",
     ""
    ],
    [
     "SoS",
     "sos",
     "",
     "",
     "sos"
    ]
   ],
   "version": "0.22.6"
  }
 },
 "nbformat": 4,
 "nbformat_minor": 5
}
