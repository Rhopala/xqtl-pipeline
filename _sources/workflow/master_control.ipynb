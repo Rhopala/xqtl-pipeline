{
 "cells": [
  {
   "cell_type": "markdown",
   "id": "floppy-norman",
   "metadata": {
    "kernel": "SoS",
    "tags": []
   },
   "source": [
    "# xQTL master workflow template\n",
    "This notebook provide a master control on the XQTL workflow so it can works on multiple data collection as proposed.\n",
    "Input:\n",
    "    A recipe file,each row is a data collection and with the following column:\n",
    "    \n",
    "    Theme\n",
    "        name of dataset, must be different, each uni_study analysis will be performed in a folder named after each, meta analysis will be performed in a folder named as {study1}_{study2}\n",
    "            \n",
    "        The column name must contain the # and be the first column\n",
    "    \n",
    "    genotype_list\n",
    "        {Path to file}\n",
    "    \n",
    "    molecular_pheno\n",
    "        {Path to file}\n",
    "    region_list (list of regions to be analzed)\n",
    "        {Path to file}\n",
    "    \n",
    "    covariate_file\n",
    "        {Path to file}\n",
    "    \n",
    "    factor_analysis_opt\n",
    "        \"APEX\" vs \"PEER\" for factor analysis\n",
    "    \n",
    "    LD options:\n",
    "        \"In-sample\" LD vs {path to reference panel}\n",
    "    \n",
    "    QTL_tool_option\n",
    "        \"APEX\" vs \"TensorQTL\" for QTL association\n",
    "    \n",
    "    QTL_analysis_option\n",
    "        {Int for cis window} vs \"trans\"\n",
    "    \n",
    "    Populations\n",
    "        The populations from which of the samples was drawn\n",
    "    \n",
    "    Conditions:\n",
    "        The nature of molecular phenotype\n",
    "    \n",
    "    ### note: Only data collection from the same Populations and conditions will me merged to perform Fix effect meta analysis\n",
    "    \n",
    "Output:\n",
    "    ..."
   ]
  },
  {
   "cell_type": "markdown",
   "id": "colored-apple",
   "metadata": {
    "kernel": "SoS"
   },
   "source": [
    "## Generation of MWE\n",
    "This is the code to generate the mwe recipe and LD_recipe on csg cluster"
   ]
  },
  {
   "cell_type": "code",
   "execution_count": null,
   "id": "dried-wages",
   "metadata": {
    "kernel": "SoS"
   },
   "outputs": [],
   "source": [
    "Recipe_temp = pd.DataFrame( {\"Theme\" : [\"AC\",\"DLPFC\",\"PCC\"] ,\n",
    "                \"genotype_list\" : [\"/home/hs3163/GIT/ADSPFG-xQTL/MWE/mwe_genotype_list\",\n",
    "                   \"/home/hs3163/GIT/ADSPFG-xQTL/MWE/mwe_genotype_list\",\n",
    "                   \"/home/hs3163/GIT/ADSPFG-xQTL/MWE/mwe_genotype_list\"],\n",
    "                \"molecular_pheno\" : [\"/home/hs3163/Project/Rosmap/data/gene_exp/AC/geneTpmResidualsAgeGenderAdj_rename.txt\",\n",
    "                     \"/home/hs3163/Project/Rosmap/data/gene_exp/DLPFC/geneTpmResidualsAgeGenderAdj_rename.txt\",\n",
    "                     \"/home/hs3163/Project/Rosmap/data/gene_exp/PCC/geneTpmResidualsAgeGenderAdj_rename.txt\"],\n",
    "                \"region_list\" : [\"~/GIT/ADSPFG-xQTL/MWE/mwe_region\",\n",
    "                \"~/GIT/ADSPFG-xQTL/MWE/mwe_region\",\n",
    "                \"~/GIT/ADSPFG-xQTL/MWE/mwe_region\"] ,\n",
    "                \"covariate_file\" : [\"/home/hs3163/GIT/ADSPFG-xQTL/MWE/MWE.cov\",\"/home/hs3163/GIT/ADSPFG-xQTL/MWE/MWE.cov\",\"/home/hs3163/GIT/ADSPFG-xQTL/MWE/MWE.cov\"],\n",
    "                \"factor_analysis_opt\" : [\"APEX\",\"APEX\",\"APEX\"],\n",
    "                \"LD_Recipe\": [\"~/GIT/ADSPFG-xQTL/MWE/LD_Recipe\",\"~/GIT/ADSPFG-xQTL/MWE/LD_Recipe\",\"~/GIT/ADSPFG-xQTL/MWE/LD_Recipe\"],\n",
    "                \"QTL_tool_option\" : [\"APEX\",\"APEX\",\"APEX\"],\n",
    "                \"QTL_analysis_option\" : [\"cis\",\"cis\",\"cis\"],\n",
    "                \"cis_windows\" : [500000,500000,5000000],\n",
    "                \"Metal\" : [\"T\",\"T\",\"F\"]}).to_csv(\"/home/hs3163/GIT/ADSPFG-xQTL/MWE/mwe_recipe_example\",\"\\t\")\n",
    "\n",
    "        ### note: Only data collection from the same Populations and conditions will me merged to perform Fix effect meta analysis\n",
    "    "
   ]
  },
  {
   "cell_type": "code",
   "execution_count": null,
   "id": "tutorial-azerbaijan",
   "metadata": {
    "kernel": "SoS"
   },
   "outputs": [],
   "source": [
    "pd.DataFrame({\"ld_file_prefix\" : [\"/mnt/mfs/statgen/neuro-twas/mv_wg/cache_arch/cache/geneTpmResidualsAgeGenderAdj_rename.\"],\n",
    "               \"ld_file_surfix\" : [\".merged.ld.rds\"]}).to_csv(\"~/GIT/ADSPFG-xQTL/MWE/LD_Recipe\",sep = \"\\t\")"
   ]
  },
  {
   "cell_type": "markdown",
   "id": "massive-catholic",
   "metadata": {
    "kernel": "SoS"
   },
   "source": [
    "## Example for running the workflow\n",
    "This will run the workflow from via several submission and save the output to nohup.out"
   ]
  },
  {
   "cell_type": "code",
   "execution_count": null,
   "id": "original-emphasis",
   "metadata": {
    "kernel": "SoS"
   },
   "outputs": [],
   "source": [
    "nohup sos run /home/hs3163/GIT/ADSPFG-xQTL/workflow/master_control.ipynb Fine_mapping \\\n",
    "        --recipe /home/hs3163/GIT/ADSPFG-xQTL/MWE/mwe_recipe_example \\\n",
    "        --wd ./ \\\n",
    "        --exe_dir \"~/GIT/ADSPFG-xQTL/workflow\" -J 50 -q csg -c ~/GIT/ADSPFG-xQTL/code/csg.yml -s build &"
   ]
  },
  {
   "cell_type": "markdown",
   "id": "loose-connectivity",
   "metadata": {
    "kernel": "SoS"
   },
   "source": [
    "## Other example workflow:\n",
    "These command run each of the substep to test them individually"
   ]
  },
  {
   "cell_type": "code",
   "execution_count": null,
   "id": "chinese-priest",
   "metadata": {
    "kernel": "SoS"
   },
   "outputs": [],
   "source": [
    "\n",
    "\n",
    "sos run /home/hs3163/GIT/ADSPFG-xQTL/workflow/master_control.ipynb QTL \\\n",
    "        --recipe /home/hs3163/GIT/ADSPFG-xQTL/MWE/mwe_recipe_example \\\n",
    "        --wd ./ \\\n",
    "        --exe_dir \"~/GIT/ADSPFG-xQTL/workflow\"\n",
    "\n",
    "sos dryrun /home/hs3163/GIT/ADSPFG-xQTL/workflow/master_control.ipynb Meta \\\n",
    "        --recipe /home/hs3163/GIT/ADSPFG-xQTL/MWE/mwe_recipe_example \\\n",
    "        --wd ./ \\\n",
    "        --exe_dir \"~/GIT/ADSPFG-xQTL/workflow\" \n",
    "\n",
    "sos dryrun /home/hs3163/GIT/ADSPFG-xQTL/workflow/master_control.ipynb Fine_mapping \\\n",
    "        --recipe /home/hs3163/GIT/ADSPFG-xQTL/MWE/mwe_recipe_example \\\n",
    "        --wd ./ \\\n",
    "        --exe_dir \"~/GIT/ADSPFG-xQTL/workflow\" \n",
    "\n",
    "\n"
   ]
  },
  {
   "cell_type": "code",
   "execution_count": null,
   "id": "egyptian-window",
   "metadata": {
    "kernel": "SoS"
   },
   "outputs": [],
   "source": [
    "[global]\n",
    "## The aforementioned input recipe\n",
    "parameter: recipe = path\n",
    "## Overall wd, the file structure of analysis is wd/[steps]/[sub_dir for each steps]\n",
    "parameter:  wd = path(\".\")\n",
    "## Diretory to the excutable\n",
    "parameter: exe_dir = path(\"~/GIT/ADSPFG-xQTL/workflow\")\n",
    "\n",
    "parameter: container = '/mnt/mfs/statgen/containers/twas_latest.sif'\n",
    "parameter: container_lmm = '/mnt/mfs/statgen/containers/lmm.sif'\n",
    "parameter: container_apex = '/mnt/mfs/statgen/containers/apex.sif'\n",
    "\n",
    "import pandas as pd\n",
    "input_inv = pd.read_csv(recipe, sep = \"\\t\")\n",
    "Metal_theme = input_inv.query(\"Metal == 'T'\")[\"Theme\"].to_list()\n",
    "Metal_theme_str = \"-\".join(Metal_theme)\n",
    "Non_Metal_theme = input_inv.query(\"Metal != 'T'\")[\"Theme\"].to_list()\n",
    "Non_Metal_theme.append(Metal_theme_str)\n",
    "Theme_Prefix = \"_\".join(Non_Metal_theme)\n",
    "\n",
    "parameter: LD_Recipe  = path(input_inv[\"LD_Recipe\"][0])\n",
    "input_inv = input_inv.to_dict(\"records\")\n"
   ]
  },
  {
   "cell_type": "markdown",
   "id": "roman-schedule",
   "metadata": {
    "kernel": "SoS",
    "tags": []
   },
   "source": [
    "## Data Processing\n",
    "For each theme a new recipe\n"
   ]
  },
  {
   "cell_type": "code",
   "execution_count": null,
   "id": "composite-investigation",
   "metadata": {
    "kernel": "SoS"
   },
   "outputs": [],
   "source": [
    "[data_proc]\n",
    "input: for_each = \"input_inv\"\n",
    "output: f'{wd}/Data_Processing/{_input_inv[\"Theme\"]}.data_proc_output_recipe.tsv'\n",
    "task: trunk_workers = 1, trunk_size = 1, walltime = '24h',  mem = '40G', tags = f'{step_name}_{_output[0]:bn}'\n",
    "bash:  expand = \"$[ ]\", stderr = f'{_output[0]}.stderr', stdout = f'{_output[0]}.stdout'\n",
    "    sos run $[exe_dir]/Data_Processing/Data_Processing.ipynb Recipe \\\n",
    "        --molecular_pheno_whole $[_input_inv[\"molecular_pheno\"]] \\\n",
    "        --region_list $[_input_inv[\"region_list\"]] \\\n",
    "        --genotype_list $[_input_inv[\"genotype_list\"]] \\\n",
    "        --covariate $[_input_inv[\"covariate_file\"]] \\\n",
    "        --name $[_input_inv[\"Theme\"]] \\\n",
    "        --container_lmm $[container_lmm] \\\n",
    "        --container $[container] \\\n",
    "        --container_apex $[container_apex] \\\n",
    "        --wd $[wd:a]/Data_Processing/ \\\n",
    "        --factor_option $[_input_inv[\"factor_analysis_opt\"]]"
   ]
  },
  {
   "cell_type": "code",
   "execution_count": null,
   "id": "downtown-yahoo",
   "metadata": {
    "kernel": "SoS"
   },
   "outputs": [],
   "source": [
    "sos dryrun /home/hs3163/GIT/ADSPFG-xQTL/workflow/Data_Processing/Factor_and_Covariate/factor.ipynb APEX  \\\n",
    "    --wd /mnt/mfs/statgen/xqtl_workflow_testing/testing_1/Data_Processing/Factor_and_Covariate/ \\\n",
    "    --container_apex /mnt/mfs/statgen/containers/apex.sif \\\n",
    "    --name AC \\\n",
    "    --numThreads 20 \\\n",
    "    --molecular_pheno /mnt/mfs/statgen/xqtl_workflow_testing/testing_1/Data_Processing/Phenotype/AC.mol_phe.bed.gz \\\n",
    "    --covariate /home/hs3163/GIT/ADSPFG-xQTL/MWE/MWE.cov \\\n",
    "    --N 4 \\\n",
    "    --Alpha_a 0.001  \\\n",
    "    --Alpha_b 0.1 \\\n",
    "    --Eps_a  0.1 \\\n",
    "    --Eps_b  10.0 \\\n",
    "    --tol  0.001 \\\n",
    "    --var_tol 1e-08 \\\n",
    "    -J 200 -q csg -c /home/hs3163/GIT/ADSPFG-xQTL/code/csg.yml"
   ]
  },
  {
   "cell_type": "markdown",
   "id": "impaired-information",
   "metadata": {
    "kernel": "SoS"
   },
   "source": [
    "### Example:\n",
    "\n",
    "sos dryrun /home/hs3163/GIT/ADSPFG-xQTL/workflow/Data_Processing/Data_Processing.ipynb genotype_qc \\\n",
    "    --molecular_pheno_whole /home/hs3163/Project/Rosmap/data/gene_exp/AC/geneTpmResidualsAgeGenderAdj_rename.txt \\\n",
    "    --region_list ~/GIT/ADSPFG-xQTL/MWE/mwe_region \\\n",
    "    --genotype_list /home/hs3163/GIT/ADSPFG-xQTL/MWE/mwe_genotype_list \\\n",
    "    --covariate /home/hs3163/GIT/ADSPFG-xQTL/MWE/MWE.cov \\\n",
    "    --name AC \\\n",
    "    --container_lmm /mnt/mfs/statgen/containers/lmm.sif \\\n",
    "    --container /mnt/mfs/statgen/containers/twas_latest.sif \\\n",
    "    --container_apex '/mnt/mfs/statgen/containers/apex.sif' \\\n",
    "    --wd /mnt/mfs/statgen/xqtl_workflow_testing/testing_complete/Data_Processing/ \n",
    "    \n",
    "sos run /home/hs3163/GIT/ADSPFG-xQTL/workflow/Data_Processing/Data_Processing.ipynb Recipe \\\n",
    "    --molecular_pheno_whole /home/hs3163/Project/Rosmap/data/gene_exp/AC/geneTpmResidualsAgeGenderAdj_rename.txt \\\n",
    "    --region_list ~/GIT/ADSPFG-xQTL/MWE/mwe_region \\\n",
    "    --genotype_list /home/hs3163/GIT/ADSPFG-xQTL/MWE/mwe_genotype_list \\\n",
    "    --covariate /home/hs3163/GIT/ADSPFG-xQTL/MWE/MWE.cov \\\n",
    "    --name AC \\\n",
    "    --container_lmm /mnt/mfs/statgen/containers/lmm.sif \\\n",
    "    --container /mnt/mfs/statgen/containers/twas_latest.sif \\\n",
    "    --container_apex '/mnt/mfs/statgen/containers/apex.sif' \\\n",
    "    --wd /mnt/mfs/statgen/xqtl_workflow_testing/testing_2/Data_Processing/ \n",
    "    \n"
   ]
  },
  {
   "cell_type": "code",
   "execution_count": null,
   "id": "innocent-smell",
   "metadata": {
    "kernel": "SoS"
   },
   "outputs": [],
   "source": [
    "sos run /home/hs3163/GIT/ADSPFG-xQTL/workflow/Data_Processing/Data_Processing.ipynb Recipe \\\n",
    "    --molecular_pheno_whole /home/hs3163/Project/Rosmap/data/gene_exp/PCC/geneTpmResidualsAgeGenderAdj_rename.txt \\\n",
    "    --region_list ~/GIT/ADSPFG-xQTL/MWE/mwe_region \\\n",
    "    --genotype_list /home/hs3163/GIT/ADSPFG-xQTL/MWE/mwe_genotype_list \\\n",
    "    --covariate /home/hs3163/GIT/ADSPFG-xQTL/MWE/MWE.cov \\\n",
    "    --name PCC \\\n",
    "    --container_lmm /mnt/mfs/statgen/containers/lmm.sif \\\n",
    "    --container /mnt/mfs/statgen/containers/twas_latest.sif \\\n",
    "    --container_apex /mnt/mfs/statgen/containers/apex.sif \\\n",
    "    --wd /mnt/mfs/statgen/xqtl_workflow_testing/testing_3/Data_Processing/ \\\n",
    "    --factor_option APEX -s force"
   ]
  },
  {
   "cell_type": "code",
   "execution_count": null,
   "id": "superior-appliance",
   "metadata": {
    "kernel": "SoS"
   },
   "outputs": [],
   "source": [
    "sos run /home/hs3163/GIT/ADSPFG-xQTL/workflow/Data_Processing/Factor_and_Covariate/factor.ipynb APEX  \\\n",
    "    --wd /mnt/mfs/statgen/xqtl_workflow_testing/testing_1/Data_Processing/Factor_and_Covariate/ \\\n",
    "    --container_apex /mnt/mfs/statgen/containers/apex.sif \\\n",
    "    --name AC \\\n",
    "    --numThreads 20 \\\n",
    "    --molecular_pheno /mnt/mfs/statgen/xqtl_workflow_testing/testing_complete/Data_Processing/Phenotype/AC.mol_phe.bed.gz \\\n",
    "    --covariate /home/hs3163/GIT/ADSPFG-xQTL/MWE/MWE.cov \\\n",
    "    --N 4 \\\n",
    "    --Alpha_a 0.001  \\\n",
    "    --Alpha_b 0.1 \\\n",
    "    --Eps_a  0.1 \\\n",
    "    --Eps_b  10.0 \\\n",
    "    --tol  0.001 \\\n",
    "    --var_tol 1e-08 \\\n",
    "    -J 200 -q csg -c /home/hs3163/GIT/ADSPFG-xQTL/code/csg.yml"
   ]
  },
  {
   "cell_type": "markdown",
   "id": "continuing-gravity",
   "metadata": {
    "kernel": "SoS"
   },
   "source": [
    "sos run /home/hs3163/GIT/ADSPFG-xQTL/workflow/Data_Processing/Factor_and_Covariate/factor.ipynb APEX  \\\n",
    "    --wd /mnt/mfs/statgen/xqtl_workflow_testing/testing_complete/Data_Processing/Factor_and_Covariate/ \\\n",
    "    --container_apex /mnt/mfs/statgen/containers/apex.sif \\\n",
    "    --name AC \\\n",
    "    --numThreads 20 \\\n",
    "    --molecular_pheno /mnt/mfs/statgen/xqtl_workflow_testing/testing_complete/Data_Processing/Phenotype/AC.mol_phe.bed.gz \\\n",
    "    --covariate /home/hs3163/GIT/ADSPFG-xQTL/MWE/MWE.cov \\\n",
    "    --N 4 \\\n",
    "    --Alpha_a 0.001  \\\n",
    "    --Alpha_b 0.1 \\\n",
    "    --Eps_a  0.1 \\\n",
    "    --Eps_b  10.0 \\\n",
    "    --tol  0.001 \\\n",
    "    --var_tol 1e-08 \\\n",
    "    -J 200 -q csg -c /home/hs3163/GIT/ADSPFG-xQTL/code/csg.yml## QTL Association\n",
    "Input: \n",
    "Each data proc recipe fed into a QTL to generate a new recipe\n",
    "Output: for each theme a new recipe\n",
    "\n",
    "It is assumed that every theme have the same amount of chromosome and in the same order"
   ]
  },
  {
   "cell_type": "code",
   "execution_count": null,
   "id": "theoretical-falls",
   "metadata": {
    "kernel": "SoS"
   },
   "outputs": [],
   "source": []
  },
  {
   "cell_type": "code",
   "execution_count": null,
   "id": "electrical-phoenix",
   "metadata": {
    "kernel": "SoS"
   },
   "outputs": [],
   "source": [
    "[QTL_1]\n",
    "input: output_from(\"data_proc\"),group_with = \"input_inv\"\n",
    "output: f'{wd:a}/QTL_association/{_input_inv[\"Theme\"]}.{_input_inv[\"QTL_tool_option\"]}_{_input_inv[\"QTL_analysis_option\"]}_QTL_recipe.tsv'\n",
    "task: trunk_workers = 1, trunk_size = 1, walltime = '24h',  mem = '40G', tags = f'{step_name}_{_output[0]:bn}'\n",
    "bash:  expand = \"$[ ]\", stderr = f'{_output[0]}.stderr', stdout = f'{_output[0]}.stdout'\n",
    "    sos run $[exe_dir]/QTL_association/QTL_association.ipynb $[_input_inv[\"QTL_tool_option\"]]_$[_input_inv[\"QTL_analysis_option\"]]_Recipe \\\n",
    "        --recipe $[_input[0]] \\\n",
    "        --container $[container_apex] \\\n",
    "        --window $[_input_inv[\"cis_windows\"]] \\\n",
    "        --name $[_input_inv[\"Theme\"]]  \\\n",
    "        --wd $[wd:a]/QTL_association/"
   ]
  },
  {
   "cell_type": "code",
   "execution_count": null,
   "id": "distinct-manitoba",
   "metadata": {
    "kernel": "SoS"
   },
   "outputs": [],
   "source": [
    "nohup sos run /home/hs3163/GIT/ADSPFG-xQTL/workflow/QTL_association/QTL_association.ipynb APEX_cis_Recipe \\\n",
    "    --recipe Data_Processing/AC.data_proc_output_recipe.tsv \\\n",
    "    --container /mnt/mfs/statgen/containers/apex.sif \\\n",
    "    --window 500000 \\\n",
    "    --name AC  \\\n",
    "    --wd /mnt/mfs/statgen/xqtl_workflow_testing/testing_1/QTL_association/ -J 200 -q csg -c /home/hs3163/GIT/ADSPFG-xQTL/code/csg.yml"
   ]
  },
  {
   "cell_type": "code",
   "execution_count": null,
   "id": "sitting-friend",
   "metadata": {
    "kernel": "SoS"
   },
   "outputs": [],
   "source": [
    "[QTL_2]\n",
    "input: group_by = \"all\"  \n",
    "output: f'{_input[0]:d}/sumstat_list'\n",
    "python: expand = \"$[ ]\", stderr = f'{_output[0]}.stderr', stdout = f'{_output[0]}.stdout'\n",
    "    import pandas as pd\n",
    "    input_list = [$[_input:r,]]\n",
    "    input_inv = $[input_inv]\n",
    "    chr_temp = [int(x[0].split(\".\")[-5].replace(\"chr\",\"\")) for x in  pd.read_csv(input_list[0]).values.tolist()]\n",
    "    sumstat_list = pd.DataFrame({\"chr\" : chr_temp })\n",
    "    for x in range(0,len(input_list)):\n",
    "        sumstat_list = sumstat_list.assign(**{input_inv[x][\"Theme\"] : pd.read_csv(input_list[x])} )\n",
    "    sumstat_list.to_csv(\"$[_output]\", index = 0 , sep = \"\\t\")"
   ]
  },
  {
   "cell_type": "markdown",
   "id": "criminal-astronomy",
   "metadata": {
    "kernel": "SoS"
   },
   "source": [
    "## Meta Analysis\n",
    "Input: A recipe generated from the combination of previouse steps\n",
    "Output: 1 Recipe\n",
    "        Prior\n",
    "        vcf"
   ]
  },
  {
   "cell_type": "code",
   "execution_count": null,
   "id": "cooperative-connection",
   "metadata": {
    "kernel": "SoS"
   },
   "outputs": [],
   "source": [
    "[Meta]\n",
    "input: output_from(\"QTL_2\")\n",
    "output: f'{wd}/Meta_analysis/Fine_mapping_recipe.txt'\n",
    "task: trunk_workers = 1, trunk_size = 1, walltime = '24h',  mem = '40G', tags = f'{step_name}_{_output[0]:bn}'\n",
    "bash:  expand = \"$[ ]\", stderr = f'{_output[0]}.stderr', stdout = f'{_output[0]}.stdout'\n",
    "    sos run $[exe_dir]/Meta_Analysis/Meta_Analysis.ipynb Recipe \\\n",
    "        --sumstat_list_path $[_input:a] \\\n",
    "        --region_list $[input_inv[0][\"region_list\"]] \\\n",
    "        --container $[container] \\\n",
    "        --wd $[wd:a]/Meta_analysis/ \\\n",
    "        --METAL_theme_str $[\",\".join(Metal_theme)]"
   ]
  },
  {
   "cell_type": "code",
   "execution_count": null,
   "id": "patient-submission",
   "metadata": {
    "kernel": "SoS"
   },
   "outputs": [],
   "source": [
    "sos dryrun /home/hs3163/GIT/ADSPFG-xQTL/workflow/Meta_Analysis/Meta_Analysis.ipynb Recipe \\\n",
    "    --sumstat_list_path /mnt/mfs/statgen/xqtl_workflow_testing/testing_5/QTL_association/sumstat_list \\\n",
    "    --region_list ~/GIT/ADSPFG-xQTL/MWE/mwe_region \\\n",
    "    --container /mnt/mfs/statgen/containers/twas_latest.sif \\\n",
    "    --wd /mnt/mfs/statgen/xqtl_workflow_testing/testing_5/Meta_analysis/ \\\n",
    "    --METAL_theme_str AC,DLPFC"
   ]
  },
  {
   "cell_type": "markdown",
   "id": "sound-modem",
   "metadata": {
    "kernel": "SoS"
   },
   "source": [
    "## Fine mapping\n",
    "Input: Recipe\n",
    "Output: Recipe\n",
    "        Prior\n",
    "        vcf"
   ]
  },
  {
   "cell_type": "code",
   "execution_count": null,
   "id": "preceding-retro",
   "metadata": {
    "kernel": "SoS"
   },
   "outputs": [],
   "source": [
    "[Fine_mapping]\n",
    "input: output_from(\"Meta\")\n",
    "output: f'{wd}/Fine_Mapping/{Theme_Prefix}.unisusie_rss.output_list.txt',\n",
    "        f'{wd}/Fine_Mapping/{Theme_Prefix}.mvsusie_rss.output_list.txt'\n",
    "#task: trunk_workers = 1, trunk_size = 1, walltime = '24h',  mem = '40G', tags = f'{step_name}_{_output[0]:bn}'\n",
    "bash: expand = \"$[ ]\", stderr = f'{_output[0]}.stderr', stdout = f'{_output[0]}.stdout'\n",
    "    sos run $[exe_dir]/Fine_Mapping/SumStat/SuSiE_RSS.ipynb Fine_mapping \\\n",
    "        --recipe $[_input:a] \\\n",
    "        --LD_Recipe $[LD_Recipe:a] \\\n",
    "        --container $[container] \\\n",
    "        --wd $[wd:a]/Fine_Mapping/ \\\n",
    "        --Theme_prefix $[Theme_Prefix] # \\\n",
    "        -J 50 -q csg -c ~/GIT/ADSPFG-xQTL/code/csg.yml &"
   ]
  },
  {
   "cell_type": "code",
   "execution_count": null,
   "id": "pressing-experience",
   "metadata": {
    "kernel": "SoS"
   },
   "outputs": [],
   "source": [
    "sos dryrun /home/hs3163/GIT/ADSPFG-xQTL/workflow/Fine_Mapping/SumStat/SuSiE_RSS.ipynb MvSuSiE_summary_stats_analysis \\\n",
    "    --recipe /mnt/mfs/statgen/xqtl_workflow_testing/testing_1/Meta_analysis/Fine_mapping_recipe.txt \\\n",
    "    --LD_Recipe /home/hs3163/pand \\\n",
    "    --container /mnt/mfs/statgen/containers/twas_latest.sif \\\n",
    "    --wd /mnt/mfs/statgen/xqtl_workflow_testing/testing_1/Fine_mapping/ \\\n",
    "    --Theme_prefix AC_DLPFC_PCC"
   ]
  }
 ],
 "metadata": {
  "kernelspec": {
   "display_name": "SoS",
   "language": "sos",
   "name": "sos"
  },
  "language_info": {
   "codemirror_mode": "sos",
   "file_extension": ".sos",
   "mimetype": "text/x-sos",
   "name": "sos",
   "nbconvert_exporter": "sos_notebook.converter.SoS_Exporter",
   "pygments_lexer": "sos"
  },
  "sos": {
   "kernels": [
    [
     "SoS",
     "sos",
     "",
     ""
    ]
   ],
   "version": "0.22.6"
  }
 },
 "nbformat": 4,
 "nbformat_minor": 5
}
