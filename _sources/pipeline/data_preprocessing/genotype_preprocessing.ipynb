{
 "cells": [
  {
   "cell_type": "markdown",
   "id": "brilliant-gauge",
   "metadata": {
    "kernel": "SoS",
    "tags": []
   },
   "source": [
    "# Genotype data preprocessing\n",
    "\n",
    "\n",
    "1. **This tutorial contains examples on running the light yellow, dark yellow, and red section of the following diagram.**\n",
    "2. **Each commands in this tutorials should be run once per theme**\n",
    "\n",
    "![captain](../../images/Data_proc_flowchart.png)"
   ]
  },
  {
   "cell_type": "markdown",
   "id": "a4344caa-5157-4dfc-9c3d-7f99958ea443",
   "metadata": {
    "kernel": "SoS"
   },
   "source": [
    "## Genotype QC(light yellow)\n",
    "\n",
    "Input:\n",
    "1. List of plink genotype per chrom\n",
    "\n",
    "Output:\n",
    "1. List of qced, LD-pruned, per chrom plink trio\n",
    "2. qced, LD-pruned, whole genome plink trio\n",
    "3. unrelated samples from 2\n",
    "4. related samples from 2\n",
    "\n"
   ]
  },
  {
   "cell_type": "code",
   "execution_count": null,
   "id": "1ac51bbb-ef96-4f61-84d1-a66de8db6108",
   "metadata": {
    "kernel": "SoS"
   },
   "outputs": [],
   "source": [
    "nohup sos run  /home/hs3163/GIT/xqtl-pipeline/pipeline/data_preprocessing/genotype/GWAS_QC.ipynb qc \\\n",
    "    --genotype_list /mnt/mfs/statgen/ROSMAP_xqtl/Rosmap_wgs_genotype_list.txt \\\n",
    "    --cwd /mnt/mfs/statgen/xqtl_workflow_testing/demo/AC/GWAS_QC/ \\\n",
    "    --name \"ac\" \\\n",
    "    --container_lmm \"/mnt/mfs/statgen/containers/xqtl_pipeline_sif/base-bioinfo.sif\" &"
   ]
  },
  {
   "cell_type": "code",
   "execution_count": null,
   "id": "855fdeff-740f-47c1-9e37-58a80bc2b775",
   "metadata": {
    "kernel": "SoS"
   },
   "outputs": [],
   "source": [
    "/home/hs3163/Project/Rosmap/data/gene_exp/AC/geneTpmResidualsAgeGenderAdj_rename_region_list.txt"
   ]
  },
  {
   "cell_type": "markdown",
   "id": "578c632e-d459-4e3b-9030-b5cf893cc4f8",
   "metadata": {
    "kernel": "SoS"
   },
   "source": [
    "## Reformatting and partition(dark yellow)"
   ]
  },
  {
   "cell_type": "code",
   "execution_count": null,
   "id": "4bb3aba7-6974-4273-91de-6b76189a5c12",
   "metadata": {
    "kernel": "SoS"
   },
   "outputs": [],
   "source": [
    "\n",
    "nohup sos run  /home/hs3163/GIT/xqtl-pipeline/pipeline/data_preprocessing/genotype/genotype_formatting.ipynb plink2vcf\\\n",
    "    --genoFile /mnt/mfs/statgen/xqtl_workflow_testing/demo/AC/GWAS_QC/ac.mergrd.ac.filtered.prune.bed \\\n",
    "    --wd /mnt/mfs/statgen/xqtl_workflow_testing/demo/AC/genotype_reformmating/ \\\n",
    "    --name \"ac\" \\\n",
    "    --region_list /home/hs3163/Project/Rosmap/data/gene_exp/AC/geneTpmResidualsAgeGenderAdj_rename_region_list.txt  \\\n",
    "    --container \"/mnt/mfs/statgen/containers/xqtl_pipeline_sif/base-bioinfo.sif\" &\n",
    "\n",
    "nohup sos run  /home/hs3163/GIT/xqtl-pipeline/pipeline/data_preprocessing/genotype/genotype_formatting.ipynb plink_by_gene \\\n",
    "    --genoFile /mnt/mfs/statgen/xqtl_workflow_testing/demo/DLPFC/GWAS_QC/ac.mergrd.ac.filtered.prune.bed \\\n",
    "    --wd /mnt/mfs/statgen/xqtl_workflow_testing/demo/AC/genotype_reformmating/ \\\n",
    "    --name \"dlpfc\" \\\n",
    "    --region_list /home/hs3163/GIT/ADSPFG-xQTL/MWE/mwe_region  \\\n",
    "    --container \"/mnt/mfs/statgen/containers/xqtl_pipeline_sif/base-bioinfo.sif\" &\n",
    "\n",
    "nohup sos run  /home/hs3163/GIT/xqtl-pipeline/pipeline/data_preprocessing/genotype/genotype_formatting.ipynb plink_by_chrom \\\n",
    "    --genoFile /mnt/mfs/statgen/xqtl_workflow_testing/demo/AC/GWAS_QC/ac.mergrd.ac.filtered.prune.bed \\\n",
    "    --wd /mnt/mfs/statgen/xqtl_workflow_testing/demo/AC/genotype_reformmating/ \\\n",
    "    --name \"pcc\" \\\n",
    "    --region_list /home/hs3163/GIT/ADSPFG-xQTL/MWE/mwe_region  \\\n",
    "    --container \"/mnt/mfs/statgen/containers/xqtl_pipeline_sif/base-bioinfo.sif\" &"
   ]
  },
  {
   "cell_type": "markdown",
   "id": "f619af26-c2f6-4ed2-bf87-07aa57502c38",
   "metadata": {
    "kernel": "SoS"
   },
   "source": [
    "## LD (Red)\n",
    "input: a list of plink trio per gene\n",
    "\n",
    "output: \n",
    "1. A collection of ld.rds file that are suitable for mvsusie_rss and susie_rss, all in 1 folder\n",
    "2. One row of the LD recipe file for this particular theme, so that susie_rss can find the correct ld\n"
   ]
  },
  {
   "cell_type": "code",
   "execution_count": null,
   "id": "05430309-dbff-45e6-a0ab-56a9ae74b55e",
   "metadata": {
    "kernel": "SoS"
   },
   "outputs": [],
   "source": [
    "nohup sos run  /home/hs3163/GIT/xqtl-pipeline/pipeline/data_preprocessing/genotype/LD.ipynb LD \\\n",
    "    --genotype_list /mnt/mfs/statgen/xqtl_workflow_testing/module/genotype_format/demo_per_gene_plink/plink_per_gene_list \\\n",
    "    --wd /mnt/mfs/statgen/xqtl_workflow_testing/demo/LD/  \\\n",
    "    --name \"demo\" \\\n",
    "    --container \"/mnt/mfs/statgen/containers/xqtl_pipeline_sif/base-bioinfo.sif\" &"
   ]
  },
  {
   "cell_type": "markdown",
   "id": "2ec2cb1e-b424-4eb9-b2c8-9dbbbdf3324b",
   "metadata": {
    "kernel": "SoS"
   },
   "source": [
    "## GRM\n",
    "input:\n",
    "1. A list of plink trio per chrom, output from Genotype QC\n",
    "\n",
    "output: \n",
    "1. A collection of ld.rds file that are suitable for mvsusie_rss and susie_rss\n",
    "2. One row of the LD recipe file for this particular theme, so that susie_rss can find the correct ld"
   ]
  },
  {
   "cell_type": "code",
   "execution_count": null,
   "id": "06c5785b-c7c0-4048-a772-cf424354a5e5",
   "metadata": {
    "kernel": "SoS"
   },
   "outputs": [],
   "source": [
    "nohup sos run  /home/hs3163/GIT/xqtl-pipeline/pipeline/data_preprocessing/genotype/GRM.ipynb  GRM\\\n",
    "    --genotype_list /mnt/mfs/statgen/xqtl_workflow_testing/demo/GWAS_QC/demo.processed_genotype.plink_per_chrom.recipe \\\n",
    "    --wd /mnt/mfs/statgen/xqtl_workflow_testing/demo/GRM/ \\\n",
    "    --name \"demo\" \\\n",
    "    --container \"/mnt/mfs/statgen/containers/xqtl_pipeline_sif/base-bioinfo.sif\" &"
   ]
  }
 ],
 "metadata": {
  "kernelspec": {
   "display_name": "SoS",
   "language": "sos",
   "name": "sos"
  },
  "language_info": {
   "codemirror_mode": "sos",
   "file_extension": ".sos",
   "mimetype": "text/x-sos",
   "name": "sos",
   "nbconvert_exporter": "sos_notebook.converter.SoS_Exporter",
   "pygments_lexer": "sos"
  },
  "sos": {
   "kernels": [
    [
     "Bash",
     "bash",
     "Bash",
     "#E6EEFF",
     ""
    ],
    [
     "SoS",
     "sos",
     "",
     "",
     "sos"
    ]
   ],
   "version": "0.22.6"
  }
 },
 "nbformat": 4,
 "nbformat_minor": 5
}
