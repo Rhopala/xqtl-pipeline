{
 "cells": [
  {
   "cell_type": "markdown",
   "id": "typical-nylon",
   "metadata": {
    "kernel": "SoS",
    "tags": []
   },
   "source": [
    "# MASH workflow\n",
    "This note book document the process of meta analysis. \n",
    "\n",
    "The output of QTL association will firstly be grouped based on whether they could be conducted meta analysis according to a METAL_theme_str input.\n",
    "\n",
    "Those that were grouped together will be fed into METAL and generate 1 sumstat for each chromosome. These sumstat will then be treated as the sumstat of a new theme, connected by -.\n",
    "\n",
    "all the non_METALED and the new theme will be partioned from chromosome into genes, and then merged together.\n",
    "\n",
    "For example, in a three theme study, AC, DLPFC, and PCC\n",
    "a METAL_theme_str of \"AC,DLPFC\" indicates AC and DLPFC are to be METALed. Their METAL result will be named as AC-DLPFC\n",
    "\n",
    "Then the AC-DLPFC and the PCC will each be partitioned and then merged together for downstream analysis.\n",
    "\n",
    "AC and DLPFC will not be analyzed individually anymore."
   ]
  },
  {
   "cell_type": "code",
   "execution_count": null,
   "id": "dimensional-prefix",
   "metadata": {
    "jp-MarkdownHeadingCollapsed": true,
    "kernel": "SoS",
    "tags": []
   },
   "outputs": [],
   "source": [
    "[global]\n",
    "import os\n",
    "# Work directory & output directory\n",
    "parameter: wd = \"./\"\n",
    "# The filename name for output data\n",
    "parameter: container = 'gaow/twas'\n",
    "# name for the analysis output\n",
    "parameter: name = 'ROSMAP'\n",
    "# For cluster jobs, number commands to run per job\n",
    "parameter: job_size = 1\n",
    "# Wall clock time expected\n",
    "parameter: walltime = \"5h\"\n",
    "# Memory expected\n",
    "parameter: mem = \"16G\"\n",
    "# Number of threads\n",
    "parameter: numThreads = 20\n",
    "# Diretory to the executable\n",
    "parameter: exe_dir = path(\"~/GIT/ADSPFG-xQTL/workflow\")\n",
    "# yml template\n",
    "parameter: yml = f'{exe_dir:d}/code/csg.yml'\n",
    "# queue for analysis\n",
    "parameter: queue = \"csg\"\n",
    "# Number of submission\n",
    "parameter: J = 200\n",
    "# Mash Options\n",
    "parameter: vhat = 'simple'\n",
    "parameter: region_list = path\n",
    "import csv\n",
    "import pandas as pd\n",
    "## A multi column file, each row is 1 chr, first col is chr, each subsqeunt a theme. each cell is the path to a sumstat file, which with following column format: variant_id, alt, ref, pval, beta, se ; \n",
    "parameter: sumstat_list_path = path\n",
    "sumstat_list =  pd.read_csv(sumstat_list_path,delimiter=\"\\t\")\n",
    "## A comma sep str that indicates what are the themes that goes into metal\n",
    "parameter: METAL_theme_str = \".\"\n",
    "\n",
    "\n",
    "## Retain the chr column as well\n",
    "METAL_theme = METAL_theme_str.split(\",\")\n",
    "METAL_theme_prefix = \"-\".join(METAL_theme)\n",
    "METAL_theme.append(\"chr\")\n",
    "METAL_list = sumstat_list[METAL_theme].values.tolist()\n",
    "Non_METAL_list= sumstat_list.drop(METAL_theme_str.split(\",\"),axis = 1)\n",
    "chrom = sumstat_list[\"chr\"].values.tolist()\n",
    "METALed_sumstat_list = Non_METAL_list.assign(**{METAL_theme_prefix : [f'{wd}/METAL/{METAL_theme_prefix}.chr{x}.METAL.txt' for x in chrom ]})\n",
    "Theme = METALed_sumstat_list.drop([\"chr\"],axis = 1).columns.values.tolist()\n",
    "Theme_list = pd.DataFrame({\"#Theme\" : [f'{wd}/sumstat/{x}' for x in Theme]})\n",
    "Theme_prefix = \"_\".join(Theme)\n"
   ]
  },
  {
   "cell_type": "markdown",
   "id": "uniform-bernard",
   "metadata": {
    "kernel": "Markdown",
    "tags": []
   },
   "source": [
    "## Extract effect\n"
   ]
  },
  {
   "cell_type": "code",
   "execution_count": null,
   "id": "welcome-persian",
   "metadata": {
    "kernel": "SoS"
   },
   "outputs": [],
   "source": [
    "[extract_effects]\n",
    "input: output_from(\"merge_and_alleleQC\")[\"merged_analysis_unit\"]\n",
    "output: extracted_effect = f'{wd}/sumstat/{Theme_prefix}.rds'\n",
    "bash: expand = \"$[ ]\", stderr = f'{_output[0]}.stderr', stdout = f'{_output[0]}.stdout'\n",
    "            sos run $[exe_dir]/Meta_Analysis/Reformatting/Signal_Extraction.ipynb extract_effects \\\n",
    "            --cwd $[wd]/sumstat/ \\\n",
    "            --container $[container] \\\n",
    "            --name $[Theme_prefix] \\\n",
    "            --analysis_units $[_input] \\\n",
    "            -J $[J] -q $[queue] -c $[yml]"
   ]
  },
  {
   "cell_type": "markdown",
   "id": "south-glucose",
   "metadata": {
    "kernel": "SoS"
   },
   "source": [
    "## Factor analysis and MASH Model"
   ]
  },
  {
   "cell_type": "code",
   "execution_count": null,
   "id": "conditional-hospital",
   "metadata": {
    "kernel": "SoS"
   },
   "outputs": [],
   "source": [
    "[MASH_FLASH]\n",
    "parameter: effect_model = 'EZ'\n",
    "parameter: mixture_components = ['flash', 'flash_nonneg', 'pca',\"canonical\"]\n",
    "input: output_from(\"extract_effects\")[\"extracted_effect\"]\n",
    "output: MASH_model = f\"{wd}/sumstat/{Theme_prefix}.{effect_model}.V_{vhat}.mash_model.rds\",\n",
    "        resid_corr = f\"{wd}/sumstat/{Theme_prefix}.{effect_model}.V_{vhat}.rds\",\n",
    "        flash_output = [f\"{wd}/sumstat/{Theme_prefix}.{m}.rds\" for m in mixture_components]\n",
    "bash: expand = \"$[ ]\", stderr = f'{_output[0]}.stderr', stdout = f'{_output[0]}.stdout'\n",
    "            sos run $[exe_dir]/Meta_Analysis/MASH/mashr_flashr_workflow.ipynb mash \\\n",
    "            --cwd $[wd]/sumstat/ \\\n",
    "            --container $[container] \\\n",
    "            --effect_model $[effect_model] \\\n",
    "            --vhat $[vhat] \\\n",
    "            --output_prefix $[Theme_prefix] \\\n",
    "            --data $[_input] \\\n",
    "            -J $[J] -q $[queue] -c $[yml]"
   ]
  },
  {
   "cell_type": "code",
   "execution_count": null,
   "id": "sharing-keeping",
   "metadata": {
    "kernel": "SoS"
   },
   "outputs": [],
   "source": []
  },
  {
   "cell_type": "markdown",
   "id": "sporting-chess",
   "metadata": {
    "kernel": "SoS",
    "tags": []
   },
   "source": [
    "## MASH Posterior"
   ]
  },
  {
   "cell_type": "code",
   "execution_count": null,
   "id": "useful-looking",
   "metadata": {
    "kernel": "SoS"
   },
   "outputs": [],
   "source": [
    "[MASH_posterior]\n",
    "parameter: effect_model = 'EZ'\n",
    "parameter: mixture_components = ['flash', 'flash_nonneg', 'pca',\"canonical\"]\n",
    "analysis_units = f'{wd}/sumstat/merged_analysis_unit.txt'\n",
    "regions = [x.replace(\"\\\"\",\"\").strip().split() for x in open(analysis_units).readlines() if x.strip() and not x.strip().startswith('#')]\n",
    "gene = [x[0] for x in regions]\n",
    "input: output_from(\"MASH_FLASH\")[\"MASH_model\"], regions\n",
    "output: mash_output_list = f'{wd}/sumstat/mash_output_list'\n",
    "bash: expand = \"$[ ]\", stderr = f'{_output[0]}.stderr', stdout = f'{_output[0]}.stdout'\n",
    "            sos run $[exe_dir]/Meta_Analysis/MASH/mash_posterior.ipynb  posterior \\\n",
    "            --cwd $[wd]/sumstat/ \\\n",
    "            --container $[container] \\\n",
    "            --mash_model $[_input[0]] \\\n",
    "            --vhat $[vhat] \\\n",
    "            --output_prefix $[Theme_prefix] \\\n",
    "            --posterior_input  $[\" \".join(gene)] \\\n",
    "            -J $[J] -q $[queue] -c $[yml]"
   ]
  },
  {
   "cell_type": "markdown",
   "id": "collected-criticism",
   "metadata": {
    "kernel": "SoS"
   },
   "source": [
    "## Mixture Prior"
   ]
  },
  {
   "cell_type": "code",
   "execution_count": null,
   "id": "decent-rings",
   "metadata": {
    "kernel": "SoS"
   },
   "outputs": [],
   "source": [
    "[Mixture_prior]\n",
    "parameter: effect_model = 'EZ'\n",
    "parameter: mixture_components = ['flash', 'flash_nonneg', 'pca',\"canonical\"]\n",
    "parameter: mixture_prior_method = \"ed_bovy\"\n",
    "input: output_from(\"MASH_FLASH\")[\"MASH_model\"], output_from(\"extract_effects\")[\"extracted_effect\"]\n",
    "analysis_units = f'{wd}/sumstat/merged_analysis_unit.txt'\n",
    "regions = [x.replace(\"\\\"\",\"\").strip().split() for x in open(analysis_units).readlines() if x.strip() and not x.strip().startswith('#')]\n",
    "output: mixture_prior = f'{wd}/../Fine_Mapping/Mixture_Prior/{Theme_prefix}.{mixture_prior_method}.V_{vhat}.rds'\n",
    "bash: expand = \"$[ ]\", stderr = f'{_output[0]}.stderr', stdout = f'{_output[0]}.stdout'\n",
    "            sos run $[exe_dir]/Meta_Analysis/MASH/mixture_prior.ipynb $[mixture_prior_method] \\\n",
    "            --cwd $[wd] \\\n",
    "            --container $[container] \\\n",
    "            --name $[Theme_prefix] \\\n",
    "            --vhat $[vhat] \\\n",
    "            --data  $[_input[1]] \\\n",
    "            --name $[Theme_prefix] \\\n",
    "            -J $[J] -q $[queue] -c $[yml]"
   ]
  },
  {
   "cell_type": "markdown",
   "id": "moving-rubber",
   "metadata": {
    "kernel": "SoS"
   },
   "source": [
    "## RDS to VCF"
   ]
  },
  {
   "cell_type": "code",
   "execution_count": null,
   "id": "cooked-congo",
   "metadata": {
    "kernel": "SoS"
   },
   "outputs": [],
   "source": [
    "[RDS2VCF]\n",
    "parameter: data_dir = path(\"/\")\n",
    "input: output_from(\"MASH_posterior\")[\"mash_output_list\"]\n",
    "output: f'{wd}/mash_vcf/vcf_output_list.txt'\n",
    "bash: expand = \"$[ ]\", stderr = f'{_output[0]}.stderr', stdout = f'{_output[0]}.stdout'\n",
    "        sos run $[exe_dir]/Meta_Analysis/Reformatting/RDS_to_vcf.ipynb rds_to_vcf \\\n",
    "            --wd $[wd]/ \\\n",
    "            --container $[container] \\\n",
    "            --name $[Theme_prefix] \\\n",
    "            --analysis_units $[_input] \\\n",
    "            --data_dir $[data_dir]  \\\n",
    "            -J $[J] -q $[queue] -c $[yml]"
   ]
  }
 ],
 "metadata": {
  "kernelspec": {
   "display_name": "SoS",
   "language": "sos",
   "name": "sos"
  },
  "language_info": {
   "codemirror_mode": "sos",
   "file_extension": ".sos",
   "mimetype": "text/x-sos",
   "name": "sos",
   "nbconvert_exporter": "sos_notebook.converter.SoS_Exporter",
   "pygments_lexer": "sos"
  },
  "sos": {
   "kernels": [
    [
     "Markdown",
     "markdown",
     "markdown",
     "",
     ""
    ]
   ],
   "version": "0.22.4"
  }
 },
 "nbformat": 4,
 "nbformat_minor": 5
}
