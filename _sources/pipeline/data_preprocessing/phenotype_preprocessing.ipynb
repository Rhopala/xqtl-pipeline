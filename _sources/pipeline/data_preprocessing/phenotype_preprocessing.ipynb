{
 "cells": [
  {
   "cell_type": "markdown",
   "id": "strong-craft",
   "metadata": {
    "kernel": "SoS",
    "tags": []
   },
   "source": [
    "# Phenotype data preprocessing\n",
    "\n",
    "\n",
    "**This tutorial contains examples on running the pink,blue,purple, and green section of the following diagram.**\n",
    "\n",
    "![captain](../../images/Data_proc_flowchart.png)"
   ]
  },
  {
   "cell_type": "markdown",
   "id": "fd00680a-aa78-4b3b-865c-45d31ae85441",
   "metadata": {
    "kernel": "SoS"
   },
   "source": [
    "## Normalization (pink)"
   ]
  },
  {
   "cell_type": "code",
   "execution_count": null,
   "id": "c38ded8f-5f11-48cf-a81f-53dc0afa8a6a",
   "metadata": {
    "kernel": "SoS"
   },
   "outputs": [],
   "source": [
    "cd /mnt/mfs/statgen/xqtl_workflow_testing/module/normailzation\n",
    "sos run /home/hs3163/GIT/xqtl-pipeline/pipeline/data_preprocessing/phenotype/normalization.ipynb Normalization  \\\n",
    "--counts_gct \"./geneCounts.gct\"         --tpm_gct \"./geneTpm.gct\"        \\\n",
    "--vcf_chr_list \"/mnt/mfs/statgen/xqtl_workflow_testing/expression_normalization/vcf_chrom_list\"     \\\n",
    "--sample_participant_lookup \"/mnt/mfs/statgen/xqtl_workflow_testing/expression_normalization/sampleSheetAfterQc.txt\"      \\\n",
    "--name \"demo\"         --script_dir \"/mnt/mfs/statgen/xqtl_workflow_testing/expression_normalization/\" --wd ./       \\\n",
    "--annotation_gtf /mnt/mfs/statgen/xqtl_workflow_testing/expression_normalization/gencode.v26.annotation.gtf.gz \\\n",
    "--container /mnt/mfs/statgen/containers/xqtl_pipeline_sif/base-bioinfo.sif -s force &"
   ]
  },
  {
   "cell_type": "markdown",
   "id": "d911cf0c-d634-44b2-aa02-a75670881498",
   "metadata": {
    "kernel": "SoS"
   },
   "source": [
    "## Annotation(Blue)\n",
    "**This cannot be ran without internet connection (i.e. in an computational node)**\n",
    "\n",
    "Ideally the input shall be the output of normalization, for the time being another similar file was used.\n",
    "\n"
   ]
  },
  {
   "cell_type": "code",
   "execution_count": null,
   "id": "b5913343-837f-4b90-b8f1-2aba2623b102",
   "metadata": {
    "kernel": "SoS"
   },
   "outputs": [],
   "source": [
    "nohup sos run /home/hs3163/GIT/xqtl-pipeline/pipeline/data_preprocessing/phenotype/annotation.ipynb annotation \\\n",
    "--molecular_pheno_whole /mnt/mfs/statgen/xqtl_workflow_testing/success_example/testing_10/Data_Processing/Phenotype/AC.mol_phe.bed  \\\n",
    "--wd /mnt/mfs/statgen/xqtl_workflow_testing/demo/annotation  \\\n",
    "--name \"demo\" --container \"/mnt/mfs/statgen/containers/xqtl_pipeline_sif/base-bioinfo.sif\" &"
   ]
  },
  {
   "cell_type": "code",
   "execution_count": null,
   "id": "1528b5aa-4b5f-48ca-a598-e38fabab9a82",
   "metadata": {
    "kernel": "SoS"
   },
   "outputs": [],
   "source": [
    "# ROSMAP\n",
    "nohup sos run /home/hs3163/GIT/xqtl-pipeline/pipeline/data_preprocessing/phenotype/annotation.ipynb annotation \\\n",
    "--molecular_pheno_whole  /home/hs3163/Project/Rosmap/data/gene_exp/AC/geneTpmResidualsAgeGenderAdj_rename.txt \\\n",
    "--wd ./  \\\n",
    "--name \"ROSMAP-AC\" --container \"/mnt/mfs/statgen/containers/xqtl_pipeline_sif/base-bioinfo.sif\" &"
   ]
  },
  {
   "cell_type": "markdown",
   "id": "64657e6c-7d3d-482c-b1f1-e39d1594f016",
   "metadata": {
    "kernel": "SoS"
   },
   "source": [
    "## Residual_Expression(Purple)\n",
    "When wengou's residual expression ready, use his, for the timebeing this works"
   ]
  },
  {
   "cell_type": "code",
   "execution_count": null,
   "id": "2f7552fd-e857-4d0f-b8da-f16bdebf2a1f",
   "metadata": {
    "kernel": "SoS"
   },
   "outputs": [],
   "source": [
    "nohup sos run /home/hs3163/GIT/xqtl-pipeline/pipeline/data_preprocessing/covariate/remove_covariates.ipynb Residual_Y \\\n",
    "--molecular_pheno_whole  /mnt/mfs/statgen/xqtl_workflow_testing/demo/annotation/AC.mol_phe.annotated.bed.gz \\\n",
    "--factor_covariate /mnt/mfs/statgen/xqtl_workflow_testing/success_example/testing_no_cov/Data_Processing/Factor_and_Covariate/AC.APEX.cov  \\\n",
    "--wd /mnt/mfs/statgen/xqtl_workflow_testing/demo/residual_Y/ \\\n",
    "--name \"demo\" --container \"/mnt/mfs/statgen/containers/xqtl_pipeline_sif/base-bioinfo.sif\" &"
   ]
  },
  {
   "cell_type": "markdown",
   "id": "db4545f7-b7b6-4d33-9c41-cab43ee0ae8d",
   "metadata": {
    "kernel": "SoS"
   },
   "source": [
    "## Phenotype reformmating(Green)"
   ]
  },
  {
   "cell_type": "code",
   "execution_count": null,
   "id": "7f0af1fe-f4ea-454c-9594-05f541208086",
   "metadata": {
    "kernel": "SoS"
   },
   "outputs": [],
   "source": [
    "nohup sos run /home/hs3163/GIT/xqtl-pipeline/pipeline/data_preprocessing/phenotype/phenotype_formatting.ipynb reformat \\\n",
    "--region_list /home/hs3163/GIT/ADSPFG-xQTL/MWE/mwe_region_long \\\n",
    "--molecular_pheno_whole /mnt/mfs/statgen/xqtl_workflow_testing/demo/residual_Y/demo.mol_phe.resid.bed.gz  \\\n",
    "--wd /mnt/mfs/statgen/xqtl_workflow_testing/demo/phenotype_reformat/  \\\n",
    "--name \"demo\" --container \"/mnt/mfs/statgen/containers/xqtl_pipeline_sif/base-bioinfo.sif\" &"
   ]
  }
 ],
 "metadata": {
  "kernelspec": {
   "display_name": "SoS",
   "language": "sos",
   "name": "sos"
  },
  "language_info": {
   "codemirror_mode": "sos",
   "file_extension": ".sos",
   "mimetype": "text/x-sos",
   "name": "sos",
   "nbconvert_exporter": "sos_notebook.converter.SoS_Exporter",
   "pygments_lexer": "sos"
  },
  "sos": {
   "kernels": [
    [
     "Bash",
     "bash",
     "Bash",
     "#E6EEFF",
     ""
    ],
    [
     "SoS",
     "sos",
     "",
     "",
     "sos"
    ]
   ],
   "version": "0.22.6"
  }
 },
 "nbformat": 4,
 "nbformat_minor": 5
}
