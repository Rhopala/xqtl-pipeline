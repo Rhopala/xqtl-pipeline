{
 "cells": [
  {
   "cell_type": "markdown",
   "id": "obvious-metadata",
   "metadata": {
    "kernel": "SoS",
    "tags": []
   },
   "source": [
    "# Genotype data formatting utilities\n",
    "\n",
    "This module implements a collection of workflows used to format genotype data."
   ]
  },
  {
   "cell_type": "markdown",
   "id": "convinced-spouse",
   "metadata": {
    "kernel": "SoS",
    "tags": []
   },
   "source": [
    "## Input"
   ]
  },
  {
   "cell_type": "markdown",
   "id": "deluxe-buyer",
   "metadata": {
    "kernel": "SoS",
    "tags": []
   },
   "source": [
    "The module streamlines conversion between PLINK and VCF formats (possibly more to add), specifically:\n",
    "\n",
    "1. Conversion between VCF and PLINK formats\n",
    "2. Split data by chromosomes\n",
    "3. Merge data by chromosomes\n",
    "4. Split data by genes\n",
    "\n",
    "Depending on the analysis task, input files are specified in one of the following formats:\n",
    "\n",
    "1. A single Whole genome data in VCF format, or in PLINK bim/bed/fam bundle; Or,\n",
    "2. A list of per chromosome VCF or PLINK data (without suffix)\n",
    "3. A file containing a list of per chromosome VCF or PLINK data (without suffix)"
   ]
  },
  {
   "cell_type": "markdown",
   "id": "genuine-memphis",
   "metadata": {
    "kernel": "SoS"
   },
   "source": [
    "## Output\n",
    "\n",
    "Genotype data after reformatting."
   ]
  },
  {
   "cell_type": "markdown",
   "id": "lightweight-handling",
   "metadata": {
    "kernel": "SoS"
   },
   "source": [
    "## Examples\n",
    "\n",
    "Minimal working example data-set as well as the singularity container `bioinfo.sif` can be downloaded from [Google Drive](https://drive.google.com/drive/u/0/folders/1ahIZGnmjcGwSd-BI91C9ayd_Ya8sB2ed).\n",
    "\n",
    "### PLINK file merger\n",
    "\n",
    "```\n",
    "sos run genotype_formatting.ipynb merge_plink \\\n",
    "    --genoFile data/genotype/chr1.bed data/genotype/chr6.bed \\\n",
    "    --cwd output/genotype \\\n",
    "    --name chr1_chr6 \\\n",
    "    --container container/bioinfo.sif\n",
    "```"
   ]
  },
  {
   "cell_type": "code",
   "execution_count": 2,
   "id": "fluid-smooth",
   "metadata": {
    "kernel": "SoS"
   },
   "outputs": [],
   "source": [
    "[global]\n",
    "import os\n",
    "# Work directory & output directory\n",
    "parameter: cwd = path\n",
    "# The filename name for containers\n",
    "parameter: container = ''\n",
    "# File prefix for the analysis output\n",
    "parameter: name = str\n",
    "# For cluster jobs, number commands to run per job\n",
    "parameter: job_size = 1\n",
    "# Wall clock time expected\n",
    "parameter: walltime = \"5h\"\n",
    "# Memory expected\n",
    "parameter: mem = \"16G\"\n",
    "# Number of threads\n",
    "parameter: numThreads = 20\n",
    "# the path to bed file for a merged, whole genomoe, Genotype file in plink trio format\n",
    "parameter: genoFile = path\n",
    "# Cis Windows\n",
    "parameter: window = 500000\n",
    "\n",
    "# Get the unique chormosome that have regions to be analyzed.\n",
    "def extract(lst):\n",
    "    return [item[0] for item in lst]\n",
    "\n",
    "import os\n",
    "\n",
    "\n",
    "# FIXME: think of input: be a file of regions?\n",
    "# Move away from global statement\n",
    "parameter: region_list = ''\n",
    "\n",
    "if region_list:\n",
    "    regions = [x.strip().split() for x in open(region_list).readlines() if x.strip() and not x.strip().startswith('#')]\n",
    "    chrom = list(set(extract(regions)))\n",
    "if not container:\n",
    "    container = None\n",
    "# use this function to edit memory string for PLINK input\n",
    "from sos.utils import expand_size\n",
    "cwd = f\"{cwd:a}\"\n",
    "# FIXME: For compatibility before I change everyting to `cwd`\n",
    "wd = cwd\n",
    "\n",
    "\n",
    "# List of Genotype file in plink trio format\n",
    "parameter: genotype_list = path\n",
    "\n",
    "chrom_list = [x.strip().split() for x in open(genotype_list).readlines() if x.strip() and not x.strip().startswith('#')]\n",
    "# Get the unique chormosome that have regions to be analyzed.\n",
    "def extract(lst):\n",
    "    return [item[0] for item in lst]\n",
    "chrom = list(set(extract(chrom_list)))\n",
    "\n",
    "import os\n",
    "import pandas as pd\n",
    "def get_genotype_file(chrom, genotype_list, geno_inventory):\n",
    "    chrom = f'{chrom}'\n",
    "    if chrom.startswith('chr'):\n",
    "        chrom = chrom[3:]\n",
    "    if chrom not in geno_inventory:\n",
    "        geno_file = f'{chrom}'\n",
    "    else:\n",
    "        geno_file = geno_inventory[chrom]\n",
    "    if not os.path.isfile(geno_file):\n",
    "        # relative path\n",
    "        if not os.path.isfile(f'{genotype_list:ad}/' + geno_file):\n",
    "            raise ValueError(f\"Cannot find genotype file {geno_file}\")\n",
    "        else:\n",
    "            geno_file = f'{genotype_list:ad}/' + geno_file\n",
    "    return path(geno_file)\n",
    "\n",
    "geno_inventory = dict([x.strip().split() for x in open(genotype_list).readlines() if x.strip() and not x.strip().startswith('#')])\n",
    "genotype_dir = path(pd.read_csv(genotype_list,sep = \"\\t\").values.tolist()[0][1])"
   ]
  },
  {
   "cell_type": "markdown",
   "id": "following-bradley",
   "metadata": {
    "kernel": "SoS",
    "tags": []
   },
   "source": [
    "### Plink to VCF transformation\n"
   ]
  },
  {
   "cell_type": "code",
   "execution_count": null,
   "id": "ceramic-drain",
   "metadata": {
    "kernel": "SoS"
   },
   "outputs": [],
   "source": [
    "[plink2vcf_1]\n",
    "input: genoFile, for_each = \"chrom\"\n",
    "output: f'{wd:a}/{name}_per_chrom_vcf/{name}_chr{_chrom}.vcf.gz',\n",
    "        f'{wd:a}/{name}_per_chrom_vcf/{name}_chr{_chrom}.vcf.gz.tbi'\n",
    "task: trunk_workers = 1, trunk_size = 1, walltime = '12h',  mem = '20G', tags = f'{step_name}_{_output[0]:bn}'\n",
    "bash: expand= \"$[ ]\", stderr = f'{_output[0]}.stderr', stdout = f'{_output[0]}.stdout', container = container, volumes = [f'{genoFile:ad}:{genoFile:ad}']\n",
    "    plink --bfile $[genoFile:n] \\\n",
    "    --recode vcf-iid       --out $[_output[0]:nn] --chr $[_chrom]\n",
    "    bgzip $[_output[0]:n]  \n",
    "    tabix -f -p vcf $[_output[0]]"
   ]
  },
  {
   "cell_type": "code",
   "execution_count": null,
   "id": "fixed-complement",
   "metadata": {
    "kernel": "SoS"
   },
   "outputs": [],
   "source": [
    "[plink2vcf_2]\n",
    "input: group_by = \"all\"\n",
    "output: f'{wd:a}/{name}_per_chrom_vcf/{name}.vcf_chrom_list.txt'\n",
    "task: trunk_workers = 1, trunk_size = 1, walltime = '12h',  mem = '20G', tags = f'{step_name}_{_output[0]:bn}'\n",
    "R: expand= \"$[ ]\", stderr = f'{_output[0]}.stderr', stdout = f'{_output[0]}.stdout', container = container, volumes = [f'{genoFile:ad}:{genoFile:ad}']\n",
    "    library(\"dplyr\")\n",
    "    library(\"tibble\")\n",
    "    library(\"readr\")\n",
    "    library(\"modelr\")\n",
    "    library(\"purrr\")\n",
    "    chrom = c($[\",\".join(chrom)])\n",
    "    dir = \"$[_output:nn]\"\n",
    "    geno_list = tibble(`#chr` = chrom, dir = map_chr(`#chr`,~paste(c(dir,\"_chr\",.x,\".vcf.gz\"),collapse =\"\")))%>%arrange(`#chr`)\n",
    "    geno_list%>%write_delim(\"$[_output]\",\"\\t\")"
   ]
  },
  {
   "cell_type": "markdown",
   "id": "natural-terrain",
   "metadata": {
    "kernel": "SoS"
   },
   "source": [
    "### Partition Plink by genes\n"
   ]
  },
  {
   "cell_type": "code",
   "execution_count": null,
   "id": "photographic-scanner",
   "metadata": {
    "kernel": "SoS"
   },
   "outputs": [],
   "source": [
    "[plink_by_gene_1]\n",
    "input: genoFile,  for_each = 'regions'\n",
    "output: f'{wd:a}/{name}_per_gene_plink/{_regions[3]}.bed'\n",
    "\n",
    "task: trunk_workers = 1, trunk_size = job_size, walltime = '12h',  mem = '6G', tags = f'{step_name}_{_output[0]:bn}'\n",
    "bash: expand= \"$[ ]\", stderr = f'{_output[0]}.stderr', stdout = f'{_output[0]}.stdout', container = container, volumes = [f'{genoFile:ad}:{genoFile:ad}']\n",
    "    ##### Get the locus genotypes for $[_regions[3]]\n",
    "    plink --bfile $[genoFile:an] \\\n",
    "    --make-bed \\\n",
    "    --out $[_output[0]:n] \\\n",
    "    --chr $[_regions[0]] \\\n",
    "    --from-bp $[f'1' if (int(_regions[1]) - window) < 0 else f'{(int(_regions[1]) - window)}'] \\\n",
    "    --to-bp $[int(_regions[2]) + window ] \\\n",
    "    --allow-no-sex || true\n",
    "    \n",
    "    touch $[_output]"
   ]
  },
  {
   "cell_type": "code",
   "execution_count": null,
   "id": "opposed-uncle",
   "metadata": {
    "kernel": "SoS"
   },
   "outputs": [],
   "source": [
    "[plink_by_gene_2]\n",
    "input: group_by = \"all\"\n",
    "output: f'{wd:a}/{name}_per_gene_plink/{name}.plink_gene_list.txt'\n",
    "import pandas as pd\n",
    "df = pd.DataFrame({\"region\" : [x[3] for x in regions] ,\"dir\" : _input})\n",
    "df.to_csv(_output,sep = \"\\t\",index = 0)"
   ]
  },
  {
   "cell_type": "markdown",
   "id": "apparent-joint",
   "metadata": {
    "kernel": "SoS"
   },
   "source": [
    "### Partition Plink by Chrom\n"
   ]
  },
  {
   "cell_type": "code",
   "execution_count": null,
   "id": "closed-praise",
   "metadata": {
    "kernel": "SoS"
   },
   "outputs": [],
   "source": [
    "[plink_by_chrom_1]\n",
    "input: genoFile, for_each = \"chrom\"\n",
    "output: f'{wd:a}/{name}_per_chrom_plink/{name}_chr{_chrom}.bed'\n",
    "# look up for genotype file\n",
    "task: trunk_workers = 1, trunk_size = job_size, walltime = '12h',  mem = '6G', tags = f'{step_name}_{_output[0]:bn}'\n",
    "bash: expand= \"$[ ]\", stderr = f'{_output[0]}.stderr', stdout = f'{_output[0]}.stdout', container = container, volumes = [f'{genoFile:ad}:{genoFile:ad}']\n",
    "    ##### Get the locus genotypes for $[_chrom]\n",
    "    plink --bfile $[_input:an] \\\n",
    "    --make-bed \\\n",
    "    --out $[_output[0]:n] \\\n",
    "    --chr $[_chrom[0]] \\\n",
    "    --allow-no-sex || true"
   ]
  },
  {
   "cell_type": "code",
   "execution_count": null,
   "id": "graduate-contamination",
   "metadata": {
    "kernel": "SoS"
   },
   "outputs": [],
   "source": [
    "[plink_by_chrom_2]\n",
    "input: group_by = \"all\"\n",
    "output: f'{wd:a}/{name}_per_chrom_plink/{name}.plink_chrom_list.txt'\n",
    "task: trunk_workers = 1, trunk_size = 1, walltime = '12h',  mem = '20G', tags = f'{step_name}_{_output[0]:bn}'\n",
    "R: expand= \"$[ ]\", stderr = f'{_output[0]}.stderr', stdout = f'{_output[0]}.stdout', container = container, volumes = [f'{genoFile:ad}:{genoFile:ad}']\n",
    "    library(\"dplyr\")\n",
    "    library(\"tibble\")\n",
    "    library(\"readr\")\n",
    "    library(\"modelr\")\n",
    "    library(\"purrr\")\n",
    "    chrom = c($[\",\".join(chrom)])\n",
    "    dir = \"$[_output:nn]\"\n",
    "    geno_list = tibble(`#chr` = chrom, dir = map_chr(`#chr`,~paste(c(dir,\"_chr\",.x,\".bed\"),collapse =\"\")))%>%arrange(`#chr`)\n",
    "    geno_list%>%write_delim(\"$[_output]\",\"\\t\")"
   ]
  },
  {
   "cell_type": "markdown",
   "id": "essential-daniel",
   "metadata": {
    "kernel": "SoS"
   },
   "source": [
    "## Merge plink files"
   ]
  },
  {
   "cell_type": "code",
   "execution_count": null,
   "id": "metropolitan-block",
   "metadata": {
    "kernel": "SoS"
   },
   "outputs": [],
   "source": [
    "[merge_plink]\n",
    "# Input is a list of PLINK bed files\n",
    "parameter: genoFile = paths\n",
    "skip_if(len(genoFile) == 1)\n",
    "input: genoFile, group_by = 'all'\n",
    "output: f\"{cwd}/{name}.merge_list\", f\"{cwd}/{name}.bed\"\n",
    "task: trunk_workers = 1, trunk_size = job_size, walltime = walltime, mem = mem, cores = numThreads, tags = f'{step_name}_{_output[1]:bn}'\n",
    "\n",
    "with open(_output[0], 'w') as f:\n",
    "    f.write('\\n'.join([str(f'{x:n}') for x in _input[1:]]))\n",
    "\n",
    "bash: container=container, expand= \"${ }\", stderr = f'{_output[1]:n}.stderr', stdout = f'{_output[1]:n}.stdout'\n",
    "    plink \\\n",
    "    --bfile ${_input[0]:n} \\\n",
    "    --merge-list ${_output[0]} \\\n",
    "    --make-bed \\\n",
    "    --out ${_output[1]:n} \\\n",
    "    --threads ${numThreads} \\\n",
    "    --memory ${int(expand_size(mem) * 0.9)/1e06}"
   ]
  },
  {
   "cell_type": "markdown",
   "id": "recent-expression",
   "metadata": {
    "kernel": "SoS"
   },
   "source": [
    "## Merge VCF files"
   ]
  },
  {
   "cell_type": "code",
   "execution_count": null,
   "id": "superb-vision",
   "metadata": {
    "kernel": "SoS"
   },
   "outputs": [],
   "source": [
    "[merge_vcf]\n",
    "# Input is a list of PLINK bed files\n",
    "parameter: genoFile = paths\n",
    "skip_if(len(genoFile) == 1)\n",
    "input: genoFile, group_by = 'all'\n",
    "output:  f\"{cwd}/{name}.vcf.gz\"\n",
    "task: trunk_workers = 1, trunk_size = job_size, walltime = walltime, mem = mem, cores = numThreads, tags = f'{step_name}_{_output:bn}'\n",
    "bash: container=container, expand= \"${ }\", stderr = f'{_output:n}.stderr', stdout = f'{_output:n}.stdout'\n",
    "    bcftools concat -Oz ${_input} > ${_output}\n",
    "    tabix -p vcf ${_output}"
   ]
  },
  {
   "cell_type": "code",
   "execution_count": null,
   "id": "commercial-secondary",
   "metadata": {
    "kernel": "SoS"
   },
   "outputs": [],
   "source": [
    "import pandas as pd\n",
    "parameter: genotype_list = path\n",
    "geno_file_inv = pd.read_csv(genotype_list, sep = \"\\t\")\n",
    "genoFile = geno_file_inv[\"dir\"].values.tolist()"
   ]
  }
 ],
 "metadata": {
  "kernelspec": {
   "display_name": "SoS",
   "language": "sos",
   "name": "sos"
  },
  "language_info": {
   "codemirror_mode": "sos",
   "file_extension": ".sos",
   "mimetype": "text/x-sos",
   "name": "sos",
   "nbconvert_exporter": "sos_notebook.converter.SoS_Exporter",
   "pygments_lexer": "sos"
  },
  "sos": {
   "kernels": [
    [
     "SoS",
     "sos",
     "",
     ""
    ]
   ],
   "version": "0.22.4"
  }
 },
 "nbformat": 4,
 "nbformat_minor": 5
}
