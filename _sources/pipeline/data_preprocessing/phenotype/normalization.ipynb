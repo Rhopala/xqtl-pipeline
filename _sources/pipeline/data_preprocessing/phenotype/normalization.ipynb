{
 "cells": [
  {
   "cell_type": "markdown",
   "id": "stuffed-focus",
   "metadata": {
    "kernel": "SoS",
    "tags": []
   },
   "source": [
    "# Molecular phenotype normalization\n",
    "This is the normalization step for data processing pipeline for xqtl workflow, containing the generation of:\n",
    "1. whole Molecular_phenotype in bed format, normalized.\n",
    "\n",
    "\n",
    "### Input\n",
    "The input for this workflow is:\n",
    "1. 1 complete gene data table\n",
    "2. 1 complete gene tmp table\n",
    "3. 1 gtf table downloaded from genecode\n",
    "4. 1 index file cross referencing the sample name in the expression and genotype\n",
    "5. 1 vcf_chrom_list, provided by default, should be 1 column of chr1:chr22 chromosomes, without header \n",
    "\n",
    "\n",
    "Requirement for input 1 and 2:\n",
    "1. Sep by \"\\t\"\n",
    "2. have 2 unneeded rows above colname\n",
    "3. file name end with gct\n",
    "4. can only have samples in input 4\n",
    "\n",
    "Requirement for input 4\n",
    "1. sample_id must not be all numeric,\n",
    "2. Sep by \"\\t\"\n",
    "\n",
    "the gene_ID in 1,2 and 4 must be the same: i.e. ENSG00000000003 ENSG00000000003.1 can not coexist\n",
    "\n",
    "\n",
    "### Output\n",
    "For each collection, the output is 1:\n",
    "1. normalized Molecular_phenotype bed file\n",
    "\n",
    "It take care of the purple part of the following diagram\n"
   ]
  },
  {
   "cell_type": "markdown",
   "id": "088ba4c8-6b4c-44aa-a467-0d6fbf6a291a",
   "metadata": {
    "kernel": "SoS",
    "tags": []
   },
   "source": [
    "### Test run commands:"
   ]
  },
  {
   "cell_type": "code",
   "execution_count": null,
   "id": "e6878996-b5b7-4102-aced-6c715183466f",
   "metadata": {
    "kernel": "SoS"
   },
   "outputs": [],
   "source": [
    "sos run /home/hs3163/GIT/xqtl-pipeline/pipeline/data_preprocessing/phenotype/normalization.ipynb Normalization \\\n",
    "        --counts_gct \"./geneCounts.gct\" \\\n",
    "        --tpm_gct \"./geneTpm.gct\" \\\n",
    "        --vcf_chr_list \"/mnt/mfs/statgen/xqtl_workflow_testing/expression_normalization/vcf_chrom_list\" \\\n",
    "        --sample_participant_lookup \"/mnt/mfs/statgen/xqtl_workflow_testing/expression_normalization/sampleSheetAfterQc.txt\" \\\n",
    "        --name \"test\" \\\n",
    "        --script_dir \"/mnt/mfs/statgen/xqtl_workflow_testing/expression_normalization/\" --wd ./ \\\n",
    "        --annotation_gtf /mnt/mfs/statgen/xqtl_workflow_testing/expression_normalization/gencode.v26.annotation.gtf.gz  -s build &"
   ]
  },
  {
   "cell_type": "code",
   "execution_count": 2,
   "id": "running-jefferson",
   "metadata": {
    "kernel": "SoS"
   },
   "outputs": [],
   "source": [
    "[global]\n",
    "import os\n",
    "# Work directory & output directory\n",
    "parameter: wd = path\n",
    "# The filename namefor output data\n",
    "parameter: container = 'gaow/twas'\n",
    "# namefor the analysis output\n",
    "parameter: name= 'ROSMAP'\n",
    "# An gene count table\n",
    "parameter: counts_gct = path\n",
    "# An gene TPM table\n",
    "parameter: tpm_gct = path\n",
    "# An gene gtf annotation table\n",
    "parameter: annotation_gtf = path\n",
    "# a file containing the number of chromosome in follow up analysis\n",
    "parameter: vcf_chr_list = path(\"./\")\n",
    "# A file to map sample ID from expression to genotype,must contain two columns, sample_id and participant_id, mapping IDs in the expression files to IDs in the genotype (these can be the same).\n",
    "\n",
    "parameter: sample_participant_lookup = path\n",
    "\n",
    "parameter: name = str\n",
    "\n",
    "# The directory containing the .py script needed\n",
    "parameter: script_dir = path(\"./\")\n",
    "\n",
    "\n",
    "# For cluster jobs, number commands to run per job\n",
    "parameter: job_size = 1\n",
    "# Wall clock time expected\n",
    "parameter: walltime = \"5h\"\n",
    "# Memory expected\n",
    "parameter: mem = \"16G\"\n",
    "# Number of threads\n",
    "parameter: numThreads = 20\n",
    "parameter: container = \"gaow/twas\""
   ]
  },
  {
   "cell_type": "code",
   "execution_count": null,
   "id": "a8b6d7ac-6a95-4adf-9751-a7d31600d779",
   "metadata": {
    "kernel": "SoS"
   },
   "outputs": [],
   "source": []
  },
  {
   "cell_type": "code",
   "execution_count": null,
   "id": "c38bc774-e663-4fab-b8bb-eeecc67f359f",
   "metadata": {
    "kernel": "SoS"
   },
   "outputs": [],
   "source": []
  },
  {
   "cell_type": "code",
   "execution_count": null,
   "id": "furnished-olive",
   "metadata": {
    "kernel": "SoS"
   },
   "outputs": [],
   "source": [
    "[Normalization]\n",
    "# Path to the input molecular phenotype data, should be a processd and indexed bed.gz file, with tabix index.\n",
    "input: counts_gct,tpm_gct, annotation_gtf\n",
    "output: f'{wd}/{name}.mol_phe.bed.gz',  # For factor\n",
    "task: trunk_workers = 1, trunk_size = 1, walltime = '4h',  mem = '20G', tags = f'{step_name}_{_output[0]:bn}'  \n",
    "bash: expand = \"${ }\", stderr = f'{_output[0]}.stderr', stdout = f'{_output[0]}.stdout',container = container\n",
    "    eqtl_prepare_expression.py ${tpm_gct} ${counts_gct} ${_input[2]} \\\n",
    "    ${sample_participant_lookup} ${ vcf_chr_list if vcf_chr_list is not path(\"./\") else \"\"} ${name} \\\n",
    "    --tpm_threshold 0.1 \\\n",
    "    --count_threshold 1 \\\n",
    "    --sample_frac_threshold 0.2 \\\n",
    "    --normalization_method tmm"
   ]
  },
  {
   "cell_type": "markdown",
   "id": "c9c47cd7-6d78-4eff-9064-1e920f0b1f08",
   "metadata": {
    "kernel": "SoS"
   },
   "source": [
    "### Input formatting\n",
    "Following step are optional and to ensure the input met the requirement of Normalization\n",
    "1. Filter out the geneCount table based on TPM table\n",
    "2. Adds two empty line above the header of TPM and geneCount table, in case it dont have it.\n",
    "3. If sample names are all numeric, changes them to be not numeric."
   ]
  },
  {
   "cell_type": "code",
   "execution_count": null,
   "id": "014ecefb-1a25-4f38-9b27-c014e3b71fb3",
   "metadata": {
    "kernel": "SoS"
   },
   "outputs": [],
   "source": [
    "[input_preprocessing]\n",
    "input: tpm_gct, counts_gct,sample_participant_lookup\n",
    "output: f'{wd}/{name}.processed.tpm.gct',f'{wd}/{name}.processed.geneCount.gct',f'{wd}/{name}.processed.sample_lookup.txt'\n",
    "task: trunk_workers = 1, trunk_size = 1, walltime = '24h',  mem = '30G', tags = f'{step_name}_{_output[0]:bn}'\n",
    "bash: expand = \"$[ ]\", stderr = f'{_output[0]}.stderr', stdout = f'{_output[0]}.stdout',container = container\n",
    "    echo \"# \n",
    "          #  \" > $[_output[0]:r]\n",
    "    cp $[_output[0]:r] $[_output[1]:r]\n",
    "R: expand = \"$[ ]\", stderr = f'{_output[0]}.stderr', stdout = f'{_output[0]}.stdout',container = container\n",
    "    library(\"tidyverse\")\n",
    "    # Reason to use read.table: 1.accomodate both \" \" and \"\\t\"\n",
    "    tpm = read.table($[_input[0]:r],header = T)\n",
    "    geneCount = read.table($[_input[1]]:r],header = T)\n",
    "    sample_name =  read.table($[_input[3]]:r],header = T)\n",
    "    ## Make geneCount consistant with tpm\n",
    "    geneCount = geneCount%>%filter(gene_ID %in% tpm$gene_ID)%>%select(colnames(tpm))\n",
    "    ## Check if the sample names is all numeric(it will be problemetic for the normalization step)\n",
    "    if(is.numeric(sample_name[,1])){\n",
    "      sample_name[,1] = paste0(\"X\",sample_name[,1])\n",
    "      }\n",
    "    ## Save each file with 3 header line\n",
    "    tpm%>%write_delim($[_output[0]:r],delim = \"\\t\", append = T)\n",
    "    geneCount%>%write_delim($[_output[1]:r],delim = \"\\t\", append = T)\n",
    "    sample_name%>%write_delim($[_output[2]:r],delim = \"\\t\", append = T)"
   ]
  }
 ],
 "metadata": {
  "kernelspec": {
   "display_name": "SoS",
   "language": "sos",
   "name": "sos"
  },
  "language_info": {
   "codemirror_mode": "sos",
   "file_extension": ".sos",
   "mimetype": "text/x-sos",
   "name": "sos",
   "nbconvert_exporter": "sos_notebook.converter.SoS_Exporter",
   "pygments_lexer": "sos"
  },
  "sos": {
   "kernels": [
    [
     "SoS",
     "sos",
     "",
     ""
    ]
   ],
   "version": "0.22.6"
  }
 },
 "nbformat": 4,
 "nbformat_minor": 5
}
