{
 "cells": [
  {
   "cell_type": "markdown",
   "id": "descending-sample",
   "metadata": {
    "kernel": "SoS",
    "tags": []
   },
   "source": [
    "# Covariate data preprocessing\n",
    "\n",
    "**FIXME: Hao, I am thinking this kind of notebook (that sits outside these folders) should be of a tutorial nature. It should only contain `sos run` commands interactively with enough text explanations. For those who want to run the default analysis they should work with `master_control.ipynb` and generate the commands to run as is. For those who want to customize the analysis, they should refer to each of these \"recipe\" and change the parameters here. That should cover 95% user cases. People will read the module notebooks only for learning purpose. For those who want to edit the module notebooks we will consider them developers or at least power users and I expect few of them.**\n",
    "\n",
    "**FIXME: This recipe lack the PEER and APEX part from Gou-29**\n",
    "\n",
    "\n"
   ]
  },
  {
   "cell_type": "markdown",
   "id": "bbde9dc4-8a41-460a-acc9-9a75319ec847",
   "metadata": {
    "kernel": "SoS"
   },
   "source": [
    "## PCA"
   ]
  },
  {
   "cell_type": "code",
   "execution_count": null,
   "id": "21dc13b0-9dc3-4d8f-86ad-dd0c5a76bbe8",
   "metadata": {
    "kernel": "SoS"
   },
   "outputs": [],
   "source": [
    "nohup sos run /home/hs3163/GIT/xqtl-pipeline/pipeline/data_preprocessing/covariate/PCA.ipynb pca \\\n",
    "            --cwd /mnt/mfs/statgen/xqtl_workflow_testing/demo/PCA/ \\\n",
    "            --container_lmm \"/mnt/mfs/statgen/containers/lmm.sif\" \\\n",
    "            --name \"demo\" \\\n",
    "            --unrelated_genotype /mnt/mfs/statgen/xqtl_workflow_testing/demo/GWAS_QC/merge.mergrd.unrelated.bed \\\n",
    "            --related_genotype /mnt/mfs/statgen/xqtl_workflow_testing//demo/GWAS_QC/merge.mergrd.related.bed \\\n",
    "            --phenoFile /mnt/mfs/statgen/xqtl_workflow_testing/demo/phenotype_reformat/demo.for_pca.mol_phe.exp \\\n",
    "            --label_col \"RACE\" \\\n",
    "            --pop_col \"RACE\"  &"
   ]
  },
  {
   "cell_type": "markdown",
   "id": "0feecc32-f334-4dbe-9e07-ff3946d987eb",
   "metadata": {
    "kernel": "SoS"
   },
   "source": [
    "## Merge covariate\n",
    "The factor_and_covariate file shall be the output from gou-29's peer and apex module. For the time being, please use the provided input"
   ]
  },
  {
   "cell_type": "code",
   "execution_count": null,
   "id": "ad761cec-00ea-4aa7-8e13-c051ee717123",
   "metadata": {
    "kernel": "SoS"
   },
   "outputs": [],
   "source": [
    "nohup sos run /home/hs3163/GIT/xqtl-pipeline/pipeline/data_preprocessing/covariate/merge_covariate.ipynb pca_factor_merge \\\n",
    "            --wd /mnt/mfs/statgen/xqtl_workflow_testing/demo/merge_factor/ \\\n",
    "            --name \"demo\" \\\n",
    "            --factor_and_covariate /mnt/mfs/statgen/xqtl_workflow_testing/success_example/testing_no_cov/Data_Processing/Factor_and_Covariate/AC.APEX.cov \\\n",
    "            --PC /mnt/mfs/statgen/xqtl_workflow_testing/demo/PCA/demo.for_pca.mol_phe.demo.pca.projected.rds  &"
   ]
  }
 ],
 "metadata": {
  "kernelspec": {
   "display_name": "SoS",
   "language": "sos",
   "name": "sos"
  },
  "language_info": {
   "codemirror_mode": "sos",
   "file_extension": ".sos",
   "mimetype": "text/x-sos",
   "name": "sos",
   "nbconvert_exporter": "sos_notebook.converter.SoS_Exporter",
   "pygments_lexer": "sos"
  },
  "sos": {
   "kernels": [
    [
     "Bash",
     "bash",
     "Bash",
     "#E6EEFF",
     ""
    ],
    [
     "SoS",
     "sos",
     "",
     "",
     "sos"
    ]
   ],
   "version": "0.22.6"
  }
 },
 "nbformat": 4,
 "nbformat_minor": 5
}
