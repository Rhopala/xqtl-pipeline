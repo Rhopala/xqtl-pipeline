{
 "cells": [
  {
   "cell_type": "markdown",
   "metadata": {
    "kernel": "SoS"
   },
   "source": [
    "# Fine-mapping with SuSiE model\n",
    "This notebook conduct fine_mapping with complete data, unlike the susie_RSS module, this module perform analysis on 1 of the theme each time"
   ]
  },
  {
   "cell_type": "markdown",
   "metadata": {
    "kernel": "SoS"
   },
   "source": []
  },
  {
   "cell_type": "markdown",
   "metadata": {
    "kernel": "SoS",
    "tags": []
   },
   "source": [
    "## Input\n",
    "\n",
    "1. 1 region list documenting the regions to be analysised\n",
    "2. a list to the path where phenotype per gene data stored\n",
    "3. a list to the path where genotype per gene data stored\n",
    "\n",
    "By default the input 2 and 3 is the output from the data_preprocessing module.\n",
    "\n",
    "### Example genotype list\n",
    "\n",
    "region        dir\n",
    "ENSG00000000457 /mnt/mfs/statgen/xqtl_workflow_testing/demo/genotype_reformmating/demo_per_gene_plink/ENSG00000000457.bed\n",
    "ENSG00000000460 /mnt/mfs/statgen/xqtl_workflow_testing/demo/genotype_reformmating/demo_per_gene_plink/ENSG00000000460.bed\n",
    "ENSG00000000938 /mnt/mfs/statgen/xqtl_workflow_testing/demo/genotype_reformmating/demo_per_gene_plink/ENSG00000000938.bed\n",
    "ENSG00000000971 /mnt/mfs/statgen/xqtl_workflow_testing/demo/genotype_reformmating/demo_per_gene_plink/ENSG00000000971.bed\n",
    "ENSG00000001036 /mnt/mfs/statgen/xqtl_workflow_testing/demo/genotype_reformmating/demo_per_gene_plink/ENSG00000001036.bed\n",
    "ENSG00000001084 /mnt/mfs/statgen/xqtl_workflow_testing/demo/genotype_reformmating/demo_per_gene_plink/ENSG00000001084.bed\n",
    "ENSG00000001167 /mnt/mfs/statgen/xqtl_workflow_testing/demo/genotype_reformmating/demo_per_gene_plink/ENSG00000001167.bed\n",
    "ENSG00000001460 /mnt/mfs/statgen/xqtl_workflow_testing/demo/genotype_reformmating/demo_per_gene_plink/ENSG00000001460.bed\n",
    "\n",
    "\n",
    "### Example phenotype list\n",
    "\n",
    "\n",
    "region dir\n",
    "ENSG00000000457 /mnt/mfs/statgen/xqtl_workflow_testing/demo/phenotype_reformat/demo.ENSG00000000457.mol_phe.bed.gz\n",
    "ENSG00000000460 /mnt/mfs/statgen/xqtl_workflow_testing/demo/phenotype_reformat/demo.ENSG00000000460.mol_phe.bed.gz\n",
    "ENSG00000000938 /mnt/mfs/statgen/xqtl_workflow_testing/demo/phenotype_reformat/demo.ENSG00000000938.mol_phe.bed.gz\n",
    "ENSG00000000971 /mnt/mfs/statgen/xqtl_workflow_testing/demo/phenotype_reformat/demo.ENSG00000000971.mol_phe.bed.gz\n",
    "ENSG00000001036 /mnt/mfs/statgen/xqtl_workflow_testing/demo/phenotype_reformat/demo.ENSG00000001036.mol_phe.bed.gz\n",
    "ENSG00000001084 /mnt/mfs/statgen/xqtl_workflow_testing/demo/phenotype_reformat/demo.ENSG00000001084.mol_phe.bed.gz\n",
    "ENSG00000001167 /mnt/mfs/statgen/xqtl_workflow_testing/demo/phenotype_reformat/demo.ENSG00000001167.mol_phe.bed.gz\n",
    "ENSG00000001460 /mnt/mfs/statgen/xqtl_workflow_testing/demo/phenotype_reformat/demo.ENSG00000001460.mol_phe.bed.gz\n"
   ]
  },
  {
   "cell_type": "markdown",
   "metadata": {
    "kernel": "SoS"
   },
   "source": [
    "## Output\n",
    "\n",
    "For each analysis unit we output:\n",
    "\n",
    "1. Analysis results in RDS format: A mvsusie Model\n",
    "2. A vcf file with selected snps\n",
    "        ES:PIP:CS"
   ]
  },
  {
   "cell_type": "markdown",
   "metadata": {
    "kernel": "SoS"
   },
   "source": [
    "## examples\n",
    "\n"
   ]
  },
  {
   "cell_type": "code",
   "execution_count": 1,
   "metadata": {
    "kernel": "SoS"
   },
   "outputs": [],
   "source": [
    "[global]\n",
    "import glob\n",
    "import pandas as pd\n",
    "# Input\n",
    "parameter: region_list = path\n",
    "parameter: phenotype_list = path\n",
    "parameter: genotype_list = path\n",
    "## An identifier for your run of analysis\n",
    "parameter: name = str\n",
    "gene_ID = pd.read_csv(region_list, sep = \"\\t\")[\"gene_ID\"].values.tolist()\n",
    "phenotype = pd.read_csv(phenotype_list, sep = \"\\t\")\n",
    "genotype = pd.read_csv(genotype_list, sep = \"\\t\")\n",
    "input_inv = phenotype.merge(genotype, on = \"region\")\n",
    "input_inv = input_inv.query(f'region in {gene_ID}')\n",
    "input_inv = input_inv.values.tolist()\n",
    "## Path to work directory where output locates\n",
    "parameter: wd = path(\"./output\")\n",
    "## Containers that contains the necessary packages\n",
    "parameter: container = \"/mnt/mfs/statgen/containers/twas_latest.sif\"\n",
    "## Only 1 LD for each gene is required for each analysis"
   ]
  },
  {
   "cell_type": "code",
   "execution_count": null,
   "metadata": {
    "kernel": "SoS"
   },
   "outputs": [],
   "source": []
  },
  {
   "cell_type": "markdown",
   "metadata": {
    "kernel": "SoS"
   },
   "source": [
    "## Univariate SuSiE"
   ]
  },
  {
   "cell_type": "code",
   "execution_count": 1,
   "metadata": {
    "kernel": "SoS"
   },
   "outputs": [],
   "source": [
    "[uni_susie_1]\n",
    "parameter: max_L = 10\n",
    "# remove a variant if it has more than imiss missing individual data\n",
    "parameter: imiss = 0.1\n",
    "parameter: maf = 0.05\n",
    "input: for_each = \"input_inv\"\n",
    "output: fit = f\"{wd:a}/cache/{name}.{_input_inv[0]}.unisusie.fit.rds\"\n",
    "task: trunk_workers = 1, trunk_size = 1, walltime = '2h', mem = '55G', cores = 1, tags = f'{step_name}_{_output[0]:bn}'\n",
    "R: expand = '${ }', stdout = f\"{_output:nn}.stdout\", stderr = f\"{_output:nn}.stderr\", container = container\n",
    "    ## Define function\n",
    "    compute_maf <- function(geno){\n",
    "      f <- mean(geno,na.rm = TRUE)/2\n",
    "      return(min(f, 1-f))\n",
    "    }\n",
    "\n",
    "    compute_missing <- function(geno){\n",
    "      miss <- sum(is.na(geno))/length(geno)\n",
    "      return(miss)\n",
    "    }\n",
    "    \n",
    "    mean_impute <- function(geno){\n",
    "      f <- apply(geno, 2, function(x) mean(x,na.rm = TRUE))\n",
    "      for (i in 1:length(f)) geno[,i][which(is.na(geno[,i]))] <- f[i]\n",
    "      return(geno)\n",
    "    }\n",
    "\n",
    "    is_zero_variance <- function(x) {\n",
    "      if (length(unique(x))==1) return(T)\n",
    "      else return(F)\n",
    "    }\n",
    "  \n",
    "    filter_X <- function(X, missing_rate_thresh, maf_thresh) {\n",
    "        rm_col <- which(apply(X, 2, compute_missing) > missing_rate_thresh)\n",
    "        if (length(rm_col)) X <- X[, -rm_col]\n",
    "        rm_col <- which(apply(X, 2, compute_maf) < maf_thresh)\n",
    "        if (length(rm_col)) X <- X[, -rm_col]\n",
    "        rm_col <- which(apply(X, 2, is_zero_variance))\n",
    "        if (length(rm_col)) X <- X[, -rm_col]\n",
    "        return(mean_impute(X))\n",
    "    }\n",
    "  \n",
    "    compute_cov_flash <- function(Y, error_cache = NULL){\n",
    "        covar <- diag(ncol(Y))\n",
    "        tryCatch({\n",
    "        fl <- flashier::flash(Y, var.type = 2, prior.family = c(flashier::prior.normal(), flashier::prior.normal.scale.mix()), backfit = TRUE, verbose.lvl=0)\n",
    "        if(fl$n.factors==0){\n",
    "          covar <- diag(fl$residuals.sd^2)\n",
    "        } else {\n",
    "          fsd <- sapply(fl$fitted.g[[1]], '[[', \"sd\")\n",
    "          covar <- diag(fl$residuals.sd^2) + crossprod(t(fl$flash.fit$EF[[2]]) * fsd)\n",
    "        }\n",
    "        if (nrow(covar) == 0) {\n",
    "          covar <- diag(ncol(Y))\n",
    "          stop(\"Computed covariance matrix has zero rows\")\n",
    "        }\n",
    "        }, error = function(e) {\n",
    "          if (!is.null(error_cache)) {\n",
    "            saveRDS(list(data=Y, message=warning(e)), error_cache)\n",
    "            warning(\"FLASH failed. Using Identity matrix instead.\")\n",
    "            warning(e)\n",
    "          } else {\n",
    "            stop(e)\n",
    "          }\n",
    "        })\n",
    "        s <- apply(Y, 2, sd, na.rm=T)\n",
    "        if (length(s)>1) s = diag(s)\n",
    "        else s = matrix(s,1,1)\n",
    "        covar <- s%*%cov2cor(covar)%*%s\n",
    "        return(covar)\n",
    "    }\n",
    "    ## Load Library\n",
    "    library(\"susieR\")\n",
    "    library(\"plink2R\")\n",
    "    library(\"dplyr\")\n",
    "    library(\"readr\")\n",
    "    library(\"stringr\")\n",
    "    ###\n",
    "    # Core code\n",
    "    ###\n",
    "    # Input\n",
    "    y_res = read_delim( \"${_input_inv[1]}\" ,\"\\t\")\n",
    "    y_res = y_res[,5:ncol(y_res)]%>%t()\n",
    "\n",
    "    X = read_plink(\"${_input_inv[2].replace(\".bed\",\"\")}\")$bed\n",
    "    X = mean_impute(X)\n",
    "\n",
    "      \n",
    "    print(paste(\"Dimension of X matrix:\", nrow(X), ncol(X)))\n",
    "    print(paste(\"Dimension of Y matrix:\", nrow(y_res), ncol(y_res)))\n",
    "    non_missing = list()\n",
    "    fitted = list()\n",
    "    # Fine-mapping with SuSiE\n",
    "       for (r in 1:1) {\n",
    "        non_missing[[r]] = which(!is.na(y_res[,r]))\n",
    "        st = proc.time()\n",
    "        fitted[[r]] <- susieR::susie(X[non_missing[[r]],], y_res[non_missing[[r]],r],\n",
    "                           L=${max_L},\n",
    "                           max_iter=1000,\n",
    "                           estimate_residual_variance=TRUE,\n",
    "                           estimate_prior_variance=TRUE,\n",
    "                           refine=TRUE)\n",
    "        fitted[[r]]$time = proc.time() - st\n",
    "        fitted[[r]]$cs_corr = susieR:::get_cs_correlation(fitted[[r]], X=X[non_missing[[r]],])\n",
    "        fitted[[r]]$cs_snps = names(fitted[[r]]$X_column_scale_factors[unlist(fitted[[r]]$sets$cs)])\n",
    "        fitted[[r]]$variable_name =  names(fitted[[r]]$X_column_scale_factors)\n",
    "        fitted[[r]]$coef =  coef.susie(fitted[[r]])\n",
    "    }\n",
    "    saveRDS(fitted, ${_output[0]:r})"
   ]
  },
  {
   "cell_type": "code",
   "execution_count": null,
   "metadata": {
    "kernel": "SoS"
   },
   "outputs": [],
   "source": [
    "[uni_susie_2]\n",
    "input: group_with = \"input_inv\"\n",
    "output: fit = f\"{wd:a}/{name}.{_input_inv[0]}.unisusie.vcf.bgz\"\n",
    "task: trunk_workers = 1, trunk_size = 1, walltime = '2h', mem = '55G', cores = 1, tags = f'{step_name}_{_output[0]:bn}'\n",
    "R: expand = '${ }', stdout = f\"{_output:nn}.stdout\", stderr = f\"{_output:nn}.stderr\"\n",
    "   ## Define create_vcf function\n",
    "           create_vcf = function (chrom, pos, nea, ea, snp = NULL, ea_af = NULL, effect = NULL, \n",
    "        se = NULL, pval = NULL, name = NULL,cs = NULL, pip = NULL) \n",
    "    {\n",
    "        stopifnot(length(chrom) == length(pos))\n",
    "        if (is.null(snp)) {\n",
    "            snp <- paste0(chrom, \":\", pos)\n",
    "        }\n",
    "        snp <- paste0(chrom, \":\", pos)\n",
    "        nsnp <- length(chrom)\n",
    "        gen <- list()\n",
    "        ## Setupt data content for each sample column\n",
    "        if (!is.null(ea_af)) \n",
    "            gen[[\"AF\"]] <- matrix(ea_af, nsnp)\n",
    "        if (!is.null(effect)) \n",
    "            gen[[\"ES\"]] <- matrix(effect, nsnp)\n",
    "        if (!is.null(se)) \n",
    "            gen[[\"SE\"]] <- matrix(se, nsnp)\n",
    "        if (!is.null(pval)) \n",
    "            gen[[\"LP\"]] <- matrix(-log10(pval), nsnp)\n",
    "        if (!is.null(cs)) \n",
    "            gen[[\"CS\"]] <- matrix(cs, nsnp)\n",
    "        if (!is.null(pip)) \n",
    "            gen[[\"PIP\"]] <- matrix(pip, nsnp)\n",
    "        gen <- S4Vectors::SimpleList(gen)\n",
    "        \n",
    "      ## Setup snps info for the fix columns\n",
    "        gr <- GenomicRanges::GRanges(chrom, IRanges::IRanges(start = pos, \n",
    "            end = pos + pmax(nchar(nea), nchar(ea)) - 1, names = snp))\n",
    "         coldata <- S4Vectors::DataFrame(Studies = name, row.names = name)\n",
    "    ## Setup header informations\n",
    "        hdr <- VariantAnnotation::VCFHeader(header = IRanges::DataFrameList(fileformat = S4Vectors::DataFrame(Value = \"VCFv4.2\", \n",
    "            row.names = \"fileformat\")), sample = name)\n",
    "        VariantAnnotation::geno(hdr) <- S4Vectors::DataFrame(Number = c(\"A\", \n",
    "            \"A\", \"A\", \"A\", \"A\", \"A\"), Type = c(\"Float\", \"Float\", \n",
    "            \"Float\", \"Float\", \"Float\", \"Float\"), Description = c(\"Effect size estimate relative to the alternative allele\", \n",
    "            \"Standard error of effect size estimate\", \"-log10 p-value for effect estimate\",  \n",
    "            \"Alternate allele frequency in the association study\",\n",
    "            \"The CS this variate are captured, 0 indicates not in any cs\", \"The posterior inclusion probability to a CS\"), \n",
    "            row.names = c(\"ES\", \"SE\", \"LP\", \"AF\", \"CS\", \"PIP\"))\n",
    "      ## Save only the meta information in the sample columns \n",
    "        VariantAnnotation::geno(hdr) <- subset(VariantAnnotation::geno(hdr), \n",
    "            rownames(VariantAnnotation::geno(hdr)) %in% names(gen))\n",
    "      ## Save VCF \n",
    "        vcf <- VariantAnnotation::VCF(rowRanges = gr, colData = coldata, \n",
    "            exptData = list(header = hdr), geno = gen)\n",
    "        VariantAnnotation::alt(vcf) <- Biostrings::DNAStringSetList(as.list(ea))\n",
    "        VariantAnnotation::ref(vcf) <- Biostrings::DNAStringSet(nea)\n",
    "      ## Add fixed values\n",
    "        VariantAnnotation::fixed(vcf)$FILTER <- \"PASS\"\n",
    "          return(sort(vcf))\n",
    "        }\n",
    "    library(\"susieR\")\n",
    "    library(\"dplyr\")\n",
    "    library(\"tibble\")\n",
    "    library(\"purrr\")\n",
    "    library(\"readr\")\n",
    "    library(\"tidyr\")\n",
    "    \n",
    "    # Get list of cs snps\n",
    "    res = readRDS(${_input:r})[[1]]\n",
    "    output_snps = tibble( snps = res$variable_name[which(res$pip >= 0)], snps_index = which((res$pip >= 0))  )\n",
    "    output_snps = output_snps%>%mutate( cs = map(snps_index,~which(res$sets$cs %in% .x))%>%as.numeric%>%replace_na(0),\n",
    "                             pip = map_dbl(snps_index,~(res$pip[.x])),\n",
    "                     chr = map_chr(snps,~read.table(text = .x,sep = \":\",as.is = T)$V1),\n",
    "                     pos_alt_ref = map_chr(snps,~read.table(text = .x,sep = \":\",as.is = TRUE)$V2),\n",
    "                     pos = map_dbl(pos_alt_ref,~read.table(text = .x,sep = \"_\",as.is = TRUE)$V1),\n",
    "                     alt = map_chr(pos_alt_ref,~read.table(text = .x,sep = \"_\",as.is = TRUE, colClass = \"character\")$V2),\n",
    "                     ref = map_chr(pos_alt_ref,~read.table(text = .x,sep = \"_\",as.is = TRUE, colClass = \"character\")$V3))\n",
    "    \n",
    "    effect_mtr = res$coef[output_snps$snps_index+1]%>%as.matrix\n",
    "    colnames(effect_mtr) = \"${name}\"\n",
    "    rownames(effect_mtr) = output_snps$snps\n",
    "    cs_mtr = effect_mtr\n",
    "    for(i in 1:nrow(cs_mtr)) cs_mtr[i,] =  output_snps$cs[[i]]  \n",
    "    pip_mtr = effect_mtr\n",
    "    for(i in 1:nrow(pip_mtr)) pip_mtr[i,] =  output_snps$pip[[i]]  \n",
    "    \n",
    "    output_vcf = create_vcf(\n",
    "           chrom = output_snps$chr,\n",
    "            pos = output_snps$pos,\n",
    "            ea = output_snps$alt,\n",
    "            nea = output_snps$ref,\n",
    "            effect = effect_mtr ,\n",
    "            pip = pip_mtr,\n",
    "            cs = cs_mtr,\n",
    "            name = colnames(effect_mtr)\n",
    "              )\n",
    "  \n",
    "    VariantAnnotation::writeVcf(output_vcf,${_output:nr},index = TRUE)"
   ]
  },
  {
   "cell_type": "code",
   "execution_count": null,
   "metadata": {
    "kernel": "SoS"
   },
   "outputs": [],
   "source": [
    "[uni_susie_3]\n",
    "input: group_by = \"all\"\n",
    "output: f'{wd}/{name}.unisusie.output_list.txt'\n",
    "python: expand= \"$[ ]\", stderr = f'{_output}.stderr', stdout = f'{_output}.stdout'\n",
    "    import pandas as pd\n",
    "    pd.DataFrame({\"output_vcf\" : [$[_input:ar,]]}).to_csv(\"$[_output]\",index = False ,header = False, sep = \"t\")"
   ]
  },
  {
   "cell_type": "code",
   "execution_count": null,
   "metadata": {
    "kernel": "SoS"
   },
   "outputs": [],
   "source": []
  }
 ],
 "metadata": {
  "kernelspec": {
   "display_name": "SoS",
   "language": "sos",
   "name": "sos"
  },
  "language_info": {
   "codemirror_mode": "sos",
   "file_extension": ".sos",
   "mimetype": "text/x-sos",
   "name": "sos",
   "nbconvert_exporter": "sos_notebook.converter.SoS_Exporter",
   "pygments_lexer": "sos"
  },
  "sos": {
   "kernels": [
    [
     "SoS",
     "sos",
     "",
     ""
    ]
   ],
   "version": "0.22.6"
  }
 },
 "nbformat": 4,
 "nbformat_minor": 4
}
