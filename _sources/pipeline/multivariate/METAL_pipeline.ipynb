{
 "cells": [
  {
   "cell_type": "markdown",
   "id": "naked-array",
   "metadata": {
    "kernel": "SoS",
    "tags": []
   },
   "source": [
    "# Meta-analysis with METAL\n",
    "This note book document the process of meta analysis. \n",
    "\n",
    "The output of QTL association that are to be analysis via METAL will be analysis by the METAL module, and produce:\n",
    "1. a list of sumstat that can be used for MASH and mvsusie_RSS analysis \n",
    "2. a list of sumstat in vcf format that served as the end product of the analysis."
   ]
  },
  {
   "cell_type": "markdown",
   "id": "colored-replacement",
   "metadata": {
    "kernel": "Markdown",
    "tags": []
   },
   "source": [
    "# METAL"
   ]
  },
  {
   "cell_type": "markdown",
   "id": "bac76aad-eaf2-41bd-8e61-615deb42672e",
   "metadata": {
    "kernel": "SoS"
   },
   "source": [
    "## Example sumstat list"
   ]
  },
  {
   "cell_type": "code",
   "execution_count": 8,
   "id": "eea79367-8e4d-44a1-8ea1-a3221a523563",
   "metadata": {
    "kernel": "SoS"
   },
   "outputs": [
    {
     "data": {
      "text/html": [
       "<div>\n",
       "<style scoped>\n",
       "    .dataframe tbody tr th:only-of-type {\n",
       "        vertical-align: middle;\n",
       "    }\n",
       "\n",
       "    .dataframe tbody tr th {\n",
       "        vertical-align: top;\n",
       "    }\n",
       "\n",
       "    .dataframe thead th {\n",
       "        text-align: right;\n",
       "    }\n",
       "</style>\n",
       "<table border=\"1\" class=\"dataframe\">\n",
       "  <thead>\n",
       "    <tr style=\"text-align: right;\">\n",
       "      <th></th>\n",
       "      <th>#chr</th>\n",
       "      <th>PCC</th>\n",
       "      <th>DLPFC</th>\n",
       "      <th>AC</th>\n",
       "    </tr>\n",
       "  </thead>\n",
       "  <tbody>\n",
       "    <tr>\n",
       "      <th>0</th>\n",
       "      <td>1</td>\n",
       "      <td>/mnt/mfs/statgen/xqtl_workflow_testing/testing...</td>\n",
       "      <td>/mnt/mfs/statgen/xqtl_workflow_testing/testing...</td>\n",
       "      <td>/mnt/mfs/statgen/xqtl_workflow_testing/testing...</td>\n",
       "    </tr>\n",
       "    <tr>\n",
       "      <th>1</th>\n",
       "      <td>6</td>\n",
       "      <td>/mnt/mfs/statgen/xqtl_workflow_testing/testing...</td>\n",
       "      <td>/mnt/mfs/statgen/xqtl_workflow_testing/testing...</td>\n",
       "      <td>/mnt/mfs/statgen/xqtl_workflow_testing/testing...</td>\n",
       "    </tr>\n",
       "  </tbody>\n",
       "</table>\n",
       "</div>"
      ],
      "text/plain": [
       "   #chr                                                PCC  \\\n",
       "0     1  /mnt/mfs/statgen/xqtl_workflow_testing/testing...   \n",
       "1     6  /mnt/mfs/statgen/xqtl_workflow_testing/testing...   \n",
       "\n",
       "                                               DLPFC  \\\n",
       "0  /mnt/mfs/statgen/xqtl_workflow_testing/testing...   \n",
       "1  /mnt/mfs/statgen/xqtl_workflow_testing/testing...   \n",
       "\n",
       "                                                  AC  \n",
       "0  /mnt/mfs/statgen/xqtl_workflow_testing/testing...  \n",
       "1  /mnt/mfs/statgen/xqtl_workflow_testing/testing...  "
      ]
     },
     "execution_count": 8,
     "metadata": {},
     "output_type": "execute_result"
    }
   ],
   "source": [
    "pd.read_csv(\"/mnt/mfs/statgen/xqtl_workflow_testing/success_example/testing_no_cov/QTL_association/sumstat_list\",sep = \"\\t\")"
   ]
  },
  {
   "cell_type": "code",
   "execution_count": null,
   "id": "critical-consortium",
   "metadata": {
    "kernel": "SoS"
   },
   "outputs": [],
   "source": [
    "nohup sos run /home/hs3163/GIT/xqtl-pipeline/pipeline/multivariate/METAL/METAL.ipynb METAL \\\n",
    "--sumstat_list_path /mnt/mfs/statgen/xqtl_workflow_testing/module/sumstat_list   \\\n",
    "--wd ./  --container /mnt/mfs/statgen/containers/xqtl_pipeline_sif/METAL.sif &"
   ]
  }
 ],
 "metadata": {
  "kernelspec": {
   "display_name": "Bash",
   "language": "bash",
   "name": "bash"
  },
  "language_info": {
   "codemirror_mode": "shell",
   "file_extension": ".sh",
   "mimetype": "text/x-sh",
   "name": "bash"
  },
  "sos": {
   "kernels": [
    [
     "Bash",
     "bash",
     "Bash",
     "#E6EEFF",
     "shell"
    ],
    [
     "SoS",
     "sos",
     "",
     "",
     "sos"
    ]
   ],
   "version": "0.22.6"
  }
 },
 "nbformat": 4,
 "nbformat_minor": 5
}
