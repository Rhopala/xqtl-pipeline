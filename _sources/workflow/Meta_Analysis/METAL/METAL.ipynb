{
 "cells": [
  {
   "cell_type": "markdown",
   "id": "announced-cowboy",
   "metadata": {
    "kernel": "SoS",
    "tags": []
   },
   "source": [
    "# Meta-analysis with METAL"
   ]
  },
  {
   "cell_type": "markdown",
   "id": "driven-stevens",
   "metadata": {
    "kernel": "SoS"
   },
   "source": [
    "METAT is a command line tool, takes in a script that documenting the input sumstat files, the field of each of those sumstat input file, and then the end of scipt.\n",
    "METAL analysis is enssentially a weighted sum of Z score, therefore the input of snps from each chrm can be processed seperately. To make sure the same region was analysis, the input of this workflow shall be a list of path to the sumstat, join by \" \" to be analyzed at once."
   ]
  },
  {
   "cell_type": "code",
   "execution_count": null,
   "id": "valuable-violation",
   "metadata": {
    "kernel": "SoS"
   },
   "outputs": [],
   "source": [
    "[global]\n",
    "parameter: sumstat_list = list\n",
    "parameter: name = str\n",
    "parameter: variant_id = 'variant_id'\n",
    "parameter: Sample_size = 'N'\n",
    "parameter: ALLELE = 'alt ref'\n",
    "parameter: FREQ   = 'EFFECT_ALLELE_FREQ'\n",
    "parameter: Beta = 'beta'\n",
    "parameter: SE = 'se'\n",
    "parameter: PVAL   = 'pval'\n",
    "parameter: wd = path\n",
    "parameter: SCHEME = 'STDERR'\n",
    "parameter: AVERAGEFREQ = \"OFF\"\n",
    "parameter: MINMAXFREQ  = \"OFF\"\n",
    "parameter: GENOMICCONTROL  = \"OFF\""
   ]
  },
  {
   "cell_type": "markdown",
   "id": "necessary-hormone",
   "metadata": {
    "kernel": "SoS"
   },
   "source": [
    "## Script generation\n",
    "The METAL script contains three sections, the first is the analysis parameters, the second is the inputs files, and the third is the ending of script."
   ]
  },
  {
   "cell_type": "code",
   "execution_count": null,
   "id": "settled-march",
   "metadata": {
    "kernel": "SoS"
   },
   "outputs": [],
   "source": [
    "[METAL_1,generate_METAL_script]\n",
    "input:  sumstat_list\n",
    "output: METAL_script = f'{wd}/{name}.METAL_script.txt'\n",
    "bash: expand = \"$[ ]\", stderr = f'{_output[0]}.stderr', stdout = f'{_output[0]}.stdout'\n",
    "        echo '\n",
    "        # Meta-analysis weighted by:\n",
    "        SCHEME   $[SCHEME]\n",
    "        \n",
    "        # Whether do genomics control\n",
    "        GENOMICCONTROL $[GENOMICCONTROL]\n",
    "        \n",
    "        # Whether do AVERAGEFREQ or MINMAXFREQ control\n",
    "        AVERAGEFREQ $[AVERAGEFREQ]\n",
    "        MINMAXFREQ $[MINMAXFREQ] \n",
    "        OUTFILE $[wd]/$[name] .METAL.txt' > $[_output]\n",
    "\n",
    "        for i in $[\" \".join(sumstat_list)] ; do \n",
    "        echo \"     \n",
    "        MARKER   $[variant_id]\n",
    "        WEIGHT   $[Sample_size]\n",
    "        ALLELE   $[ALLELE]\n",
    "        #FREQ     $[FREQ]\n",
    "        EFFECT   $[Beta]\n",
    "        STDERR   $[SE]\n",
    "        PVAL     $[PVAL]\n",
    "        PROCESS  $i \" >> $[_output];\n",
    "        done \n",
    "        \n",
    "        echo '\n",
    "        ANALYZE' >> $[_output]"
   ]
  },
  {
   "cell_type": "code",
   "execution_count": null,
   "id": "diverse-cooler",
   "metadata": {
    "kernel": "SoS"
   },
   "outputs": [],
   "source": [
    "[METAL_2,Excute_METAL_script]\n",
    "output: METAL_result = f'{wd}/{name}1.METAL.txt'\n",
    "bash: expand = \"$[ ]\", stderr = f'{_output[0]}.stderr', stdout = f'{_output[0]}.stdout'\n",
    "       metal $[_input]"
   ]
  },
  {
   "cell_type": "code",
   "execution_count": null,
   "id": "noticed-humanitarian",
   "metadata": {
    "kernel": "SoS"
   },
   "outputs": [],
   "source": [
    "[METAL_3,Output_reformatting]\n",
    "output: METAL_result = f'{wd}/{name}.METAL.txt'\n",
    "python: expand = \"$[ ]\", stderr = f'{_output[0]}.stderr', stdout = f'{_output[0]}.stdout'\n",
    "        import pandas as pd\n",
    "        df = pd.read_csv($[_input:r],sep = \"\\t\")\n",
    "        df.columns = [\"variant_id\",\"alt\",\"ref\",\"Weight\",\"beta\",\"pval\",\"Direction\"]\n",
    "        df = df.assign(se = 1)\n",
    "        df.to_csv(\"$[_output]\",sep = \"\\t\",index = 0)"
   ]
  }
 ],
 "metadata": {
  "kernelspec": {
   "display_name": "SoS",
   "language": "sos",
   "name": "sos"
  },
  "language_info": {
   "codemirror_mode": "sos",
   "file_extension": ".sos",
   "mimetype": "text/x-sos",
   "name": "sos",
   "nbconvert_exporter": "sos_notebook.converter.SoS_Exporter",
   "pygments_lexer": "sos"
  },
  "sos": {
   "kernels": [
    [
     "SoS",
     "sos",
     "",
     ""
    ]
   ],
   "version": "0.22.4"
  }
 },
 "nbformat": 4,
 "nbformat_minor": 5
}
