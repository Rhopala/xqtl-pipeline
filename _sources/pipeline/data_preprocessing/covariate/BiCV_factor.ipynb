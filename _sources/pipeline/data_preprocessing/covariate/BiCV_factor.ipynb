{
 "cells": [
  {
   "cell_type": "markdown",
   "id": "exposed-humidity",
   "metadata": {
    "kernel": "SoS",
    "tags": []
   },
   "source": [
    "# Factor analysis using Bi-Cross validation\n",
    "\n",
    "Implemented in APEX"
   ]
  },
  {
   "cell_type": "markdown",
   "id": "increasing-recall",
   "metadata": {
    "kernel": "SoS"
   },
   "source": [
    "## Main code for the pipeline: APEX\n",
    "Input: \n",
    "1. a bed file for molecular phenotype\n",
    "if covariate file is required:\n",
    "1. A cov file with colnames as samples and covariates/pca/factor named as #id columns on the side.\n",
    "2. A vcf file documenting the genotype of the samples for any genetics regions.\n",
    "Output:\n",
    "1. A covariate file with colnames as samples and covariates/pca/factor named as #id columns on the side."
   ]
  },
  {
   "cell_type": "code",
   "execution_count": 3,
   "id": "marked-right",
   "metadata": {
    "kernel": "SoS"
   },
   "outputs": [],
   "source": [
    "[APEX]\n",
    "input:  molecular_pheno\n",
    "output: f'{wd:a}/{name}.APEX.cov.gz',\n",
    "        f'{wd:a}/{name}.APEX.cov'\n",
    "task: trunk_workers = 1, trunk_size = 1, walltime = '4h',  mem = '20G', tags = f'{step_name}_{_output[0]:bn}'\n",
    "bash: expand = \"$[ ]\", stderr = f'{_output[0]}.stderr', stdout = f'{_output[0]}.stdout',container = container_apex,volumes = [f'{wd:ad}:{wd:ad}']\n",
    "    apex factor \\\n",
    "    --out $[_output[0]:nn] \\\n",
    "    --iter $[iteration] \\\n",
    "    --factors $[n_of_factor] \\\n",
    "    --bed $[_input] \\\n",
    "    --vcf $[vcf_file] $[f'--cov {covariate}' if os.path.exists(covariate) else f'']\n",
    "\n",
    "    gunzip -f -k $[_output[0]]"
   ]
  },
  {
   "cell_type": "markdown",
   "id": "inappropriate-measurement",
   "metadata": {
    "kernel": "Bash"
   },
   "source": [
    "## Reference:\n",
    "* Codes are adapted from [here](https://github.com/RTIInternational/biocloud_docker_tools/blob/master/peer/v1.3/run_peer.R)\n",
    "* GTEX recommandation of PEER factors is [here](https://gtexportal.org/home/documentationPage)\n",
    "* Examples by PEER is at [github](https://github.com/PMBio/peer/wiki/Tutorial)"
   ]
  }
 ],
 "metadata": {
  "kernelspec": {
   "display_name": "SoS",
   "language": "sos",
   "name": "sos"
  },
  "language_info": {
   "codemirror_mode": "sos",
   "file_extension": ".sos",
   "mimetype": "text/x-sos",
   "name": "sos",
   "nbconvert_exporter": "sos_notebook.converter.SoS_Exporter",
   "pygments_lexer": "sos"
  },
  "sos": {
   "kernels": [
    [
     "Bash",
     "bash",
     "Bash",
     "#E6EEFF",
     "shell"
    ],
    [
     "R",
     "ir",
     "R",
     "#DCDCDA",
     "r"
    ],
    [
     "SoS",
     "sos",
     "",
     "",
     "sos"
    ]
   ],
   "version": "0.22.4"
  }
 },
 "nbformat": 4,
 "nbformat_minor": 5
}
