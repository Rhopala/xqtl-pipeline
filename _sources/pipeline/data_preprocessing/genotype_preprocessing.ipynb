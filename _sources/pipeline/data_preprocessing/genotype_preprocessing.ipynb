{
 "cells": [
  {
   "cell_type": "markdown",
   "id": "careful-armstrong",
   "metadata": {
    "kernel": "SoS",
    "tags": []
   },
   "source": [
    "# Genotype data preprocessing\n",
    "\n",
    "This document performs genotype data quality control and preprocessing, as outlined in the yellow boxes of the flowchart below."
   ]
  },
  {
   "cell_type": "markdown",
   "id": "perfect-hometown",
   "metadata": {
    "kernel": "SoS",
    "tags": []
   },
   "source": [
    "![Data_proc_flowchart](../../../../_images/data_preprocessing.png)"
   ]
  },
  {
   "cell_type": "markdown",
   "id": "green-decimal",
   "metadata": {
    "jp-MarkdownHeadingCollapsed": true,
    "kernel": "SoS",
    "tags": []
   },
   "source": [
    "## Overview\n",
    "\n",
    "### Analysis steps\n",
    "\n",
    "1. Genotype data quality control (QC). See here for the [QC default settings](https://cumc.github.io/xqtl-pipeline/pipeline/data_preprocessing/genotype/GWAS_QC.html).\n",
    "2. Principle component analysis (PCA) based QC, and PC computation for each sub-population available in the genotype data.\n",
    "3. Genomic relationship matrix (GRM) computation.\n",
    "4. Genotype data reformatting for downstream fine-mapping analysis.\n",
    "\n",
    "### Input data requirement\n",
    "\n",
    "1. Genotype data. See here for [format details](https://cumc.github.io/xqtl-pipeline/pipeline/data_preprocessing/genotype/genotype_formatting.html).\n",
    "2. [Optional] a sample information file to specific population information, if external data such as HapMap or 1000 Genomes are to be integrated to the PCA analysis to visualize and assess population structure in the genotype data. See here for [format details](https://cumc.github.io/xqtl-pipeline/pipeline/data_preprocessing/genotype/genotype_formatting.html)."
   ]
  },
  {
   "cell_type": "markdown",
   "id": "third-debate",
   "metadata": {
    "kernel": "SoS"
   },
   "source": [
    "## Genotype QC"
   ]
  },
  {
   "cell_type": "code",
   "execution_count": null,
   "id": "floppy-university",
   "metadata": {
    "kernel": "Bash"
   },
   "outputs": [],
   "source": [
    "sos run genotype_formatting.ipynb merge_plink \\\n",
    "    --genoFile data/genotype/chr1.bed data/genotype/chr6.bed \\\n",
    "    --cwd output/genotype \\\n",
    "    --name chr1_chr6 \\\n",
    "    --container container/bioinfo.sif"
   ]
  },
  {
   "cell_type": "markdown",
   "id": "unexpected-specification",
   "metadata": {
    "kernel": "Bash"
   },
   "source": [
    "Determine and split between related and unrelated individuals,"
   ]
  },
  {
   "cell_type": "code",
   "execution_count": null,
   "id": "posted-possible",
   "metadata": {
    "kernel": "Bash"
   },
   "outputs": [],
   "source": [
    "sos run GWAS_QC.ipynb king \\\n",
    "    --cwd output/genotype \\\n",
    "    --genoFile output/genotype/chr1_chr6.bed \\\n",
    "    --name 20220110 \\\n",
    "    --kinship 0.05 \\\n",
    "    --container container/bioinfo.sif"
   ]
  },
  {
   "cell_type": "markdown",
   "id": "separate-serbia",
   "metadata": {
    "kernel": "Bash"
   },
   "source": [
    "Variant level and sample level QC on unrelated individuals, in preparation for PCA analysis:"
   ]
  },
  {
   "cell_type": "code",
   "execution_count": null,
   "id": "established-surge",
   "metadata": {
    "kernel": "Bash"
   },
   "outputs": [],
   "source": [
    "sos run GWAS_QC.ipynb qc \\\n",
    "    --cwd output/genotype \\\n",
    "    --genoFile output/genotype/chr1_chr6.20220110.unrelated.bed \\\n",
    "    --maf_filter 0.5 \\\n",
    "    --geno_filter 0.2 \\\n",
    "    --mind_filter 0.1 \\\n",
    "    --hwe_filter 1e-6 \\\n",
    "    --window 50 \\\n",
    "    --shift 10 \\\n",
    "    --r2 0.5 \\\n",
    "    --name for_pca \\\n",
    "    --container container/bioinfo.sif"
   ]
  },
  {
   "cell_type": "markdown",
   "id": "private-kidney",
   "metadata": {
    "kernel": "Bash"
   },
   "source": [
    "Extract previously selected variants from related individuals in preparation for PCA, only applying missingness filter at sample level,"
   ]
  },
  {
   "cell_type": "code",
   "execution_count": null,
   "id": "requested-american",
   "metadata": {
    "kernel": "Bash"
   },
   "outputs": [],
   "source": [
    "sos run GWAS_QC.ipynb qc \\\n",
    "    --cwd output/genotype \\\n",
    "    --genoFile output/genotype/chr1_chr6.20220110.related.bed \\\n",
    "    --keep-variants output/genotype/chr1_chr6.20220110.unrelated.for_pca.filtered.prune.in \\\n",
    "    --maf-filter 0 --geno-filter 0 --mind-filter 0.1 --hwe-filter 0 --r2 0 \\\n",
    "    --name for_pca \\\n",
    "    --container container/bioinfo.sif"
   ]
  },
  {
   "cell_type": "markdown",
   "id": "daily-value",
   "metadata": {
    "kernel": "Bash"
   },
   "source": [
    "**FIXME: contents below are yet to be reviewed. Please do not run**"
   ]
  },
  {
   "cell_type": "markdown",
   "id": "rough-stuart",
   "metadata": {
    "kernel": "SoS"
   },
   "source": [
    "## Principle component analysis"
   ]
  },
  {
   "cell_type": "code",
   "execution_count": null,
   "id": "front-venezuela",
   "metadata": {
    "kernel": "SoS"
   },
   "outputs": [],
   "source": [
    "nohup sos run PCA.ipynb pca \\\n",
    "            --cwd PCA/ \\\n",
    "            --container_lmm \"flashpcaR.sif\" \\\n",
    "            --name \"demo\" \\\n",
    "            --unrelated_genotype merge.mergrd.unrelated.bed \\\n",
    "            --related_genotype merge.mergrd.related.bed \\\n",
    "            --phenoFile demo.for_pca.mol_phe.exp \\\n",
    "            --label_col \"RACE\" \\\n",
    "            --pop_col \"RACE\"  "
   ]
  },
  {
   "cell_type": "markdown",
   "id": "compressed-ukraine",
   "metadata": {
    "kernel": "SoS"
   },
   "source": [
    "## Genomic relationship matrix\n",
    "input:\n",
    "1. A list of plink trio per chrom, output from Genotype QC\n",
    "\n",
    "output: \n",
    "1. A collection of ld.rds file that are suitable for mvsusie_rss and susie_rss\n",
    "2. One row of the LD recipe file for this particular theme, so that susie_rss can find the correct ld"
   ]
  },
  {
   "cell_type": "code",
   "execution_count": null,
   "id": "connected-palestine",
   "metadata": {
    "kernel": "SoS"
   },
   "outputs": [],
   "source": [
    "nohup sos run GRM.ipynb GRM\n",
    "    --genotype_list demo.processed_genotype.plink_per_chrom.recipe \\\n",
    "    --wd GRM/ \\\n",
    "    --name \"demo\" \\\n",
    "    --container \"base-bioinfo.sif\" "
   ]
  },
  {
   "cell_type": "markdown",
   "id": "capital-saturday",
   "metadata": {
    "kernel": "SoS"
   },
   "source": [
    "## Reformatting and partition for regional genotypic data"
   ]
  },
  {
   "cell_type": "code",
   "execution_count": null,
   "id": "helpful-reggae",
   "metadata": {
    "kernel": "SoS"
   },
   "outputs": [],
   "source": [
    "\n",
    "nohup sos run plink2vcf\\\n",
    "    --genoFile ac.mergrd.ac.filtered.prune.bed \\\n",
    "    --wd genotype_reformmating/ \\\n",
    "    --name \"ac\" \\\n",
    "    --region_list geneTpmResidualsAgeGenderAdj_rename_region_list.txt  \\\n",
    "    --container \"base-bioinfo.sif\" \n",
    "\n",
    "nohup sos run genotype_formatting.ipynb plink_by_gene \\\n",
    "    --genoFile ac.mergrd.ac.filtered.prune.bed \\\n",
    "    --wd genotype_reformmating/ \\\n",
    "    --name \"dlpfc\" \\\n",
    "    --region_list mwe_region  \\\n",
    "    --container \"base-bioinfo.sif\" \n",
    "\n",
    "nohup sos run genotype_formatting.ipynb plink_by_chrom \\\n",
    "    --genoFile ac.mergrd.ac.filtered.prune.bed \\\n",
    "    --wd genotype_reformmating/ \\\n",
    "    --name \"pcc\" \\\n",
    "    --region_list mwe_region  \\\n",
    "    --container \"base-bioinfo.sif\" "
   ]
  }
 ],
 "metadata": {
  "kernelspec": {
   "display_name": "SoS",
   "language": "sos",
   "name": "sos"
  },
  "language_info": {
   "codemirror_mode": "sos",
   "file_extension": ".sos",
   "mimetype": "text/x-sos",
   "name": "sos",
   "nbconvert_exporter": "sos_notebook.converter.SoS_Exporter",
   "pygments_lexer": "sos"
  },
  "sos": {
   "kernels": [
    [
     "Bash",
     "bash",
     "Bash",
     "#E6EEFF",
     ""
    ],
    [
     "SoS",
     "sos",
     "",
     "",
     "sos"
    ]
   ],
   "version": "0.22.4"
  }
 },
 "nbformat": 4,
 "nbformat_minor": 5
}
