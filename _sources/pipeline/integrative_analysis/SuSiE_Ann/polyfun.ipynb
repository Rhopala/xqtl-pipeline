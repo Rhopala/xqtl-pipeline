{
 "cells": [
  {
   "cell_type": "markdown",
   "id": "major-patent",
   "metadata": {
    "kernel": "SoS",
    "tags": []
   },
   "source": [
    "# Fine-mapping with PolyFun"
   ]
  },
  {
   "cell_type": "markdown",
   "id": "human-revolution",
   "metadata": {
    "kernel": "Markdown",
    "tags": []
   },
   "source": [
    "## Aim"
   ]
  },
  {
   "cell_type": "markdown",
   "id": "stopped-township",
   "metadata": {
    "kernel": "Markdown",
    "tags": []
   },
   "source": [
    "The purpose of this notebook is to demonstrate a functionally-informed fine-mapping workflow using the PolyFun method."
   ]
  },
  {
   "cell_type": "markdown",
   "id": "cardiac-duration",
   "metadata": {
    "kernel": "Markdown"
   },
   "source": [
    "## Methods Overview "
   ]
  },
  {
   "cell_type": "markdown",
   "id": "certain-legislature",
   "metadata": {
    "kernel": "Markdown"
   },
   "source": [
    "## Input "
   ]
  },
  {
   "cell_type": "markdown",
   "id": "0128d260-053e-456b-ba4a-bd805a042a07",
   "metadata": {
    "kernel": "SoS"
   },
   "source": [
    "1) GWAS summary statistics including the following variables: \n",
    "\n",
    "    - variant_id - variant ID \n",
    "    - P - p-value \n",
    "    - CHR - chromosome number \n",
    "    - BP - base pair position\n",
    "    - A1 - The effect allele (i.e., the sign of the effect size is with respect to A1)\n",
    "    - A2 - the second allele \n",
    "    - MAF - minor allele frequency \n",
    "    - BETA - effect size \n",
    "    - SE - effect size standard error\n",
    "\n",
    "\n",
    "2) Functional annotation files including the following columns: \n",
    "\n",
    "    - CHR - chromosome number\n",
    "    - BP base pair position (in hg19 coordinates)\n",
    "    - SNP - dbSNP reference number \n",
    "    - A1 - The effect allele \n",
    "    - A2 - the second allele\n",
    "    - Arbitrary additional columns representing annotations\n",
    "\n",
    "\n",
    "3) A `.l2.M` white-space delimited file containing a single line with the sums of the columns of each annotation\n",
    "\n",
    "4) LD-score files \n",
    "\n",
    "    - Strongly recommended that LD-score files include A1,A2 columns\n",
    "\n",
    "\n",
    "5) LD information, taken from one of three possible data sources:\n",
    "\n",
    "    - plink files with genotypes from a reference panel\n",
    "    - bgen file with genotypes from a reference panel\n",
    "    - pre-computed LD matrix\n",
    "\n",
    "    Optional if (4) is obtained and no plans to compute prior causal probabilities non-parametrically \n",
    "\n",
    "6) Ld-score weights files.\n",
    "\n",
    "    - Strongly recommended that weight files include A1,A2 columns\n",
    "\n"
   ]
  },
  {
   "cell_type": "markdown",
   "id": "optical-implement",
   "metadata": {
    "kernel": "Markdown"
   },
   "source": [
    "## Output\n",
    "\n",
    "A `.gz` file containing input summary statistics columns and additionally the following columns:\n",
    "\n",
    "- PIP - posterior causal probability\n",
    "- BETA_MEAN - posterior mean of causal effect size (in standardized genotype scale)\n",
    "- BETA_SD - posterior standard deviation of causal effect size (in standardized genotype scale)\n",
    "- CREDIBLE_SET - the index of the first (typically smallest) credible set that the SNP belongs to (0 means none).\n"
   ]
  },
  {
   "cell_type": "markdown",
   "id": "hungry-harmony",
   "metadata": {
    "kernel": "Markdown"
   },
   "source": [
    "## Workflow"
   ]
  },
  {
   "cell_type": "markdown",
   "id": "0942aace-577d-4379-85f5-e485b0ca1330",
   "metadata": {
    "kernel": "SoS"
   },
   "source": [
    "Step 1 and 2 are optional if using pre-computed prior causal probabilities"
   ]
  },
  {
   "cell_type": "markdown",
   "id": "a158e8f3-75ff-4da2-a810-d03f68885998",
   "metadata": {
    "kernel": "SoS"
   },
   "source": [
    "### Step 1: Obtain functional annotations "
   ]
  },
  {
   "cell_type": "markdown",
   "id": "bf8cb475-fe94-45a6-b3b4-8b0796196044",
   "metadata": {
    "kernel": "SoS"
   },
   "source": [
    "For each chromosome, the following files need to be obtained: \n",
    "\n",
    "1) A `.gz` or `.parquet` annotations file containing the following columns:\n",
    "\n",
    "- CHR - chromosome number\n",
    "- BP base pair position\n",
    "- SNP - dbSNP reference number \n",
    "- A1 - The effect allele \n",
    "- A2 - the second allele\n",
    "- Arbitrary additional columns representing annotations \n",
    "\n",
    "2) A `.l2.M` white-space delimited file containing a single line with the sums of the columns of each annotation\n",
    "\n",
    "3) (Optional) A `l2.M_5_50` file that is the `.l2.M` file but only containing common SNPS (MAF between 5% and 50%) "
   ]
  },
  {
   "cell_type": "markdown",
   "id": "9bcdf135-5019-4d85-a8c5-375c1098665c",
   "metadata": {
    "kernel": "SoS"
   },
   "source": [
    "The above files can be obtained either by using existing function annotation files, or by creating your own through other software such as `TORUS`.\n",
    "\n",
    "Existing function annotation files example: functional annotations for ~19 million UK Biobank imputed SNPs with MAF>0.1%, based on the baseline-LF 2.2.UKB annotations.\n",
    "\n",
    "Download (30G): https://data.broadinstitute.org/alkesgroup/LDSCORE/baselineLF_v2.2.UKB.polyfun.tar.gz"
   ]
  },
  {
   "cell_type": "markdown",
   "id": "484d463d-6879-431c-822c-a0e7c93f8a13",
   "metadata": {
    "kernel": "SoS"
   },
   "source": [
    "### Step 2: Compute LD-scores for annotations "
   ]
  },
  {
   "cell_type": "markdown",
   "id": "3af39f0b-ea87-444b-bb73-c81e0001beeb",
   "metadata": {
    "kernel": "SoS"
   },
   "source": [
    "Precomputed LD-score files can be used. LD-score files can also be generated through the methods below:"
   ]
  },
  {
   "cell_type": "markdown",
   "id": "1977c0c7-4bc6-4e18-a471-a46419002eda",
   "metadata": {
    "kernel": "SoS"
   },
   "source": [
    "#### Method 1: Compute with reference panel of sequenced individuals "
   ]
  },
  {
   "cell_type": "markdown",
   "id": "b0438f4f-82b9-43e9-a0d6-35394ad9f8f7",
   "metadata": {
    "kernel": "SoS"
   },
   "source": [
    "Reference panel should have at least 3000 sequenced individuals from target population."
   ]
  },
  {
   "cell_type": "code",
   "execution_count": null,
   "id": "698a5da0-fdb5-41e5-92cb-85671b4052f6",
   "metadata": {
    "kernel": "SoS"
   },
   "outputs": [],
   "source": [
    "[global]\n",
    "parameter: container = str\n",
    "parameter: wd = path(\"./\")\n",
    "parameter: exe_dir = path"
   ]
  },
  {
   "cell_type": "code",
   "execution_count": null,
   "id": "31d975ea-64ea-45ca-97ae-1eb5604047be",
   "metadata": {
    "kernel": "SoS"
   },
   "outputs": [],
   "source": [
    "[ld_score]\n",
    "parameter: genoFile = path\n",
    "parameter: annot_file = path\n",
    "input: annot_file, genoFile\n",
    "#output: f'{wd:a}/{?}.parquet'\n",
    "bash: expand = \"$[ ]\", stderr = f'{_output}.stderr', stdout = f'{_output}.stdout' , container = container\n",
    "    python $[exe_dir]/compute_ldscores.py \\\n",
    "    --bfile $[_input[1]:n] \\\n",
    "    --annot $[_input[0]] \\\n",
    "    --out $[_output]"
   ]
  },
  {
   "cell_type": "markdown",
   "id": "131c21b1-db09-42e3-940d-4cc80ed3ea7f",
   "metadata": {
    "kernel": "SoS"
   },
   "source": [
    "#### Method 2: Compute with pre-computed UK Biobank LD matrices "
   ]
  },
  {
   "cell_type": "markdown",
   "id": "d625e577-8f9c-4b03-9790-6f0131bcd1bb",
   "metadata": {
    "kernel": "SoS"
   },
   "source": [
    "Matrices download: https://data.broadinstitute.org/alkesgroup/UKBB_LD"
   ]
  },
  {
   "cell_type": "code",
   "execution_count": null,
   "id": "0dc5e484-bfa3-462f-b2d4-190cd82f2a6c",
   "metadata": {
    "kernel": "SoS"
   },
   "outputs": [],
   "source": [
    "[ld_score_uk]\n",
    "parameter: annot_file = path\n",
    "input: annot_file\n",
    "#output: f'{wd:a}/{?}.parquet'\n",
    "bash: expand = \"$[ ]\", stderr = f'{_output}.stderr', stdout = f'{_output}.stdout' , container = container\n",
    "    python $[exe_dir]/compute_ldscores_from_ld.py \\\n",
    "    --annot $[_input[0]] \\\n",
    "    --ukb \\\n",
    "    --out $[_output]"
   ]
  },
  {
   "cell_type": "markdown",
   "id": "e1269a27-38b4-486f-980e-8c7c528855dd",
   "metadata": {
    "kernel": "SoS"
   },
   "source": [
    "#### Method 3: Compute with own pre-computed LD matrices"
   ]
  },
  {
   "cell_type": "markdown",
   "id": "948f706f-d2a9-4300-817f-ea268f3202e6",
   "metadata": {
    "kernel": "SoS"
   },
   "source": [
    "Own pre-computed LD matrices should be in `.bcor` format. "
   ]
  },
  {
   "cell_type": "code",
   "execution_count": null,
   "id": "c8954a02-f9d4-42a4-bbae-19b62f50bf66",
   "metadata": {
    "kernel": "SoS"
   },
   "outputs": [],
   "source": [
    "[ld_score_own]\n",
    "parameter: annot_file = path\n",
    "parameter: sample_size = int\n",
    "parameter: bcor_files = paths\n",
    "input: annot_file,bcor_files\n",
    "#output\n",
    "bash: expand = \"$[ ]\", stderr = f'{_output}.stderr', stdout = f'{_output}.stdout' , container = container\n",
    "    python $[exe_dir]/compute_ldscores_from_ld.py $[_input[1]] \\\n",
    "    --annot $[_input[0]] \\\n",
    "    --out $[_output] \\\n",
    "    --n $[sample_size] \\\n",
    "    "
   ]
  },
  {
   "cell_type": "markdown",
   "id": "piano-flood",
   "metadata": {
    "kernel": "SoS"
   },
   "source": [
    "### Step 3: Compute Prior Causal Probabilities"
   ]
  },
  {
   "cell_type": "markdown",
   "id": "lightweight-anatomy",
   "metadata": {
    "kernel": "SoS"
   },
   "source": [
    "#### Method 1: Use precomputed prior causal probabilities"
   ]
  },
  {
   "cell_type": "markdown",
   "id": "fabulous-description",
   "metadata": {
    "kernel": "SoS"
   },
   "source": [
    "Use precomputed prior causal probabilities of 19 million imputed UK Biobank SNPs with MAF>0.1%, based on a meta-analysis of 15 UK Biobank traits. "
   ]
  },
  {
   "cell_type": "code",
   "execution_count": null,
   "id": "gentle-triangle",
   "metadata": {
    "kernel": "SoS",
    "tags": []
   },
   "outputs": [],
   "source": [
    "[prior_causal_prob]\n",
    "parameter: sumstats = path\n",
    "input: sumstats\n",
    "#output: f'{wd}/{name}.snps_with_vars'\n",
    "bash: expand = \"$[ ]\", stderr = f'{_output}.stderr', stdout = f'{_output}.stdout' , container = container\n",
    "    python extract_snpvar.py \\\n",
    "        --sumstats $[_input] \\\n",
    "        --out $[_output] \\\n",
    "        --allow-missing"
   ]
  },
  {
   "cell_type": "markdown",
   "id": "helpful-queens",
   "metadata": {
    "kernel": "SoS"
   },
   "source": [
    "#### Method 2: Compute via L2-regularized extension of S-LDSC (preferred)"
   ]
  },
  {
   "cell_type": "markdown",
   "id": "guided-acting",
   "metadata": {
    "kernel": "SoS"
   },
   "source": [
    "Compute via an L2-regularized extension of stratified LD-score regression (S-LDSC). Use the annotation and LD-score files produced in Step1. "
   ]
  },
  {
   "cell_type": "markdown",
   "id": "changed-sydney",
   "metadata": {
    "kernel": "SoS"
   },
   "source": [
    "1) Create a munged summary statistics file in a PolyFun-friendly parquet format."
   ]
  },
  {
   "cell_type": "code",
   "execution_count": null,
   "id": "prescribed-bernard",
   "metadata": {
    "kernel": "SoS",
    "tags": []
   },
   "outputs": [],
   "source": [
    "[munged_sumstats]\n",
    "parameter: sumstats = path\n",
    "parameter: sample_size = int\n",
    "parameter: min_info = 0\n",
    "parameter: min_maf = 0\n",
    "input: sumstats\n",
    "output: f'{wd}/{name}.sumstat_merger'\n",
    "bash: expand = \"$[ ]\", stderr = f'{_output}.stderr', stdout = f'{_output}.stdout' , container = container\n",
    "    python munge_polyfun_sumstats.py \\\n",
    "      --sumstats $[_input] \\\n",
    "      --n $[sample_size] \\\n",
    "      --out $[_output] \\\n",
    "      --min-info $[min_info] \\\n",
    "      --min-maf $[min_maf]"
   ]
  },
  {
   "cell_type": "markdown",
   "id": "engaged-operator",
   "metadata": {
    "kernel": "SoS"
   },
   "source": [
    "2) Run PolyFun with L2-regularized S-LDSC"
   ]
  },
  {
   "cell_type": "code",
   "execution_count": null,
   "id": "therapeutic-atlantic",
   "metadata": {
    "kernel": "SoS",
    "tags": []
   },
   "outputs": [],
   "source": [
    "[L2_regu_SLDSC]\n",
    "parameter: container = none\n",
    "paramter: ref_ld = /baselineLF2.2.UKB/baselineLF2.2.UKB.\n",
    "parameter: ref_wgt = /weights.UKB.l2.ldscore/weights.UKB.\n",
    "bash: container=container\n",
    "    python polyfun.py \\\n",
    "    --compute-h2-L2 \\\n",
    "    --no-partitions \\\n",
    "    --output-prefix /SLDSC_output/run \\\n",
    "    --sumstats /SLDSC_output/sumstats_munged.parquet \\\n",
    "    --ref-ld-chr ref_ld \\\n",
    "    --w-ld-chr ref_wgt \\\n",
    "    --allow-missing"
   ]
  },
  {
   "cell_type": "markdown",
   "id": "quality-disabled",
   "metadata": {
    "kernel": "SoS"
   },
   "source": [
    "#### Method 3: Compute Non-parametrically"
   ]
  },
  {
   "cell_type": "markdown",
   "id": "lyric-capitol",
   "metadata": {
    "kernel": "SoS"
   },
   "source": [
    "1) Create a munged summary statistics file in a PolyFun-friendly parquet format."
   ]
  },
  {
   "cell_type": "code",
   "execution_count": null,
   "id": "diagnostic-vampire",
   "metadata": {
    "kernel": "SoS",
    "tags": []
   },
   "outputs": [],
   "source": [
    "[munged_sumstats2]\n",
    "parameter: sumstats = AD_sumstats_Jansenetal_2019sept.txt.gz\n",
    "parameter: sample_size = int\n",
    "parameter: container = none\n",
    "bash: container = container \n",
    "    mkdir -p SLDSC_output\n",
    "    python munge_polyfun_sumstats.py \\\n",
    "      --sumstats sumstats \\\n",
    "      --n sample_size \\\n",
    "      --out /SLDSC_output/sumstats_munged.parquet \\\n",
    "      --min-info 0 \\\n",
    "      --min-maf 0"
   ]
  },
  {
   "cell_type": "markdown",
   "id": "massive-roads",
   "metadata": {
    "kernel": "SoS"
   },
   "source": [
    "2) Run PolyFun with L2-regularized S-LDSC"
   ]
  },
  {
   "cell_type": "code",
   "execution_count": null,
   "id": "driving-accreditation",
   "metadata": {
    "kernel": "SoS"
   },
   "outputs": [],
   "source": [
    "[L2_regu_SLDSC2]\n",
    "parameter: container = none\n",
    "paramter: ref_ld = example_data/annotations.\n",
    "parameter: ref_wgt = example_data/weights.\n",
    "bash: container=container\n",
    "    python polyfun.py \\\n",
    "    --compute-h2-L2 \\\n",
    "    --output-prefix output/testrun \\\n",
    "    --sumstats example_data/sumstats.parquet \\\n",
    "    --ref-ld-chr ref_ld \\\n",
    "    --w-ld-chr ref_wgt"
   ]
  },
  {
   "cell_type": "markdown",
   "id": "buried-toronto",
   "metadata": {
    "kernel": "SoS"
   },
   "source": [
    "3) Compute LD-scores for each SNP bin"
   ]
  },
  {
   "cell_type": "code",
   "execution_count": null,
   "id": "clear-softball",
   "metadata": {
    "kernel": "SoS"
   },
   "outputs": [],
   "source": [
    "[ld_snpbin]\n",
    "bash:\n",
    "    python polyfun.py \\\n",
    "    --compute-ldscores \\\n",
    "    --output-prefix output/testrun \\\n",
    "    --bfile-chr example_data/reference. \\\n",
    "    --chr 1"
   ]
  },
  {
   "cell_type": "markdown",
   "id": "scenic-liabilities",
   "metadata": {
    "kernel": "SoS"
   },
   "source": [
    "4) Re-estimate per-SNP heritabilities via S-LDSC"
   ]
  },
  {
   "cell_type": "code",
   "execution_count": null,
   "id": "loaded-killer",
   "metadata": {
    "kernel": "SoS"
   },
   "outputs": [],
   "source": [
    "[re_SLDSC]\n",
    "bash:\n",
    "    python polyfun.py \\\n",
    "    --compute-h2-bins \\\n",
    "    --output-prefix output/testrun \\\n",
    "    --sumstats example_data/sumstats.parquet \\\n",
    "    --w-ld-chr example_data/weights."
   ]
  },
  {
   "cell_type": "markdown",
   "id": "uniform-guatemala",
   "metadata": {
    "kernel": "SoS"
   },
   "source": [
    "### Step 4: Functionally informed fine mapping with finemapper"
   ]
  },
  {
   "cell_type": "markdown",
   "id": "south-joyce",
   "metadata": {
    "kernel": "SoS"
   },
   "source": [
    "Input summary statistics file must have `SNPVAR` column (per-SNP heritability) to perform functionally-informed fine-mapping. To fine-map without annotations, use additional parameter `--non-funct`. The summary statistical file then will not require the `SNPVAR` column. "
   ]
  },
  {
   "cell_type": "code",
   "execution_count": null,
   "id": "herbal-politics",
   "metadata": {
    "kernel": "SoS"
   },
   "outputs": [],
   "source": [
    "[fine_mapping]\n",
    "parameter: genotype_file = example_data/chr1\n",
    "parameter: sumstat = example_data/chr1.finemap_sumstats.txt.gz\n",
    "parameter: sample_size = 383290\n",
    "parameter: chr = 1\n",
    "parameter: start = 46000001\n",
    "parameter: end = 49000001\n",
    "parameter: output_path = output/finemap.1.46000001.49000001.gz\n",
    "bash: \n",
    "    mkdir -p LD_cache\n",
    "    mkdir -o output\n",
    "\n",
    "    python finemapper.py \\\n",
    "    --geno genotype_file \\\n",
    "    --sumstats  \\\n",
    "    --n sample_size \\\n",
    "    --chr chr \\\n",
    "    --start start \\\n",
    "    --end end \\\n",
    "    --method susie \\\n",
    "    --max-num-causal 5 \\\n",
    "    --cache-dir LD_cache \\\n",
    "    --out output_path"
   ]
  },
  {
   "cell_type": "markdown",
   "id": "conservative-andrew",
   "metadata": {
    "kernel": "Markdown"
   },
   "source": [
    "## Minimal Working Example"
   ]
  },
  {
   "cell_type": "markdown",
   "id": "c97913b0-0fc1-45a6-b0e9-f98df45b2ce1",
   "metadata": {
    "kernel": "SoS"
   },
   "source": [
    "# FIXME: Run examples and summaries through. Uplaod all example data "
   ]
  },
  {
   "cell_type": "markdown",
   "id": "d45528d5-c54a-4e87-8285-8b77141fe9a6",
   "metadata": {
    "kernel": "SoS"
   },
   "source": [
    "Example 1: Functionally-informed fine-mapping using summary statistics file with precomputed prior causal probabilities"
   ]
  },
  {
   "cell_type": "code",
   "execution_count": null,
   "id": "eastern-winner",
   "metadata": {
    "kernel": "SoS"
   },
   "outputs": [],
   "source": [
    "bash: container = '/mnt/mfs/statgen/tl3030/SIF/polyfun_ninth.sif'\n",
    "    mkdir output\n",
    "    python /home/at3535/polyfun/extract_snpvar.py \\\n",
    "        --sumstats /home/at3535/polyfun/AD_sumstats_Jansenetal_2019sept.txt.gz \\\n",
    "        --out output/AD_snps_with_var.gz \\\n",
    "        --allow-missing"
   ]
  },
  {
   "cell_type": "code",
   "execution_count": 1,
   "id": "sorted-leather",
   "metadata": {
    "kernel": "SoS"
   },
   "outputs": [],
   "source": [
    "bash: container = '/mnt/mfs/statgen/tl3030/SIF/polyfun_ninth.sif'\n",
    "    python /home/at3535/polyfun/finemapper.py \\\n",
    "    --geno UKB_expandedwhiteonly_phenotypeindepqc_410905indiv_528206snps_102720_chr1 \\\n",
    "    --sumstats output/AD_snps_with_var.gz \\\n",
    "    --n 410905 \\\n",
    "    --chr 1 \\\n",
    "    --start 46000001 \\\n",
    "    --end 49000001 \\\n",
    "    --method susie \\\n",
    "    --max-num-causal 5 \\\n",
    "    --allow-missing \\\n",
    "    --cache-dir LD_cache \\\n",
    "    --out output/finemap.1.46000001.49000001.gz"
   ]
  },
  {
   "cell_type": "markdown",
   "id": "a08565ba-1125-4a33-b873-f239034964c4",
   "metadata": {
    "kernel": "SoS"
   },
   "source": [
    "Example 2: Functionally-informed fine-mapping using summary statistics file generated from pre-obtained annotation and LD-score files "
   ]
  },
  {
   "cell_type": "code",
   "execution_count": null,
   "id": "5fa05c9b-a7b0-4377-a703-6bfd349cb0a7",
   "metadata": {
    "kernel": "SoS"
   },
   "outputs": [],
   "source": [
    "bash: container = '/mnt/mfs/statgen/tl3030/SIF/polyfun_ninth.sif'\n",
    "    mkdir output\n",
    "    python /home/at3535/polyfun/munge_polyfun_sumstats.py \\\n",
    "      --sumstats /home/at3535/polyfun/GCST90012877_buildGRCh37_colrenamed.txt.gz \\\n",
    "      --n 472868 \\\n",
    "      --out output/sumstats_munged.parquet \\\n",
    "      --min-info 0.6 \\\n",
    "      --min-maf 0.001"
   ]
  },
  {
   "cell_type": "code",
   "execution_count": null,
   "id": "8b503045-5947-474a-a440-74636c4545fd",
   "metadata": {
    "kernel": "SoS"
   },
   "outputs": [],
   "source": [
    "bash: container = '/mnt/mfs/statgen/tl3030/SIF/polyfun_ninth.sif'\n",
    "    python /home/at3535/polyfun/polyfun.py \\\n",
    "    --compute-h2-L2 \\\n",
    "    --no-partitions \\\n",
    "    --output-prefix output/testrun \\\n",
    "    --sumstats output/sumstats_munged.parquet \\\n",
    "    --ref-ld-chr /mnt/mfs/statgen/tl3030/baselineLF2.2.UKB/baselineLF2.2.UKB. \\\n",
    "    --w-ld-chr /mnt/mfs/statgen/tl3030/weights.UKB.l2.ldscore/weights.UKB. \\\n",
    "    --allow-missing"
   ]
  },
  {
   "cell_type": "code",
   "execution_count": null,
   "id": "75ce4094-3454-4425-8a98-239149cfbaa0",
   "metadata": {
    "kernel": "SoS"
   },
   "outputs": [],
   "source": [
    "bash: container = '/mnt/mfs/statgen/tl3030/SIF/polyfun_ninth.sif't\n",
    "    python /home/at3535/polyfun/finemapper.py \\\n",
    "    --geno /mnt/mfs/statgen/tl3030/UKB_white_qcgenotype_chrseparated/UKB_expandedwhiteonly_phenotypeindepqc_410905indiv_528206snps_102720_chr1 \\\n",
    "    --sumstats output/testrun.1.snpvar_ridge_constrained.gz \\\n",
    "    --n 410905 \\\n",
    "    --chr 1 \\\n",
    "    --start 46000000 \\\n",
    "    --end 490000010 \\\n",
    "    --method susie \\\n",
    "    --max-num-causal 5 \\\n",
    "    --allow-missing \\\n",
    "    --cache-dir LD_cache \\\n",
    "    --out output/finemap.1.46000000.49000000.gz"
   ]
  },
  {
   "cell_type": "markdown",
   "id": "dominant-sugar",
   "metadata": {
    "kernel": "Bash"
   },
   "source": [
    "### Summary"
   ]
  },
  {
   "cell_type": "markdown",
   "id": "71af1253-19c5-44b3-9f2f-3f7b3e929705",
   "metadata": {
    "kernel": "SoS"
   },
   "source": [
    "#### Example 1:"
   ]
  },
  {
   "cell_type": "code",
   "execution_count": 23,
   "id": "acknowledged-while",
   "metadata": {
    "kernel": "SoS"
   },
   "outputs": [
    {
     "name": "stdout",
     "output_type": "stream",
     "text": [
      "CHR\tSNP\tBP\tA1\tA2\tSNPVAR\tZ\tN\tP\tPIP\tBETA_MEAN\tBETA_SD\tDISTANCE_FROM_CENTER\tCREDIBLE_SET\n",
      "1\trs2088102\t46032974\tT\tC\t1.70060e-06\t1.25500e+01\t383290\t3.97510e-36\t1.00000e+00\t-2.03917e-02\t1.61901e-03\t1456799\t1\n",
      "1\trs7528714\t47966058\tG\tA\t1.18040e-06\t5.14320e+00\t383290\t2.70098e-07\t9.97870e-01\t7.42146e-03\t1.62305e-03\t476285\t2\n",
      "1\trs7528075\t47870271\tG\tA\t1.18040e-06\t4.40160e+00\t383290\t1.07456e-05\t9.76545e-01\t-5.98945e-03\t1.81667e-03\t380498\t3\n",
      "1\trs212968\t48734666\tG\tA\t1.70060e-06\t-3.01130e+00\t383290\t2.60132e-03\t3.75823e-01\t-1.56305e-03\t2.23942e-03\t1244893\t0\n",
      "1\trs2622911\t47837404\tC\tA\t1.70060e-06\t3.12520e+00\t383290\t1.77684e-03\t3.71804e-01\t1.54312e-03\t2.22812e-03\t347631\t0\n",
      "1\trs4511165\t48293181\tG\tA\t1.70060e-06\t-1.18940e+00\t383290\t2.34282e-01\t5.75970e-02\t1.60630e-04\t7.52226e-04\t803408\t0\n",
      "1\trs3766196\t47284526\tC\tA\t6.93040e-06\t-5.92360e-02\t383290\t9.52764e-01\t4.89776e-02\t-5.06776e-07\t3.48039e-04\t205247\t0\n",
      "1\trs12567716\t48197570\tT\tC\t1.18040e-06\t2.14810e+00\t383290\t3.17058e-02\t4.45128e-02\t-1.28281e-04\t6.81457e-04\t707797\t0\n",
      "1\trs4927234\t48384796\tG\tA\t1.70060e-06\t-7.59600e-01\t383290\t4.47494e-01\t3.41123e-02\t7.74978e-05\t5.04755e-04\t895023\t0\n"
     ]
    }
   ],
   "source": [
    "bash:\n",
    "    gzcat output/finemap.1.46000001.49000001.gz | head"
   ]
  },
  {
   "cell_type": "code",
   "execution_count": 25,
   "id": "integrated-jones",
   "metadata": {
    "kernel": "Python3"
   },
   "outputs": [
    {
     "name": "stdout",
     "output_type": "stream",
     "text": [
      "['Number of variants with PIP > 0.5: 3\\n', 'Number of variants with PIP > 0.95: 3\\n', 'Number of variants that have credible sets: 3\\n', 'Number of unique credible sets: 3\\n', 'Average number of variants per credible set: 1.0']\n"
     ]
    }
   ],
   "source": [
    "import numpy as np\n",
    "import pandas as pd\n",
    "\n",
    "data = pd.read_csv('output/finemap.1.46000001.49000001.gz', sep=\"\\t\")\n",
    "\n",
    "data.head(5)\n",
    "    \n",
    "num_var_cs = np.count_nonzero(data['CREDIBLE_SET'])\n",
    "total_cs = len(data.CREDIBLE_SET.unique())- 1\n",
    "avg_var_cs = float(num_var_cs) / total_cs\n",
    "pip50 = sum(1 for i in data['PIP'] if i >0.5)\n",
    "pip95 = sum(1 for i in data['PIP'] if i >0.95)\n",
    "\n",
    "result = \"Number of variants with PIP > 0.5: \" + str(pip50) + \"\\n\" + \"Number of variants with PIP > 0.95: \" + str(pip95) + \"\\n\" \\\n",
    "    + \"Number of variants that have credible sets: \" + str(num_var_cs) + \"\\n\" \\\n",
    "    + \"Number of unique credible sets: \" + str(total_cs) + \"\\n\" \\\n",
    "    + \"Average number of variants per credible set: \" + str(avg_var_cs) \n",
    "\n",
    "\n",
    "with open('results.txt', 'a') as the_file:\n",
    "    the_file.write(result)\n",
    "\n",
    "with open('results.txt') as f:\n",
    "    contents = f.readlines()\n",
    "    print(contents)"
   ]
  },
  {
   "cell_type": "markdown",
   "id": "351b7258-898c-4894-a152-01e531d129f7",
   "metadata": {
    "kernel": "Python3"
   },
   "source": [
    "#### Example 2: "
   ]
  },
  {
   "cell_type": "code",
   "execution_count": null,
   "id": "a42796fd-9a7c-4832-bd09-189f6b075ba8",
   "metadata": {
    "kernel": "Python3"
   },
   "outputs": [],
   "source": [
    "bash:\n",
    "    gzcat output/finemap.1.460000010.49000000.gz | head"
   ]
  },
  {
   "cell_type": "code",
   "execution_count": 25,
   "id": "62216d5b-23c4-4938-b821-6181ff1ef03f",
   "metadata": {
    "kernel": "Python3"
   },
   "outputs": [
    {
     "name": "stdout",
     "output_type": "stream",
     "text": [
      "['Number of variants with PIP > 0.5: 3\\n', 'Number of variants with PIP > 0.95: 3\\n', 'Number of variants that have credible sets: 3\\n', 'Number of unique credible sets: 3\\n', 'Average number of variants per credible set: 1.0']\n"
     ]
    }
   ],
   "source": [
    "import numpy as np\n",
    "import pandas as pd\n",
    "\n",
    "data = pd.read_csv('output/finemap.1.46000000.49000000.gz', sep=\"\\t\")\n",
    "\n",
    "data.head(5)\n",
    "    \n",
    "num_var_cs = np.count_nonzero(data['CREDIBLE_SET'])\n",
    "total_cs = len(data.CREDIBLE_SET.unique())- 1\n",
    "avg_var_cs = float(num_var_cs) / total_cs\n",
    "pip50 = sum(1 for i in data['PIP'] if i >0.5)\n",
    "pip95 = sum(1 for i in data['PIP'] if i >0.95)\n",
    "\n",
    "result = \"Number of variants with PIP > 0.5: \" + str(pip50) + \"\\n\" + \"Number of variants with PIP > 0.95: \" + str(pip95) + \"\\n\" \\\n",
    "    + \"Number of variants that have credible sets: \" + str(num_var_cs) + \"\\n\" \\\n",
    "    + \"Number of unique credible sets: \" + str(total_cs) + \"\\n\" \\\n",
    "    + \"Average number of variants per credible set: \" + str(avg_var_cs) \n",
    "\n",
    "\n",
    "with open('results.txt', 'a') as the_file:\n",
    "    the_file.write(result)\n",
    "\n",
    "with open('results.txt') as f:\n",
    "    contents = f.readlines()\n",
    "    print(contents)"
   ]
  }
 ],
 "metadata": {
  "kernelspec": {
   "display_name": "SoS",
   "language": "sos",
   "name": "sos"
  },
  "language_info": {
   "codemirror_mode": "sos",
   "file_extension": ".sos",
   "mimetype": "text/x-sos",
   "name": "sos",
   "nbconvert_exporter": "sos_notebook.converter.SoS_Exporter",
   "pygments_lexer": "sos"
  },
  "sos": {
   "kernels": [
    [
     "Bash",
     "bash",
     "Bash",
     "#E6EEFF",
     ""
    ],
    [
     "Python3",
     "python3",
     "Python3",
     "#FFD91A",
     ""
    ],
    [
     "SoS",
     "sos",
     "",
     "",
     "sos"
    ]
   ],
   "version": "0.22.6"
  }
 },
 "nbformat": 4,
 "nbformat_minor": 5
}
