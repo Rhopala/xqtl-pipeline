{
 "cells": [
  {
   "cell_type": "markdown",
   "id": "worst-decision",
   "metadata": {
    "kernel": "SoS",
    "tags": []
   },
   "source": [
    "# Genotype data preprocessing\n",
    "\n",
    "This document performs genotype data quality control and preprocessing, as outlined in the yellow boxes of the flowchart below."
   ]
  },
  {
   "cell_type": "markdown",
   "id": "laden-thermal",
   "metadata": {
    "kernel": "SoS",
    "tags": []
   },
   "source": [
    "![Data_proc_flowchart](../../../../_images/data_preprocessing.png)"
   ]
  },
  {
   "cell_type": "markdown",
   "id": "employed-paris",
   "metadata": {
    "jp-MarkdownHeadingCollapsed": true,
    "kernel": "SoS",
    "tags": []
   },
   "source": [
    "## Overview\n",
    "\n",
    "### Analysis steps\n",
    "\n",
    "1. Genotype data quality control (QC). See here for the [QC default settings](https://cumc.github.io/xqtl-pipeline/pipeline/data_preprocessing/genotype/GWAS_QC.html).\n",
    "2. Principle component analysis (PCA) based QC, and PC computation for each sub-population available in the genotype data.\n",
    "3. Genomic relationship matrix (GRM) computation.\n",
    "4. Genotype data reformatting for downstream fine-mapping analysis.\n",
    "\n",
    "### Input data requirement\n",
    "\n",
    "1. Genotype data. See here for [format details](https://cumc.github.io/xqtl-pipeline/pipeline/data_preprocessing/genotype/genotype_formatting.html).\n",
    "2. [Optional] a sample information file to specific population information, if external data such as HapMap or 1000 Genomes are to be integrated to the PCA analysis to visualize and assess population structure in the genotype data. See here for [format details](https://cumc.github.io/xqtl-pipeline/pipeline/data_preprocessing/genotype/genotype_formatting.html)."
   ]
  },
  {
   "cell_type": "markdown",
   "id": "awful-appreciation",
   "metadata": {
    "kernel": "SoS"
   },
   "source": [
    "## Genotype QC for PCA"
   ]
  },
  {
   "cell_type": "code",
   "execution_count": null,
   "id": "controversial-humanity",
   "metadata": {
    "kernel": "Bash"
   },
   "outputs": [],
   "source": [
    "sos run genotype_formatting.ipynb merge_plink \\\n",
    "    --genoFile data/genotype/chr1.bed data/genotype/chr6.bed \\\n",
    "    --cwd output/genotype \\\n",
    "    --name chr1_chr6 \\\n",
    "    --container container/bioinfo.sif"
   ]
  },
  {
   "cell_type": "markdown",
   "id": "tired-buffalo",
   "metadata": {
    "kernel": "Bash"
   },
   "source": [
    "Determine and split between related and unrelated individuals,"
   ]
  },
  {
   "cell_type": "code",
   "execution_count": null,
   "id": "corrected-tragedy",
   "metadata": {
    "kernel": "Bash"
   },
   "outputs": [],
   "source": [
    "sos run GWAS_QC.ipynb king \\\n",
    "    --cwd output/genotype \\\n",
    "    --genoFile output/genotype/chr1_chr6.bed \\\n",
    "    --name 20220110 \\\n",
    "    --container container/bioinfo.sif"
   ]
  },
  {
   "cell_type": "markdown",
   "id": "swiss-worry",
   "metadata": {
    "kernel": "Bash"
   },
   "source": [
    "Variant level and sample level QC on unrelated individuals, in preparation for PCA analysis:"
   ]
  },
  {
   "cell_type": "code",
   "execution_count": null,
   "id": "painted-uncertainty",
   "metadata": {
    "kernel": "Bash"
   },
   "outputs": [],
   "source": [
    "sos run GWAS_QC.ipynb qc \\\n",
    "    --cwd output/genotype \\\n",
    "    --genoFile output/genotype/chr1_chr6.20220110.unrelated.bed \\\n",
    "    --name for_pca \\\n",
    "    --container container/bioinfo.sif"
   ]
  },
  {
   "cell_type": "markdown",
   "id": "appropriate-register",
   "metadata": {
    "kernel": "Bash"
   },
   "source": [
    "Extract previously selected variants from related individuals in preparation for PCA, only applying missingness filter at sample level,"
   ]
  },
  {
   "cell_type": "code",
   "execution_count": null,
   "id": "smooth-exhibition",
   "metadata": {
    "kernel": "Bash"
   },
   "outputs": [],
   "source": [
    "sos run GWAS_QC.ipynb qc_no_prune \\\n",
    "    --cwd output/genotype \\\n",
    "    --genoFile output/genotype/chr1_chr6.20220110.related.bed \\\n",
    "    --keep-variants output/genotype/chr1_chr6.20220110.unrelated.for_pca.filtered.prune.in \\\n",
    "    --maf-filter 0 --geno-filter 0 --mind-filter 0.1 --hwe-filter 0 \\\n",
    "    --name for_pca \\\n",
    "    --container container/bioinfo.sif"
   ]
  },
  {
   "cell_type": "markdown",
   "id": "floral-logic",
   "metadata": {
    "kernel": "SoS"
   },
   "source": [
    "## Principle component analysis\n",
    "\n",
    "Analysis below uses data from previous genotype QC. This is a simple data-set containing what we believe a homogenous (European) samples. \n",
    "\n",
    "First, perform PCA on unrelated individuals after QC in previous step,"
   ]
  },
  {
   "cell_type": "code",
   "execution_count": null,
   "id": "diagnostic-departure",
   "metadata": {
    "kernel": "Bash"
   },
   "outputs": [],
   "source": [
    "sos run PCA.ipynb flashpca \\\n",
    "        --cwd output/pca \\\n",
    "        --genoFile output/genotype/chr1_chr6.20220110.unrelated.for_pca.filtered.prune.bed \\\n",
    "        --phenoFile output/genotype/chr1_chr6.20220110.unrelated.for_pca.filtered.prune.fam \\\n",
    "        --container container/flashpcaR.sif"
   ]
  },
  {
   "cell_type": "code",
   "execution_count": 2,
   "id": "thousand-pilot",
   "metadata": {
    "kernel": "SoS"
   },
   "outputs": [
    {
     "name": "stdout",
     "output_type": "stream",
     "text": [
      "covariate\t\t       genotype_preprocessing.ipynb\n",
      "covariate_preprocessing.ipynb  phenotype\n",
      "genotype\t\t       phenotype_preprocessing.ipynb\n"
     ]
    }
   ],
   "source": [
    "%preview "
   ]
  },
  {
   "cell_type": "markdown",
   "id": "latter-providence",
   "metadata": {
    "kernel": "Bash"
   },
   "source": [
    "Then project back related individuals to the space spanned by PC from unrelated individuals, and detect PC outliers. \n",
    "\n",
    "**Notice here that you need to decide how many PCs to use to compute outliers (the `--maha-k` parameter), based on the PC scree plot. You should include a decent number of PCs that capture enough variation in genotype data. Please manually examine the PC plot before running this command.**"
   ]
  },
  {
   "cell_type": "code",
   "execution_count": null,
   "id": "registered-orbit",
   "metadata": {
    "kernel": "Bash"
   },
   "outputs": [],
   "source": [
    "sos run PCA.ipynb project_samples \\\n",
    "  --cwd output/pca \\\n",
    "  --genoFile output/genotype/chr1_chr6.20220110.related.for_pca.filtered.extracted.bed \\\n",
    "  --phenoFile output/genotype/chr1_chr6.20220110.related.for_pca.filtered.extracted.fam \\\n",
    "  --pca-model output/pca/chr1_chr6.20220110.unrelated.for_pca.filtered.prune.pca.rds \\\n",
    "  --maha-k 5 \\\n",
    "  --container container/flashpcaR.sif"
   ]
  },
  {
   "cell_type": "markdown",
   "id": "involved-contract",
   "metadata": {
    "kernel": "Bash"
   },
   "source": [
    "## Finalized genotype QC as a result of PCA\n",
    "\n",
    "PCA analysis can possibly provide us a list of outlier samples to be removed from the genotype data. We can optionally remove then and perform genotype data QC, similar to our initial QC but without LD pruning:"
   ]
  },
  {
   "cell_type": "code",
   "execution_count": null,
   "id": "impaired-permit",
   "metadata": {
    "kernel": "Bash"
   },
   "outputs": [],
   "source": [
    "sos run GWAS_QC.ipynb qc_no_prune \\\n",
    "    --cwd output/genotype \\\n",
    "    --genoFile output/genotype/chr1_chr6.20220110.unrelated.bed \\\n",
    "    --remove-samples output/pca/chr1_chr6.20220110.related.for_pca.filtered.extracted.pca.projected.outliers \\\n",
    "    --name no_outlier \\\n",
    "    --container container/bioinfo.sif"
   ]
  },
  {
   "cell_type": "markdown",
   "id": "likely-surge",
   "metadata": {
    "kernel": "Bash"
   },
   "source": [
    "Also remove outliers and keep the same variant as unrelated individuals, in related individuals:"
   ]
  },
  {
   "cell_type": "code",
   "execution_count": null,
   "id": "experimental-location",
   "metadata": {
    "kernel": "Bash"
   },
   "outputs": [],
   "source": [
    "sos run GWAS_QC.ipynb qc_no_prune \\\n",
    "    --cwd output/genotype \\\n",
    "    --genoFile output/genotype/chr1_chr6.20220110.related.bed \\\n",
    "    --remove-samples output/pca/chr1_chr6.20220110.related.for_pca.filtered.extracted.pca.projected.outliers \\\n",
    "    --keep-variants output/genotype/chr1_chr6.20220110.unrelated.no_outlier.filtered.bim \\\n",
    "    --maf-filter 0 --geno-filter 0 --mind-filter 0.1 --hwe-filter 0 \\\n",
    "    --name no_outlier \\\n",
    "    --container container/bioinfo.sif"
   ]
  },
  {
   "cell_type": "markdown",
   "id": "comprehensive-stress",
   "metadata": {
    "kernel": "Bash"
   },
   "source": [
    "Finally, merge back related and unrelated individuals as finalized genotype in PLINK format,"
   ]
  },
  {
   "cell_type": "code",
   "execution_count": null,
   "id": "subtle-hostel",
   "metadata": {
    "kernel": "Bash"
   },
   "outputs": [],
   "source": [
    "sos run genotype_formatting.ipynb merge_plink \\\n",
    "    --genoFile output/genotype/chr1_chr6.20220110.unrelated.no_outlier.filtered.bed \\\n",
    "               output/genotype/chr1_chr6.20220110.related.no_outlier.filtered.extracted.bed \\\n",
    "    --cwd output/genotype_final \\\n",
    "    --name chr1_chr6_20220110_qced \\\n",
    "    --container container/bioinfo.sif"
   ]
  },
  {
   "cell_type": "markdown",
   "id": "black-character",
   "metadata": {
    "kernel": "SoS"
   },
   "source": [
    "To fully illustrate how PCA and PCA based QC is done on sample with **multiple populations (a more complicated but potentially very useful setting)**, please try out the example documented in the [PCA analysis module](genotype/PCA.html) with a different example data-set."
   ]
  },
  {
   "cell_type": "markdown",
   "id": "previous-factor",
   "metadata": {
    "kernel": "SoS"
   },
   "source": [
    "**FIXME: workflow below still needs to be tested and polished up by Gao Wang. They are not ready to reproduce**\n",
    "\n",
    "## Genomic relationship matrix\n",
    "input:\n",
    "1. A list of plink trio per chrom, output from Genotype QC\n",
    "\n",
    "output: \n",
    "1. A collection of ld.rds file that are suitable for mvsusie_rss and susie_rss\n",
    "2. One row of the LD recipe file for this particular theme, so that susie_rss can find the correct ld"
   ]
  },
  {
   "cell_type": "code",
   "execution_count": null,
   "id": "simple-possible",
   "metadata": {
    "kernel": "SoS"
   },
   "outputs": [],
   "source": [
    "nohup sos run GRM.ipynb GRM\n",
    "    --genotype_list demo.processed_genotype.plink_per_chrom.recipe \\\n",
    "    --wd GRM/ \\\n",
    "    --name \"demo\" \\\n",
    "    --container \"base-bioinfo.sif\" "
   ]
  },
  {
   "cell_type": "markdown",
   "id": "frozen-cocktail",
   "metadata": {
    "kernel": "SoS"
   },
   "source": [
    "## Reformatting and partition for regional genotypic data"
   ]
  },
  {
   "cell_type": "code",
   "execution_count": null,
   "id": "loved-paradise",
   "metadata": {
    "kernel": "SoS"
   },
   "outputs": [],
   "source": [
    "\n",
    "nohup sos run plink2vcf\\\n",
    "    --genoFile ac.mergrd.ac.filtered.prune.bed \\\n",
    "    --wd genotype_reformmating/ \\\n",
    "    --name \"ac\" \\\n",
    "    --region_list geneTpmResidualsAgeGenderAdj_rename_region_list.txt  \\\n",
    "    --container \"base-bioinfo.sif\" \n",
    "\n",
    "nohup sos run genotype_formatting.ipynb plink_by_gene \\\n",
    "    --genoFile ac.mergrd.ac.filtered.prune.bed \\\n",
    "    --wd genotype_reformmating/ \\\n",
    "    --name \"dlpfc\" \\\n",
    "    --region_list mwe_region  \\\n",
    "    --container \"base-bioinfo.sif\" \n",
    "\n",
    "nohup sos run genotype_formatting.ipynb plink_by_chrom \\\n",
    "    --genoFile ac.mergrd.ac.filtered.prune.bed \\\n",
    "    --wd genotype_reformmating/ \\\n",
    "    --name \"pcc\" \\\n",
    "    --region_list mwe_region  \\\n",
    "    --container \"base-bioinfo.sif\" "
   ]
  }
 ],
 "metadata": {
  "kernelspec": {
   "display_name": "SoS",
   "language": "sos",
   "name": "sos"
  },
  "language_info": {
   "codemirror_mode": "sos",
   "file_extension": ".sos",
   "mimetype": "text/x-sos",
   "name": "sos",
   "nbconvert_exporter": "sos_notebook.converter.SoS_Exporter",
   "pygments_lexer": "sos"
  },
  "sos": {
   "kernels": [
    [
     "Bash",
     "bash",
     "Bash",
     "#E6EEFF",
     ""
    ],
    [
     "SoS",
     "sos",
     "",
     "",
     "sos"
    ]
   ],
   "version": "0.22.4"
  }
 },
 "nbformat": 4,
 "nbformat_minor": 5
}
