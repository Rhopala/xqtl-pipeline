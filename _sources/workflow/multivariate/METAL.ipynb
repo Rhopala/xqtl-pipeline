{
 "cells": [
  {
   "cell_type": "markdown",
   "id": "invisible-applicant",
   "metadata": {
    "kernel": "SoS",
    "tags": []
   },
   "source": [
    "# METAL workflow\n",
    "This note book document the process of meta analysis. \n",
    "\n",
    "The output of QTL association will firstly be grouped based on whether they could be conducted meta analysis according to a METAL_theme_str input.\n",
    "\n",
    "Those that were grouped together will be fed into METAL and generate 1 sumstat for each chromosome. These sumstat will then be treated as the sumstat of a new theme, connected by -.\n",
    "\n",
    "all the non_METALED and the new theme will be partioned from chromosome into genes, and then merged together.\n",
    "\n",
    "For example, in a three theme study, AC, DLPFC, and PCC\n",
    "a METAL_theme_str of \"AC,DLPFC\" indicates AC and DLPFC are to be METALed. Their METAL result will be named as AC-DLPFC\n",
    "\n",
    "Then the AC-DLPFC and the PCC will each be partitioned and then merged together for downstream analysis.\n",
    "\n",
    "AC and DLPFC will not be analyzed individually anymore."
   ]
  },
  {
   "cell_type": "code",
   "execution_count": null,
   "id": "front-bhutan",
   "metadata": {
    "jp-MarkdownHeadingCollapsed": true,
    "kernel": "SoS",
    "tags": []
   },
   "outputs": [],
   "source": [
    "[global]\n",
    "import os\n",
    "# Work directory & output directory\n",
    "parameter: wd = \"./\"\n",
    "# The filename name for output data\n",
    "parameter: container = 'gaow/twas'\n",
    "# name for the analysis output\n",
    "parameter: name = 'ROSMAP'\n",
    "# For cluster jobs, number commands to run per job\n",
    "parameter: job_size = 1\n",
    "# Wall clock time expected\n",
    "parameter: walltime = \"5h\"\n",
    "# Memory expected\n",
    "parameter: mem = \"16G\"\n",
    "# Number of threads\n",
    "parameter: numThreads = 20\n",
    "# Diretory to the executable\n",
    "parameter: exe_dir = path(\"~/GIT/ADSPFG-xQTL/workflow\")\n",
    "# yml template\n",
    "parameter: yml = f'{exe_dir:d}/code/csg.yml'\n",
    "# queue for analysis\n",
    "parameter: queue = \"csg\"\n",
    "# Number of submission\n",
    "parameter: J = 200\n",
    "# Mash Options\n",
    "parameter: vhat = 'simple'\n",
    "parameter: region_list = path\n",
    "import csv\n",
    "import pandas as pd\n",
    "## A multi column file, each row is 1 chr, first col is chr, each subsqeunt a theme. each cell is the path to a sumstat file, which with following column format: variant_id, alt, ref, pval, beta, se ; \n",
    "parameter: sumstat_list_path = path\n",
    "sumstat_list =  pd.read_csv(sumstat_list_path,delimiter=\"\\t\")\n",
    "## A comma sep str that indicates what are the themes that goes into metal\n",
    "parameter: METAL_theme_str = \".\"\n",
    "\n",
    "\n",
    "## Retain the chr column as well\n",
    "METAL_theme = METAL_theme_str.split(\",\")\n",
    "METAL_theme_prefix = \"-\".join(METAL_theme)\n",
    "METAL_theme.append(\"chr\")\n",
    "METAL_list = sumstat_list[METAL_theme].values.tolist()\n",
    "Non_METAL_list= sumstat_list.drop(METAL_theme_str.split(\",\"),axis = 1)\n",
    "chrom = sumstat_list[\"chr\"].values.tolist()\n",
    "METALed_sumstat_list = Non_METAL_list.assign(**{METAL_theme_prefix : [f'{wd}/METAL/{METAL_theme_prefix}.chr{x}.METAL.txt' for x in chrom ]})\n",
    "Theme = METALed_sumstat_list.drop([\"chr\"],axis = 1).columns.values.tolist()\n",
    "Theme_list = pd.DataFrame({\"#Theme\" : [f'{wd}/sumstat/{x}' for x in Theme]})\n",
    "Theme_prefix = \"_\".join(Theme)\n"
   ]
  },
  {
   "cell_type": "markdown",
   "id": "multiple-theology",
   "metadata": {
    "kernel": "Markdown",
    "tags": []
   },
   "source": [
    "## METAL"
   ]
  },
  {
   "cell_type": "code",
   "execution_count": null,
   "id": "refined-project",
   "metadata": {
    "kernel": "SoS"
   },
   "outputs": [],
   "source": [
    "[METAL]\n",
    "input: for_each = \"METAL_list\"\n",
    "output: METAL_output = f'{wd}/METAL/{METAL_theme_prefix}.chr{_METAL_list[-1]}.METAL.txt'\n",
    "task: trunk_workers = 1, trunk_size = 20, walltime = '4h',  mem = '6G', tags = f'{step_name}_{_output:bn}'  \n",
    "bash: expand = \"$[ ]\", stderr = f'{_output[0]}.stderr', stdout = f'{_output[0]}.stdout'\n",
    "        sos run $[exe_dir]/Meta_Analysis/METAL/METAL.ipynb METAL \\\n",
    "            --wd $[wd]/METAL/ \\\n",
    "            --name $[METAL_theme_prefix].chr$[_METAL_list[-1]] \\\n",
    "            --sumstat_list $[\" \".join(_METAL_list[0:-1])]   "
   ]
  },
  {
   "cell_type": "code",
   "execution_count": null,
   "id": "israeli-sauce",
   "metadata": {
    "kernel": "SoS"
   },
   "outputs": [],
   "source": []
  },
  {
   "cell_type": "markdown",
   "id": "viral-springer",
   "metadata": {
    "kernel": "SoS"
   },
   "source": [
    "## Partitioning\n",
    "Partition into each gene first then merge, each input is a list of sumstat per chromosome, each output is sumstat in rds format per gene\n",
    "Input is n*p matrix where n is number of chr and p is number of theme not went through metal + 1.\n",
    "\n",
    "The idea is, turn the n*p mtr into p n*2 mtr with p and chr column"
   ]
  },
  {
   "cell_type": "code",
   "execution_count": null,
   "id": "returning-ocean",
   "metadata": {
    "kernel": "SoS"
   },
   "outputs": [],
   "source": [
    "[Partition_1]\n",
    "depends: sos_step(\"METAL\")\n",
    "input: for_each = \"Theme\"\n",
    "output: f'{wd}/sumstat/{_Theme}/sumstat_list',\n",
    "        Partition_list = f'{wd}/sumstat/{_Theme}/analysis_unit.txt'\n",
    "import pandas as pd\n",
    "METALed_sumstat_list[[_Theme,\"chr\"]].to_csv(_output[0],index = 0,sep = \"\\t\" )\n",
    "bash: expand = \"$[ ]\", stderr = f'{_output[0]}.stderr', stdout = f'{_output[0]}.stdout'\n",
    "            sos run $[exe_dir]/Meta_Analysis/Reformatting/Partitioned.ipynb Sumstat_Annotation \\\n",
    "            --wd $[wd] \\\n",
    "            --container $[container] \\\n",
    "            --name $[_Theme] \\\n",
    "            --sumstat_list $[_output[0]] \\\n",
    "            --region_list $[region_list] \\\n",
    "            -J $[J] -q $[queue] -c $[yml]"
   ]
  },
  {
   "cell_type": "code",
   "execution_count": null,
   "id": "characteristic-lounge",
   "metadata": {
    "kernel": "SoS"
   },
   "outputs": [],
   "source": []
  },
  {
   "cell_type": "code",
   "execution_count": null,
   "id": "right-reduction",
   "metadata": {
    "kernel": "SoS"
   },
   "outputs": [],
   "source": [
    "## Get only the intersection\n",
    "[Partition_2]\n",
    "input: output_from(\"Partition_1\")[\"Partition_list\"], group_by = \"all\"\n",
    "output: f'{wd}/sumstat/Partition_analysis_unit.txt'\n",
    "python: expand = \"$[ ]\", stderr = f'{_output[0]}.stderr', stdout = f'{_output[0]}.stdout'\n",
    "    import pandas as pd\n",
    "    au = [ pd.read_csv(x ,header = None).to_dict(\"list\")[0] for x in [$[_input:r,]] ]\n",
    "    intersect_list = list(set.intersection(*map(set,au)))\n",
    "    pd.DataFrame({\"#Analysis_Unit\":intersect_list }).to_csv(\"$[_output]\" , sep = \"\\t\", index = 0)"
   ]
  },
  {
   "cell_type": "markdown",
   "id": "narrow-bulgaria",
   "metadata": {
    "kernel": "SoS"
   },
   "source": [
    "## Merging"
   ]
  },
  {
   "cell_type": "code",
   "execution_count": null,
   "id": "forbidden-pharmacology",
   "metadata": {
    "kernel": "SoS"
   },
   "outputs": [],
   "source": [
    "[merge_and_alleleQC]\n",
    "depends: sos_step(\"METAL\")     \n",
    "Theme_list.to_csv(f'{wd}/Theme_list.txt',sep = \"\\t\",index = 0)\n",
    "input: output_from(\"Partition\")\n",
    "output: merged_analysis_unit = f'{wd}/sumstat/merged_analysis_unit.txt'\n",
    "bash: expand = \"$[ ]\", stderr = f'{_output[0]}.stderr', stdout = f'{_output[0]}.stdout'\n",
    "            sos run $[exe_dir]/Meta_Analysis/Reformatting/Merged.ipynb merge_and_alleleQC \\\n",
    "            --wd $[wd]/sumstat/ \\\n",
    "            --container $[container] \\\n",
    "            --theme_list $[f'{wd}/Theme_list.txt'] \\\n",
    "            --analysis_units $[_input] \\\n",
    "            -J $[J] -q $[queue] -c $[yml]"
   ]
  },
  {
   "cell_type": "markdown",
   "id": "third-christian",
   "metadata": {
    "kernel": "SoS"
   },
   "source": [
    "## RDS to VCF"
   ]
  },
  {
   "cell_type": "code",
   "execution_count": null,
   "id": "surgical-fifth",
   "metadata": {
    "kernel": "SoS"
   },
   "outputs": [],
   "source": [
    "[RDS2VCF]\n",
    "parameter: data_dir = path(\"/\")\n",
    "input: output_from(\"MASH_posterior\")[\"mash_output_list\"]\n",
    "output: f'{wd}/mash_vcf/vcf_output_list.txt'\n",
    "bash: expand = \"$[ ]\", stderr = f'{_output[0]}.stderr', stdout = f'{_output[0]}.stdout'\n",
    "        sos run $[exe_dir]/Meta_Analysis/Reformatting/RDS_to_vcf.ipynb rds_to_vcf \\\n",
    "            --wd $[wd]/ \\\n",
    "            --container $[container] \\\n",
    "            --name $[Theme_prefix] \\\n",
    "            --analysis_units $[_input] \\\n",
    "            --data_dir $[data_dir]  \\\n",
    "            -J $[J] -q $[queue] -c $[yml]"
   ]
  }
 ],
 "metadata": {
  "kernelspec": {
   "display_name": "SoS",
   "language": "sos",
   "name": "sos"
  },
  "language_info": {
   "codemirror_mode": "sos",
   "file_extension": ".sos",
   "mimetype": "text/x-sos",
   "name": "sos",
   "nbconvert_exporter": "sos_notebook.converter.SoS_Exporter",
   "pygments_lexer": "sos"
  },
  "sos": {
   "kernels": [
    [
     "Markdown",
     "markdown",
     "markdown",
     "",
     ""
    ]
   ],
   "version": "0.22.4"
  }
 },
 "nbformat": 4,
 "nbformat_minor": 5
}
