{
 "cells": [
  {
   "cell_type": "markdown",
   "id": "rotary-validity",
   "metadata": {
    "kernel": "SoS",
    "tags": []
   },
   "source": [
    "# cisQTL analysis workflows\n",
    "Taking the output from data preprocessing stage, this tutorial document the ways to generate cis association scan summary statistics.\n",
    "\n",
    "There are two modules can be used: TensorQTL, APEX, they both produce the same set of results\n",
    "\n",
    "The output is a list of sumstat, which can be merged into a sumstat table to feed into multivariate analysis"
   ]
  },
  {
   "cell_type": "markdown",
   "id": "adapted-peninsula",
   "metadata": {
    "kernel": "SoS"
   },
   "source": [
    "## APEX"
   ]
  },
  {
   "cell_type": "code",
   "execution_count": null,
   "id": "outer-rough",
   "metadata": {
    "kernel": "SoS"
   },
   "outputs": [],
   "source": []
  },
  {
   "cell_type": "code",
   "execution_count": null,
   "id": "attached-crisis",
   "metadata": {
    "kernel": "SoS"
   },
   "outputs": [],
   "source": [
    "nohup sos run /home/hs3163/GIT/xqtl-pipeline/pipeline/association_scan/APEX/APEX.ipynb APEX_cis \\\n",
    "--genotype_file_list /mnt/mfs/statgen/xqtl_workflow_testing/module/genotype_format/Dry_vcf_geno/Dry.vcf_geno_list.txt \\\n",
    "--molecular_pheno_list /mnt/mfs/statgen/xqtl_workflow_testing/module/phenotype/Dry.processed_phenotype.per_chrom.recipe  \\\n",
    "--covariate /mnt/mfs/statgen/xqtl_workflow_testing/success_example/testing_no_cov/Data_Processing/Factor_and_Covariate/AC.APEX.cov   \\\n",
    "--grm_list /mnt/mfs/statgen/xqtl_workflow_testing/module/grm/Dry.grm_list.txt  \\\n",
    "--wd ./  \\\n",
    "--name \"demo\" --container \"/mnt/mfs/statgen/containers/xqtl_pipeline_sif/apex.sif\" &"
   ]
  },
  {
   "cell_type": "markdown",
   "id": "governmental-merit",
   "metadata": {
    "kernel": "SoS"
   },
   "source": [
    "## TensorQTL"
   ]
  },
  {
   "cell_type": "code",
   "execution_count": null,
   "id": "applied-captain",
   "metadata": {
    "kernel": "SoS"
   },
   "outputs": [],
   "source": [
    "nohup sos run /home/hs3163/GIT/xqtl-pipeline/pipeline/association_scan/TensorQTL/TensorQTL.ipynb TensorQTL_cis \\\n",
    "--genotype_file_list /mnt/mfs/statgen/xqtl_workflow_testing/demo/GWAS_QC/demo.processed_genotype.plink_per_chrom.recipe \\\n",
    "--molecular_pheno_list /mnt/mfs/statgen/xqtl_workflow_testing/demo/phenotype_reformat/demo.processed_phenotype.per_chrom.recipe  \\\n",
    "--covariate /mnt/mfs/statgen/xqtl_workflow_testing/success_example/testing_no_cov/Data_Processing/Factor_and_Covariate/AC.APEX.cov   \\\n",
    "--wd ./  \\\n",
    "--name \"demo\" --container \"/mnt/mfs/statgen/containers/xqtl_pipeline_sif/TensorQTL.sif\" &"
   ]
  }
 ],
 "metadata": {
  "kernelspec": {
   "display_name": "SoS",
   "language": "sos",
   "name": "sos"
  },
  "language_info": {
   "codemirror_mode": "sos",
   "file_extension": ".sos",
   "mimetype": "text/x-sos",
   "name": "sos",
   "nbconvert_exporter": "sos_notebook.converter.SoS_Exporter",
   "pygments_lexer": "sos"
  },
  "sos": {
   "kernels": [
    [
     "Bash",
     "bash",
     "Bash",
     "#E6EEFF",
     ""
    ],
    [
     "Markdown",
     "markdown",
     "markdown",
     "",
     ""
    ],
    [
     "SoS",
     "sos",
     "",
     "",
     "sos"
    ]
   ],
   "version": "0.22.4"
  }
 },
 "nbformat": 4,
 "nbformat_minor": 5
}
