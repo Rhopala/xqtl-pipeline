{
 "cells": [
  {
   "cell_type": "markdown",
   "id": "middle-purchase",
   "metadata": {
    "kernel": "SoS",
    "tags": []
   },
   "source": [
    "# Multivariate association with MASH\n",
    "This note book document the process of meta analysis using mash. \n",
    "\n",
    "The output of association scan, and optionally the output from METAL, will undergo a reformmating process, and then fed into the MASH module to generate\n",
    "1. MASH result in vcf format\n",
    "2. Mixture prior for MvSuSIE_RSS"
   ]
  },
  {
   "cell_type": "markdown",
   "id": "peripheral-cameroon",
   "metadata": {
    "kernel": "SoS"
   },
   "source": [
    "## Example sumstat list"
   ]
  },
  {
   "cell_type": "code",
   "execution_count": 8,
   "id": "every-david",
   "metadata": {
    "kernel": "SoS"
   },
   "outputs": [
    {
     "data": {
      "text/html": [
       "<div>\n",
       "<style scoped>\n",
       "    .dataframe tbody tr th:only-of-type {\n",
       "        vertical-align: middle;\n",
       "    }\n",
       "\n",
       "    .dataframe tbody tr th {\n",
       "        vertical-align: top;\n",
       "    }\n",
       "\n",
       "    .dataframe thead th {\n",
       "        text-align: right;\n",
       "    }\n",
       "</style>\n",
       "<table border=\"1\" class=\"dataframe\">\n",
       "  <thead>\n",
       "    <tr style=\"text-align: right;\">\n",
       "      <th></th>\n",
       "      <th>#chr</th>\n",
       "      <th>PCC</th>\n",
       "      <th>DLPFC</th>\n",
       "      <th>AC</th>\n",
       "    </tr>\n",
       "  </thead>\n",
       "  <tbody>\n",
       "    <tr>\n",
       "      <th>0</th>\n",
       "      <td>1</td>\n",
       "      <td>/mnt/mfs/statgen/xqtl_workflow_testing/testing...</td>\n",
       "      <td>/mnt/mfs/statgen/xqtl_workflow_testing/testing...</td>\n",
       "      <td>/mnt/mfs/statgen/xqtl_workflow_testing/testing...</td>\n",
       "    </tr>\n",
       "    <tr>\n",
       "      <th>1</th>\n",
       "      <td>6</td>\n",
       "      <td>/mnt/mfs/statgen/xqtl_workflow_testing/testing...</td>\n",
       "      <td>/mnt/mfs/statgen/xqtl_workflow_testing/testing...</td>\n",
       "      <td>/mnt/mfs/statgen/xqtl_workflow_testing/testing...</td>\n",
       "    </tr>\n",
       "  </tbody>\n",
       "</table>\n",
       "</div>"
      ],
      "text/plain": [
       "   #chr                                                PCC  \\\n",
       "0     1  /mnt/mfs/statgen/xqtl_workflow_testing/testing...   \n",
       "1     6  /mnt/mfs/statgen/xqtl_workflow_testing/testing...   \n",
       "\n",
       "                                               DLPFC  \\\n",
       "0  /mnt/mfs/statgen/xqtl_workflow_testing/testing...   \n",
       "1  /mnt/mfs/statgen/xqtl_workflow_testing/testing...   \n",
       "\n",
       "                                                  AC  \n",
       "0  /mnt/mfs/statgen/xqtl_workflow_testing/testing...  \n",
       "1  /mnt/mfs/statgen/xqtl_workflow_testing/testing...  "
      ]
     },
     "execution_count": 8,
     "metadata": {},
     "output_type": "execute_result"
    }
   ],
   "source": [
    "pd.read_csv(\"/mnt/mfs/statgen/xqtl_workflow_testing/success_example/testing_no_cov/QTL_association/sumstat_list\",sep = \"\\t\")"
   ]
  },
  {
   "cell_type": "markdown",
   "id": "collaborative-steal",
   "metadata": {
    "kernel": "SoS",
    "tags": []
   },
   "source": [
    "### Example YML list"
   ]
  },
  {
   "cell_type": "code",
   "execution_count": 4,
   "id": "african-climate",
   "metadata": {
    "kernel": "SoS"
   },
   "outputs": [
    {
     "name": "stdout",
     "output_type": "stream",
     "text": [
      "#chr\tdir\n",
      "1\t/mnt/mfs/statgen/xqtl_workflow_testing/module/Merge/PCC_DLPFC_AC.1/PCC_DLPFC_AC.1.yml\n",
      "6\t/mnt/mfs/statgen/xqtl_workflow_testing/module/Merge/PCC_DLPFC_AC.6/PCC_DLPFC_AC.6.yml\n"
     ]
    }
   ],
   "source": [
    "head /mnt/mfs/statgen/xqtl_workflow_testing/module/Merge/yml_list.txt"
   ]
  },
  {
   "cell_type": "markdown",
   "id": "martial-plain",
   "metadata": {
    "kernel": "SoS"
   },
   "source": [
    "### Example YML"
   ]
  },
  {
   "cell_type": "code",
   "execution_count": 6,
   "id": "productive-hamilton",
   "metadata": {
    "kernel": "SoS"
   },
   "outputs": [
    {
     "name": "stdout",
     "output_type": "stream",
     "text": [
      "\n",
      "INPUT:\n",
      "  \n",
      "    - /mnt/mfs/statgen/xqtl_workflow_testing/testing_no_cov/QTL_association/APEX/cis/PCC.chr1.mol_phe.cis_long_table.reformated.txt:\n",
      "        CHR: chrom\n",
      "        POS: pos\n",
      "        A0: ref\n",
      "        A1: alt\n",
      "        SNP: variant_id\n",
      "        STAT: beta\n"
     ]
    }
   ],
   "source": [
    "head /mnt/mfs/statgen/xqtl_workflow_testing/module/Merge/PCC_DLPFC_AC.1/PCC_DLPFC_AC.1.yml"
   ]
  },
  {
   "cell_type": "code",
   "execution_count": null,
   "id": "thorough-glossary",
   "metadata": {
    "kernel": "SoS"
   },
   "outputs": [],
   "source": [
    "nohup sos run /home/hs3163/GIT/xqtl-pipeline/pipeline/misc/yml_generator.ipynb yml_list \\\n",
    "--sumstat_list_path /mnt/mfs/statgen/xqtl_workflow_testing/success_example/testing_no_cov/QTL_association/sumstat_list  \\\n",
    "--wd ./  &\n",
    "\n",
    "nohup sos run /home/hs3163/GIT/xqtl-pipeline/pipeline/misc/summary_stats_merger.ipynb \\\n",
    "--yml_list  /mnt/mfs/statgen/xqtl_workflow_testing/module/Merge/yml_list.txt  \\\n",
    "--cwd ./  &"
   ]
  },
  {
   "cell_type": "markdown",
   "id": "specialized-terrorism",
   "metadata": {
    "kernel": "SoS"
   },
   "source": [
    "## Merging and partitioning\n",
    "This step takes in the qced sumstat_list from the previouse step and generate a merged rds for each gene. To feed into downstream analysis "
   ]
  },
  {
   "cell_type": "code",
   "execution_count": null,
   "id": "interpreted-simpson",
   "metadata": {
    "kernel": "SoS"
   },
   "outputs": [],
   "source": [
    "nohup sos run /home/hs3163/GIT/xqtl-pipeline/pipeline/multivariate/MASH/sumstat_processing.ipynb processing \\\n",
    "--sumstat_list_path /mnt/mfs/statgen/xqtl_workflow_testing/module/Merge/qc_sumstat_list.txt \\\n",
    "--region_list /home/hs3163/GIT/ADSPFG-xQTL/MWE/mwe_region_long \\\n",
    "--wd ./  --container /mnt/mfs/statgen/containers/xqtl_pipeline_sif/base-bioinfo.sif -s force &"
   ]
  },
  {
   "cell_type": "markdown",
   "id": "heard-picnic",
   "metadata": {
    "kernel": "Markdown",
    "tags": []
   },
   "source": [
    "## Extract effect\n",
    "The stronges, the random, and the null signal will be extracted for each gene, and merged into 1 rds for downstream analysis"
   ]
  },
  {
   "cell_type": "markdown",
   "id": "primary-statement",
   "metadata": {
    "kernel": "SoS"
   },
   "source": [
    "### Example analysis unit"
   ]
  },
  {
   "cell_type": "code",
   "execution_count": 1,
   "id": "complimentary-folder",
   "metadata": {
    "kernel": "SoS"
   },
   "outputs": [
    {
     "name": "stdout",
     "output_type": "stream",
     "text": [
      "\"/mnt/mfs/statgen/xqtl_workflow_testing/module/Merge/merge/RDS/PCC_DLPFC_AC_ENSG00000000457.rds\"\n",
      "\"/mnt/mfs/statgen/xqtl_workflow_testing/module/Merge/merge/RDS/PCC_DLPFC_AC_ENSG00000000460.rds\"\n",
      "\"/mnt/mfs/statgen/xqtl_workflow_testing/module/Merge/merge/RDS/PCC_DLPFC_AC_ENSG00000000938.rds\"\n",
      "\"/mnt/mfs/statgen/xqtl_workflow_testing/module/Merge/merge/RDS/PCC_DLPFC_AC_ENSG00000000971.rds\"\n",
      "\"/mnt/mfs/statgen/xqtl_workflow_testing/module/Merge/merge/RDS/PCC_DLPFC_AC_ENSG00000001036.rds\"\n",
      "\"/mnt/mfs/statgen/xqtl_workflow_testing/module/Merge/merge/RDS/PCC_DLPFC_AC_ENSG00000001084.rds\"\n",
      "\"/mnt/mfs/statgen/xqtl_workflow_testing/module/Merge/merge/RDS/PCC_DLPFC_AC_ENSG00000001167.rds\"\n",
      "\"/mnt/mfs/statgen/xqtl_workflow_testing/module/Merge/merge/RDS/PCC_DLPFC_AC_ENSG00000001460.rds\"\n",
      "\"/mnt/mfs/statgen/xqtl_workflow_testing/module/Merge/merge/RDS/PCC_DLPFC_AC_ENSG00000001461.rds\"\n",
      "\"/mnt/mfs/statgen/xqtl_workflow_testing/module/Merge/merge/RDS/PCC_DLPFC_AC_ENSG00000001561.rds\"\n"
     ]
    }
   ],
   "source": [
    "head /mnt/mfs/statgen/xqtl_workflow_testing/module/Merge/merge/RDS/PCC_DLPFC_AC.analysis_unit"
   ]
  },
  {
   "cell_type": "code",
   "execution_count": null,
   "id": "surprised-polyester",
   "metadata": {
    "kernel": "SoS"
   },
   "outputs": [],
   "source": [
    "nohup sos run /home/hs3163/GIT/xqtl-pipeline/pipeline/multivariate/MASH/Signal_Extraction.ipynb extract_effects \\\n",
    "            --cwd ./ \\\n",
    "            --container /mnt/mfs/statgen/containers/twas_latest.sif \\\n",
    "            --name  \"PCC_DLPFC_AC\" \\\n",
    "            --analysis_units /mnt/mfs/statgen/xqtl_workflow_testing/module/Merge/merge/RDS/PCC_DLPFC_AC.analysis_unit  -s force &"
   ]
  },
  {
   "cell_type": "markdown",
   "id": "analyzed-overall",
   "metadata": {
    "kernel": "SoS"
   },
   "source": [
    "## Construct of MASH Model"
   ]
  },
  {
   "cell_type": "code",
   "execution_count": null,
   "id": "funky-romania",
   "metadata": {
    "kernel": "SoS"
   },
   "outputs": [],
   "source": [
    "nohup sos run /home/hs3163/GIT/xqtl-pipeline/pipeline/multivariate/MASH/mashr.ipynb mash \\\n",
    "            --cwd ./ \\\n",
    "            --container /mnt/mfs/statgen/containers/twas_latest.sif \\\n",
    "            --output_prefix \"PCC_DLPFC_AC\" \\\n",
    "            --data /mnt/mfs/statgen/xqtl_workflow_testing/module/MASH/PCC_DLPFC_AC.rds -s force &"
   ]
  },
  {
   "cell_type": "markdown",
   "id": "lined-arrival",
   "metadata": {
    "kernel": "SoS",
    "tags": []
   },
   "source": [
    "## MASH Posterior\n",
    "Run the following command in the same working directory as the previouse step"
   ]
  },
  {
   "cell_type": "code",
   "execution_count": null,
   "id": "shaped-estate",
   "metadata": {
    "kernel": "SoS"
   },
   "outputs": [],
   "source": [
    "nohup sos run /home/hs3163/GIT/xqtl-pipeline/pipeline/multivariate/MASH/mashr.ipynb posterior \\\n",
    "            --cwd ./ \\\n",
    "            --container /mnt/mfs/statgen/containers/twas_latest.sif \\\n",
    "            --output_prefix \"PCC_DLPFC_AC\" \\\n",
    "            --analysis_units /mnt/mfs/statgen/xqtl_workflow_testing/module/Merge/merge/RDS/PCC_DLPFC_AC.analysis_unit  &"
   ]
  },
  {
   "cell_type": "markdown",
   "id": "suspended-commodity",
   "metadata": {
    "kernel": "SoS"
   },
   "source": [
    "## Convert MASH result RDS to VCF\n",
    "Running the follwoing code using the mash_output_list from the previouse step as input can covert all the mash RDS into vcf format"
   ]
  },
  {
   "cell_type": "code",
   "execution_count": null,
   "id": "healthy-coordinator",
   "metadata": {
    "kernel": "SoS"
   },
   "outputs": [],
   "source": [
    "### Example analysis unit"
   ]
  },
  {
   "cell_type": "code",
   "execution_count": 2,
   "id": "running-immune",
   "metadata": {
    "kernel": "SoS"
   },
   "outputs": [
    {
     "name": "stdout",
     "output_type": "stream",
     "text": [
      "\"/mnt/mfs/statgen/xqtl_workflow_testing/module/MASH/PCC_DLPFC_AC_ENSG00000000457.posterior.rds\"\n",
      "\"/mnt/mfs/statgen/xqtl_workflow_testing/module/MASH/PCC_DLPFC_AC_ENSG00000000460.posterior.rds\"\n",
      "\"/mnt/mfs/statgen/xqtl_workflow_testing/module/MASH/PCC_DLPFC_AC_ENSG00000000938.posterior.rds\"\n",
      "\"/mnt/mfs/statgen/xqtl_workflow_testing/module/MASH/PCC_DLPFC_AC_ENSG00000000971.posterior.rds\"\n",
      "\"/mnt/mfs/statgen/xqtl_workflow_testing/module/MASH/PCC_DLPFC_AC_ENSG00000001036.posterior.rds\"\n",
      "\"/mnt/mfs/statgen/xqtl_workflow_testing/module/MASH/PCC_DLPFC_AC_ENSG00000001084.posterior.rds\"\n",
      "\"/mnt/mfs/statgen/xqtl_workflow_testing/module/MASH/PCC_DLPFC_AC_ENSG00000001167.posterior.rds\"\n",
      "\"/mnt/mfs/statgen/xqtl_workflow_testing/module/MASH/PCC_DLPFC_AC_ENSG00000001460.posterior.rds\"\n",
      "\"/mnt/mfs/statgen/xqtl_workflow_testing/module/MASH/PCC_DLPFC_AC_ENSG00000001461.posterior.rds\"\n",
      "\"/mnt/mfs/statgen/xqtl_workflow_testing/module/MASH/PCC_DLPFC_AC_ENSG00000001561.posterior.rds\"\n"
     ]
    }
   ],
   "source": [
    "head /mnt/mfs/statgen/xqtl_workflow_testing/module/MASH/mash_output_list"
   ]
  },
  {
   "cell_type": "code",
   "execution_count": 1,
   "id": "greek-breeding",
   "metadata": {
    "kernel": "SoS"
   },
   "outputs": [
    {
     "name": "stdout",
     "output_type": "stream",
     "text": [
      "nohup: ignoring input and appending output to 'nohup.out'\n"
     ]
    }
   ],
   "source": [
    "        nohup sos run /home/hs3163/GIT/xqtl-pipeline/pipeline/misc/rds_to_vcf.ipynb rds_to_vcf \\\n",
    "            --wd ./ \\\n",
    "            --container /mnt/mfs/statgen/containers/twas_latest.sif \\\n",
    "            --name \"PCC_DLPFC_AC\" \\\n",
    "            --analysis_units   /mnt/mfs/statgen/xqtl_workflow_testing/module/MASH/mash_output_list"
   ]
  },
  {
   "cell_type": "code",
   "execution_count": null,
   "id": "equipped-citation",
   "metadata": {},
   "outputs": [],
   "source": []
  }
 ],
 "metadata": {
  "kernelspec": {
   "display_name": "Bash",
   "language": "bash",
   "name": "bash"
  },
  "language_info": {
   "codemirror_mode": "shell",
   "file_extension": ".sh",
   "mimetype": "text/x-sh",
   "name": "bash"
  },
  "sos": {
   "kernels": [
    [
     "Markdown",
     "markdown",
     "markdown",
     "",
     ""
    ]
   ],
   "version": "0.22.6"
  }
 },
 "nbformat": 4,
 "nbformat_minor": 5
}
