{
 "cells": [
  {
   "cell_type": "markdown",
   "id": "strong-craft",
   "metadata": {
    "kernel": "SoS",
    "tags": []
   },
   "source": [
    "# Phenotype data preprocessing\n",
    "This is the data processing pipeline for xqtl workflow, containing the generation of:\n",
    "1. Factor from expression\n",
    "2. PCA from genotype\n",
    "3. GRM from genotype\n",
    "4. LD from genotype, filtered by grm [TBD]\n",
    "5. Molecular_phenotype per chrom within selected regions in the format APEX and tensorQTL takes\n",
    "\n",
    "\n",
    "**FIXME: Hao, I am thinking this kind of notebook (that sits outside these folders) should be of a tutorial nature. It should only contain `sos run` commands interactively with enough text explanations. For those who want to run the default analysis they should work with `master_control.ipynb` and generate the commands to run as is. For those who want to customize the analysis, they should refer to each of these \"recipe\" and change the parameters here. That should cover 95% user cases. People will read the module notebooks only for learning purpose. For those who want to edit the module notebooks we will consider them developers or at least power users and I expect few of them.**\n",
    "\n",
    "\n",
    "### Input\n",
    "The input for this workflow is 1 row of the input recipe file, documenting the path to\n",
    "1. 1 complete molecular_phenotype data\n",
    "2. 1 collection of genotype data in plink format, partitioned by chrm\n",
    "3. 1 file documenting the list of region to be analyzed\n",
    "4. \n",
    "\n",
    "\n",
    "### Output\n",
    "For each collection, the output is 23 sets of :\n",
    "1. EXP file for selected region\n",
    "2. genotype from vcf file\n",
    "\n",
    "1 sets of\n",
    "1. PCA + Factor + Covariate file\n",
    "\n",
    "### Excutable:\n",
    "This notebook depends on the scripts of multiple other notebook, the directory those are specify by exe_dir"
   ]
  },
  {
   "cell_type": "code",
   "execution_count": 2,
   "id": "bigger-presentation",
   "metadata": {
    "kernel": "SoS"
   },
   "outputs": [],
   "source": [
    "[global]\n",
    "import os\n",
    "# Work directory & output directory\n",
    "parameter: wd = path\n",
    "# The filename name for output data\n",
    "parameter: container = 'gaow/twas'\n",
    "# name for the analysis output\n",
    "parameter: name = str\n",
    "# For cluster jobs, number commands to run per job\n",
    "parameter: job_size = 1\n",
    "# Wall clock time expected\n",
    "parameter: walltime = \"24h\"\n",
    "# Memory expected\n",
    "parameter: mem = \"60G\"\n",
    "# Number of threads\n",
    "parameter: numThreads = 20\n",
    "# Diretory to the executable\n",
    "parameter: exe_dir = path(\"~/GIT/ADSPFG-xQTL/workflow\")\n",
    "# yml template\n",
    "parameter: yml = '/home/hs3163/GIT/ADSPFG-xQTL/code/csg.yml'\n",
    "# queue for analysis\n",
    "parameter: queue = \"csg\"\n",
    "# Number of submission\n",
    "parameter: J = 200\n",
    "# Factor Options\n",
    "parameter: factor_option: \"APEX\"\n",
    "\n",
    "## Temp   \n",
    "parameter: container_lmm = str\n",
    "parameter: container_apex = str\n",
    "\n",
    "parameter: region_list = path\n",
    "regions = [x.strip().split() for x in open(region_list).readlines() if x.strip() and not x.strip().startswith('#')]\n",
    "# Get the unique chormosome that have regions to be analyzed.\n",
    "def extract(lst):\n",
    "    return [item[0] for item in lst]\n",
    "chrom = list(set(extract(regions)))\n",
    "chrom.sort()"
   ]
  },
  {
   "cell_type": "markdown",
   "id": "attractive-survivor",
   "metadata": {
    "kernel": "SoS",
    "tags": []
   },
   "source": [
    "## Process of molecular phenotype file\n",
    "This workflow produce a bed.gz+tabix file for all the molecular pheno data that are included in the region list to feed into APEX factor analysis\n",
    "\n",
    "This workflow also produce a bed.gz+tabix for each chromosome for downstream QTL association analysis(bed.gz+tabiz for Apex and bed.gz for tensorQTL)"
   ]
  },
  {
   "cell_type": "code",
   "execution_count": null,
   "id": "above-viking",
   "metadata": {
    "kernel": "SoS"
   },
   "outputs": [],
   "source": [
    "[Region_extraction_1]\n",
    "# Path to the input molecular phenotype data.\n",
    "parameter: molecular_pheno_whole = path\n",
    "\n",
    "input: molecular_pheno_whole,region_list\n",
    "output: molecular_pheno_whole_bed= f'{wd}/Phenotype/{name}.mol_phe.bed.gz',\n",
    "        molecular_pheno_chr = [f'{wd}/Phenotype/{name}.chr{x}.mol_phe.bed.gz' for x in chrom]\n",
    "task: trunk_workers = 1, trunk_size = 1, walltime = '4h',  mem = '20G', tags = f'{step_name}_{_output[0]:bn}'\n",
    "bash: expand = \"$[ ]\", stderr = f'{_output[0]}.stderr', stdout = f'{_output[0]}.stdout'\n",
    "        sos run $[exe_dir]/Data_Processing/Phenotype/Region_extraction.ipynb region_extraction \\\n",
    "            --wd $[wd]/Phenotype/ \\\n",
    "            --container $[container_apex] \\\n",
    "            --name $[name] \\\n",
    "            --numThreads $[numThreads] \\\n",
    "            --molecular_pheno_whole $[molecular_pheno_whole] \\\n",
    "            --region_list $[region_list] \\\n",
    "            -J $[J] -q $[queue] -c $[yml]"
   ]
  },
  {
   "cell_type": "code",
   "execution_count": null,
   "id": "italic-blowing",
   "metadata": {
    "kernel": "SoS"
   },
   "outputs": [],
   "source": [
    "[Region_extraction_2]\n",
    "input: named_output(\"molecular_pheno_chr\")\n",
    "output: molecular_pheno_chr_list = f'{wd}/Phenotype/{name}.mol_phe.chr_list'\n",
    "python:expand = \"$[ ]\", stderr = f'{_output[0]}.stderr', stdout = f'{_output[0]}.stdout'\n",
    "    import pandas as pd\n",
    "    df = pd.DataFrame({ \"molecular_pheno_chr\" : [$[_input:r,]]})\n",
    "    df.to_csv(\"$[_output]\",sep = \"\\t\",header = 0, index = 0)"
   ]
  }
 ],
 "metadata": {
  "kernelspec": {
   "display_name": "SoS",
   "language": "sos",
   "name": "sos"
  },
  "language_info": {
   "codemirror_mode": "sos",
   "file_extension": ".sos",
   "mimetype": "text/x-sos",
   "name": "sos",
   "nbconvert_exporter": "sos_notebook.converter.SoS_Exporter",
   "pygments_lexer": "sos"
  },
  "sos": {
   "kernels": [
    [
     "Bash",
     "bash",
     "Bash",
     "#E6EEFF",
     ""
    ],
    [
     "SoS",
     "sos",
     "",
     "",
     "sos"
    ]
   ],
   "version": "0.22.4"
  }
 },
 "nbformat": 4,
 "nbformat_minor": 5
}
