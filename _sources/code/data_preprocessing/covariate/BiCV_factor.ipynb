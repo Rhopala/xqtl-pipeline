{
 "cells": [
  {
   "cell_type": "markdown",
   "id": "integrated-reference",
   "metadata": {
    "kernel": "SoS",
    "tags": []
   },
   "source": [
    "# Factor analysis using Bi-Cross validation"
   ]
  },
  {
   "cell_type": "markdown",
   "id": "prospective-visibility",
   "metadata": {
    "kernel": "SoS"
   },
   "source": [
    "## Overview\n",
    "\n",
    "This module use an implement of the following paper\n",
    "> Owen, Art & Wang, Jingshu. (2015). Bi-Cross-Validation for Factor Analysis. Statistical Science. 31. 10.1214/15-STS539. \n",
    "\n",
    "The software used is \n",
    "> A versatile toolkit for molecular QTL mapping and meta-analysis at scale\n",
    "Corbin Quick, Li Guan, Zilin Li, Xihao Li, Rounak Dey, Yaowu Liu, Laura Scott, Xihong Lin\n",
    "bioRxiv 2020.12.18.423490; doi: https://doi.org/10.1101/2020.12.18.423490\n",
    "\n",
    "## Input and output\n",
    "\n",
    "1. An indexed bed.gz file with the same format as [PEER factor analysis](PEER_factor.html).\n",
    "2. A cov file with the same format as [PEER factor analysis](PEER_factor.html).\n",
    "3. An indexed vcf.gz file.\n",
    "\n",
    "## Output \n",
    "1. A cov.gz file with the same format as [PEER factor analysis](PEER_factor.html)."
   ]
  },
  {
   "cell_type": "markdown",
   "id": "nasty-effort",
   "metadata": {
    "kernel": "SoS"
   },
   "source": [
    "## Minimal working example\n",
    "\n",
    "An MWE is uploaded to [google drive](https://drive.google.com/drive/folders/1yjTwoO0DYGi-J9ouMsh9fHKfDmsXJ_4I?usp=sharing)\n"
   ]
  },
  {
   "cell_type": "code",
   "execution_count": null,
   "id": "6506cb7b-2e5d-4250-bb16-beb42f122cd3",
   "metadata": {
    "kernel": "SoS"
   },
   "outputs": [],
   "source": [
    "sos run BiCV_factor.ipynb BiCV \\\n",
    "--phenoFile AC.mol_phe.annotated.bed.gz \\\n",
    "--vcfFile demo_chr1.vcf.gz \\\n",
    "--covFile AC.APEX.cov --cwd ./ \\\n",
    "--container apex.sif --name \"demo\" &"
   ]
  },
  {
   "cell_type": "code",
   "execution_count": null,
   "id": "impressed-photographer",
   "metadata": {
    "kernel": "SoS"
   },
   "outputs": [],
   "source": [
    "[global]\n",
    "# The output directory for generated files. MUST BE FULL PATH\n",
    "parameter: cwd = path\n",
    "# The molecular phenotype matrix\n",
    "parameter: phenoFile = path\n",
    "# The covariate file\n",
    "parameter: covFile = path\n",
    "# The VCF file, required by APEX\n",
    "# https://github.com/hsun3163/neuro-apex/issues/1\n",
    "# https://github.com/cumc/xqtl-pipeline/issues/138\n",
    "parameter: vcfFile = path\n",
    "# For cluster jobs, number commands to run per job\n",
    "parameter: job_size = 1\n",
    "# Wall clock time expected\n",
    "parameter: walltime = \"5h\"\n",
    "# Memory expected\n",
    "parameter: mem = \"16G\"\n",
    "# Number of threads\n",
    "parameter: numThreads = 8\n",
    "# Software container option\n",
    "parameter: container = \"\"\n",
    "parameter: name = \"\"\n",
    "# N PEER factors\n",
    "parameter: N = 30\n",
    "\n",
    "# Default values from PEER:\n",
    "## The number of max iteration\n",
    "\n",
    "parameter: iteration = 10"
   ]
  },
  {
   "cell_type": "code",
   "execution_count": 3,
   "id": "guided-circumstances",
   "metadata": {
    "kernel": "SoS"
   },
   "outputs": [],
   "source": [
    "[BiCV]\n",
    "input: phenoFile, covFile, vcfFile\n",
    "output: f'{cwd:a}/{name}.BiCV.cov.gz'\n",
    "task: trunk_workers = 1, walltime = walltime, mem = mem, cores = numThreads, tags = f'{step_name}_{_output[0]:bn}'\n",
    "bash: container=container, expand= \"$[ ]\", stderr = f'{_output[0]}.stderr', stdout = f'{_output[0]}.stdout'\n",
    "    apex factor \\\n",
    "        --out $[_output[0]:nn] \\\n",
    "        --iter $[iteration] \\\n",
    "        --factors $[N] \\\n",
    "        --bed $[_input[0]] \\\n",
    "        --vcf $[_input[2]] \\\n",
    "        --cov $[_input[1]] \\\n",
    "        --threads $[numThreads]"
   ]
  }
 ],
 "metadata": {
  "kernelspec": {
   "display_name": "SoS",
   "language": "sos",
   "name": "sos"
  },
  "language_info": {
   "codemirror_mode": "sos",
   "file_extension": ".sos",
   "mimetype": "text/x-sos",
   "name": "sos",
   "nbconvert_exporter": "sos_notebook.converter.SoS_Exporter",
   "pygments_lexer": "sos"
  },
  "sos": {
   "kernels": [
    [
     "Bash",
     "bash",
     "Bash",
     "#E6EEFF",
     "shell"
    ],
    [
     "R",
     "ir",
     "R",
     "#DCDCDA",
     "r"
    ],
    [
     "SoS",
     "sos",
     "",
     "",
     "sos"
    ]
   ],
   "version": "0.22.6"
  }
 },
 "nbformat": 4,
 "nbformat_minor": 5
}
