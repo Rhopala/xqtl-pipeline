{
 "cells": [
  {
   "cell_type": "markdown",
   "id": "motivated-reflection",
   "metadata": {
    "kernel": "SoS",
    "tags": []
   },
   "source": [
    "# RNA-seq calling and QC\n",
    "\n",
    "This document shows the use of various modules to prepare reference data, perform RNA-seq calling, expression level quantification and quality control. In particular,\n",
    "\n",
    "1. [`reference_data.ipynb`](../data_preprocessing/reference_data.html)\n",
    "2. [`RNA_calling.ipynb`](calling/RNA_calling.html)\n",
    "3. [`readCount_QC.ipynb`](QC/readCount_QC.html)\n",
    "\n",
    "A minimal working example is available on [Google Drive](https://drive.google.com/drive/u/0/folders/11kQv7PXozsKkgeqADH-28bC_kZ-w_oHo)."
   ]
  },
  {
   "cell_type": "markdown",
   "id": "metric-delay",
   "metadata": {
    "kernel": "SoS"
   },
   "source": [
    "## Download reference data (first time use)"
   ]
  },
  {
   "cell_type": "code",
   "execution_count": null,
   "id": "fabulous-convertible",
   "metadata": {
    "kernel": "Bash"
   },
   "outputs": [],
   "source": [
    "sos run reference_data download_hg_reference --cwd reference_data\n",
    "sos run reference_data download_gene_annotation --cwd reference_data\n",
    "sos run reference_data download_ercc_reference --cwd reference_data"
   ]
  },
  {
   "cell_type": "markdown",
   "id": "attractive-experiment",
   "metadata": {
    "kernel": "Bash"
   },
   "source": [
    "## Reformat reference data (first time use)"
   ]
  },
  {
   "cell_type": "code",
   "execution_count": null,
   "id": "contained-nelson",
   "metadata": {
    "kernel": "Bash"
   },
   "outputs": [],
   "source": [
    "sos run reference_data.ipynb hg_reference \\\n",
    "    --cwd reference_data \\\n",
    "    --ercc-reference reference_data/ERCC92.fa \\\n",
    "    --hg-reference reference_data/GRCh38_full_analysis_set_plus_decoy_hla.fa \\\n",
    "    --container container/rna_quantification.sif"
   ]
  },
  {
   "cell_type": "markdown",
   "id": "annoying-endorsement",
   "metadata": {
    "kernel": "Bash"
   },
   "source": [
    "**Notice: you need to know if your RNA-seq data is stranded or unstranded. If it is stranded, you should add `--is-stranded` to the command below.**"
   ]
  },
  {
   "cell_type": "code",
   "execution_count": null,
   "id": "pressed-proof",
   "metadata": {
    "kernel": "Bash"
   },
   "outputs": [],
   "source": [
    "sos run reference_data.ipynb gene_annotation \\\n",
    "    --cwd reference_data \\\n",
    "    --ercc-gtf reference_data/ERCC92.gtf \\\n",
    "    --hg-gtf reference_data/Homo_sapiens.GRCh38.103.chr.gtf \\\n",
    "    --hg-reference reference_data/GRCh38_full_analysis_set_plus_decoy_hla.noALT_noHLA_noDecoy_ERCC.fasta \\\n",
    "    --container container/rna_quantification.sif"
   ]
  },
  {
   "cell_type": "markdown",
   "id": "opposed-looking",
   "metadata": {
    "kernel": "Bash"
   },
   "source": [
    "## Index reference data"
   ]
  },
  {
   "cell_type": "code",
   "execution_count": null,
   "id": "planned-killer",
   "metadata": {
    "kernel": "Bash"
   },
   "outputs": [],
   "source": [
    "sos run reference_data.ipynb STAR_index \\\n",
    "    --cwd output \\\n",
    "    --hg-reference reference_data/GRCh38_full_analysis_set_plus_decoy_hla.noALT_noHLA_noDecoy_ERCC.fasta \\\n",
    "    --hg-gtf reference_data/Homo_sapiens.GRCh38.103.chr.reformatted.ERCC.gtf \\\n",
    "    --container container/rna_quantification.sif \\\n",
    "    --mem 40G"
   ]
  },
  {
   "cell_type": "code",
   "execution_count": null,
   "id": "incoming-avatar",
   "metadata": {
    "kernel": "Bash"
   },
   "outputs": [],
   "source": [
    "sos run reference_data.ipynb RSEM_index \\\n",
    "    --cwd output \\\n",
    "    --hg-reference reference_data/GRCh38_full_analysis_set_plus_decoy_hla.noALT_noHLA_noDecoy_ERCC.fasta \\\n",
    "    --hg-gtf reference_data/Homo_sapiens.GRCh38.103.chr.reformatted.ERCC.gtf \\\n",
    "    --container container/rna_quantification.sif \\\n",
    "    --mem 40G"
   ]
  },
  {
   "cell_type": "markdown",
   "id": "cognitive-miniature",
   "metadata": {
    "kernel": "Bash"
   },
   "source": [
    "## Perform data quality summary via `fastqc`"
   ]
  },
  {
   "cell_type": "markdown",
   "id": "noticed-nation",
   "metadata": {
    "kernel": "Bash"
   },
   "source": [
    "## Call gene-level RNA expression via `rnaseqc`"
   ]
  },
  {
   "cell_type": "markdown",
   "id": "cubic-buffer",
   "metadata": {
    "kernel": "Bash"
   },
   "source": [
    "## Call transcript level RNA expression via `RSEM`"
   ]
  },
  {
   "cell_type": "code",
   "execution_count": null,
   "id": "scenic-signal",
   "metadata": {
    "kernel": "Bash"
   },
   "outputs": [],
   "source": []
  }
 ],
 "metadata": {
  "kernelspec": {
   "display_name": "SoS",
   "language": "sos",
   "name": "sos"
  },
  "language_info": {
   "codemirror_mode": "sos",
   "file_extension": ".sos",
   "mimetype": "text/x-sos",
   "name": "sos",
   "nbconvert_exporter": "sos_notebook.converter.SoS_Exporter",
   "pygments_lexer": "sos"
  },
  "sos": {
   "kernels": [
    [
     "Bash",
     "bash",
     "Bash",
     "#E6EEFF",
     "shell"
    ],
    [
     "SoS",
     "sos",
     "",
     "",
     "sos"
    ]
   ],
   "version": "0.22.4"
  }
 },
 "nbformat": 4,
 "nbformat_minor": 5
}
