{
 "cells": [
  {
   "cell_type": "markdown",
   "id": "descending-sample",
   "metadata": {
    "kernel": "SoS",
    "tags": []
   },
   "source": [
    "# Covariate data preprocessing\n",
    "This is the data processing pipeline for xqtl workflow, containing the generation of:\n",
    "1. Factor from expression\n",
    "2. PCA from genotype\n",
    "3. GRM from genotype\n",
    "4. LD from genotype, filtered by grm [TBD]\n",
    "5. Molecular_phenotype per chrom within selected regions in the format APEX and tensorQTL takes\n",
    "\n",
    "\n",
    "**FIXME: Hao, I am thinking this kind of notebook (that sits outside these folders) should be of a tutorial nature. It should only contain `sos run` commands interactively with enough text explanations. For those who want to run the default analysis they should work with `master_control.ipynb` and generate the commands to run as is. For those who want to customize the analysis, they should refer to each of these \"recipe\" and change the parameters here. That should cover 95% user cases. People will read the module notebooks only for learning purpose. For those who want to edit the module notebooks we will consider them developers or at least power users and I expect few of them.**\n",
    "\n",
    "\n",
    "### Input\n",
    "The input for this workflow is 1 row of the input recipe file, documenting the path to\n",
    "1. 1 complete molecular_phenotype data\n",
    "2. 1 collection of genotype data in plink format, partitioned by chrm\n",
    "3. 1 file documenting the list of region to be analyzed\n",
    "4. \n",
    "\n",
    "\n",
    "### Output\n",
    "For each collection, the output is 23 sets of :\n",
    "1. EXP file for selected region\n",
    "2. genotype from vcf file\n",
    "\n",
    "1 sets of\n",
    "1. PCA + Factor + Covariate file\n",
    "\n",
    "### Excutable:\n",
    "This notebook depends on the scripts of multiple other notebook, the directory those are specify by exe_dir"
   ]
  },
  {
   "cell_type": "code",
   "execution_count": null,
   "id": "hollywood-certification",
   "metadata": {
    "kernel": "Bash",
    "tags": []
   },
   "outputs": [],
   "source": [
    "nohup sos run /home/hs3163/GIT/ADSPFG-xQTL/workflow/Data_Processing/Data_Processing.ipynb region_extraction \\\n",
    "            --wd $[wd] \\\n",
    "            --container $[container] \\\n",
    "            --name $[name] \\\n",
    "            --numThreads $[numThreads] \\\n",
    "            --yml $[yml] \\\n",
    "            --queue $[queue] \\\n",
    "            --J $[J] \\\n",
    "            --exe_dir $[exe_dir] -s build &"
   ]
  },
  {
   "cell_type": "code",
   "execution_count": 2,
   "id": "intellectual-terror",
   "metadata": {
    "kernel": "SoS"
   },
   "outputs": [],
   "source": [
    "[global]\n",
    "import os\n",
    "# Work directory & output directory\n",
    "parameter: wd = path\n",
    "# The filename name for output data\n",
    "parameter: container = 'gaow/twas'\n",
    "# name for the analysis output\n",
    "parameter: name = str\n",
    "# For cluster jobs, number commands to run per job\n",
    "parameter: job_size = 1\n",
    "# Wall clock time expected\n",
    "parameter: walltime = \"24h\"\n",
    "# Memory expected\n",
    "parameter: mem = \"60G\"\n",
    "# Number of threads\n",
    "parameter: numThreads = 20\n",
    "# Diretory to the executable\n",
    "parameter: exe_dir = path(\"~/GIT/ADSPFG-xQTL/workflow\")\n",
    "# yml template\n",
    "parameter: yml = '/home/hs3163/GIT/ADSPFG-xQTL/code/csg.yml'\n",
    "# queue for analysis\n",
    "parameter: queue = \"csg\"\n",
    "# Number of submission\n",
    "parameter: J = 200\n",
    "# Factor Options\n",
    "parameter: factor_option: \"APEX\"\n",
    "\n",
    "## Temp   \n",
    "parameter: container_lmm = str\n",
    "parameter: container_apex = str\n",
    "\n",
    "parameter: region_list = path\n",
    "regions = [x.strip().split() for x in open(region_list).readlines() if x.strip() and not x.strip().startswith('#')]\n",
    "# Get the unique chormosome that have regions to be analyzed.\n",
    "def extract(lst):\n",
    "    return [item[0] for item in lst]\n",
    "chrom = list(set(extract(regions)))\n",
    "chrom.sort()"
   ]
  },
  {
   "cell_type": "code",
   "execution_count": null,
   "id": "reasonable-ready",
   "metadata": {
    "kernel": "SoS"
   },
   "outputs": [],
   "source": [
    "[pca_factor]\n",
    "## PCA models\n",
    "input: output_from(\"project_sample\")[\"project_sample\"], output_from(\"Factor_analysis\")[\"Factor_analysis\"]\n",
    "output: pca_factor = f'{_input[1]:n}.pca.cov'\n",
    "R: expand= \"$[ ]\", stderr = f'{_output:n}.stderr', stdout = f'{_output:n}.stdout'\n",
    "        library(\"dplyr\")\n",
    "        library(\"tibble\")\n",
    "        library(\"readr\")\n",
    "        library(\"modelr\")\n",
    "        library(\"purrr\")\n",
    "        pca_output = readRDS(\"$[_input[0]]\")$pc_scores\n",
    "        mtx = pca_output%>%select(contains(\"PC\"))%>%t()\n",
    "        colnames(mtx) <- pca_output$IID\n",
    "        mtx = mtx%>%as_tibble()%>%mutate(\"#id\" = rownames(mtx))%>%select(\"#id\",everything())\n",
    "        factor_cov = read_delim(\"$[_input[1]]\",\"\\t\")\n",
    "        output = bind_rows(factor_cov,mtx)\n",
    "        output%>%write_delim(\"$[_output]\",\"\\t\")"
   ]
  },
  {
   "cell_type": "markdown",
   "id": "prime-desert",
   "metadata": {
    "kernel": "SoS"
   },
   "source": [
    "## Process of Factor analysis\n",
    "Based on the selection of method, PEER vs APEX, for factor analysis, the input file will be different. For apex, the input file is a bed.gz file, with tbi index. For peer, the molecular pheno file itself shall suffice"
   ]
  },
  {
   "cell_type": "code",
   "execution_count": null,
   "id": "minor-ecuador",
   "metadata": {
    "kernel": "SoS"
   },
   "outputs": [],
   "source": [
    "[Factor_analysis]\n",
    "parameter: covariate = \"\"\n",
    "# N PEER factors, If do not specify or specified as 0, default values suggested by \n",
    "# UCSC (based on different sample size) Will be used\n",
    "parameter: N = 4\n",
    "# Default values from PEER:\n",
    "## The number of iteration\n",
    "parameter: max_iter = 30\n",
    "## Prior parameters\n",
    "parameter: Alpha_a = 0.001\n",
    "parameter: Alpha_b = 0.1\n",
    "parameter: Eps_a = 0.1\n",
    "parameter: Eps_b = 10.\n",
    "## Tolarance parameters\n",
    "parameter: tol = 0.001\n",
    "parameter: var_tol = 1e-08\n",
    "input: output_from(\"Region_extraction_1\")[\"molecular_pheno_whole_bed\"], output_from(\"plink2vcf\")[\"qced_vcf_genotype_list\"]\n",
    "output: Factor_analysis = f'{wd:a}/Factor_and_Covariate/{name}.{factor_option}.cov'\n",
    "bash: expand = \"$[ ]\", stderr = f'{_output[0]}.stderr', stdout = f'{_output[0]}.stdout'\n",
    "        sos run $[exe_dir]/Data_Processing/Factor_and_Covariate/factor.ipynb $[factor_option]  \\\n",
    "            --wd $[wd]/Factor_and_Covariate/ \\\n",
    "            --container_apex $[container_apex] \\\n",
    "            --name $[name] \\\n",
    "            --numThreads $[numThreads] \\\n",
    "            --molecular_pheno $[_input[0]] \\\n",
    "            --genotype_list $[_input[1]] \\\n",
    "            --N $[N] \\\n",
    "            --Alpha_a $[Alpha_a]  \\\n",
    "            --Alpha_b $[Alpha_b] \\\n",
    "            --Eps_a  $[Eps_a] \\\n",
    "            --Eps_b  $[Eps_b] \\\n",
    "            --tol  $[tol] \\\n",
    "            --var_tol $[var_tol] \\\n",
    "            -J $[J] -q $[queue] -c $[yml] $[f'--covariate {covariate}' if os.path.exists(covariate) else f'']"
   ]
  }
 ],
 "metadata": {
  "kernelspec": {
   "display_name": "SoS",
   "language": "sos",
   "name": "sos"
  },
  "language_info": {
   "codemirror_mode": "sos",
   "file_extension": ".sos",
   "mimetype": "text/x-sos",
   "name": "sos",
   "nbconvert_exporter": "sos_notebook.converter.SoS_Exporter",
   "pygments_lexer": "sos"
  },
  "sos": {
   "kernels": [
    [
     "Bash",
     "bash",
     "Bash",
     "#E6EEFF",
     ""
    ],
    [
     "SoS",
     "sos",
     "",
     "",
     "sos"
    ]
   ],
   "version": "0.22.4"
  }
 },
 "nbformat": 4,
 "nbformat_minor": 5
}
