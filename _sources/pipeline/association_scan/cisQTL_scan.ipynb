{
 "cells": [
  {
   "cell_type": "markdown",
   "id": "34379a26-c639-4138-b619-f2334508f9d2",
   "metadata": {
    "kernel": "SoS",
    "tags": []
   },
   "source": [
    "## Association Scan for cisQTL\n",
    "Taking the output from data preprocessing stage, this tutorial document the ways to generate cis association scan summary statistics.\n",
    "\n",
    "There are two modules can be used: TensorQTL, APEX, they both produce the same set of results\n",
    "\n",
    "The output is a list of sumstat, which can be merged into a sumstat table to feed into multivariate analysis"
   ]
  },
  {
   "cell_type": "markdown",
   "id": "a1d6a411-69ec-4d8d-89cb-63a142e20368",
   "metadata": {
    "kernel": "SoS"
   },
   "source": [
    "## APEX"
   ]
  },
  {
   "cell_type": "code",
   "execution_count": null,
   "id": "16d5fdad-532a-4ce3-95d8-07f585458e68",
   "metadata": {
    "kernel": "SoS"
   },
   "outputs": [],
   "source": []
  },
  {
   "cell_type": "code",
   "execution_count": null,
   "id": "197d859b-4ea1-4448-98bd-5e509ec6e329",
   "metadata": {
    "kernel": "SoS"
   },
   "outputs": [],
   "source": [
    "nohup sos run /home/hs3163/GIT/xqtl-pipeline/pipeline/association_scan/APEX/APEX.ipynb APEX_cis \\\n",
    "--genotype_file_list /mnt/mfs/statgen/xqtl_workflow_testing/module/genotype_format/Dry_vcf_geno/Dry.vcf_geno_list.txt \\\n",
    "--molecular_pheno_list /mnt/mfs/statgen/xqtl_workflow_testing/module/phenotype/Dry.processed_phenotype.per_chrom.recipe  \\\n",
    "--covariate /mnt/mfs/statgen/xqtl_workflow_testing/success_example/testing_no_cov/Data_Processing/Factor_and_Covariate/AC.APEX.cov   \\\n",
    "--grm_list /mnt/mfs/statgen/xqtl_workflow_testing/module/grm/Dry.grm_list.txt  \\\n",
    "--wd ./  \\\n",
    "--name \"demo\" --container \"/mnt/mfs/statgen/containers/xqtl_pipeline_sif/apex.sif\" &"
   ]
  },
  {
   "cell_type": "markdown",
   "id": "f2d650b3-877a-4c5f-96fc-c219a799efcd",
   "metadata": {
    "kernel": "SoS"
   },
   "source": [
    "## TensorQTL"
   ]
  },
  {
   "cell_type": "code",
   "execution_count": null,
   "id": "ea873bc3-d085-41a5-970f-9d6b4f516cf3",
   "metadata": {
    "kernel": "SoS"
   },
   "outputs": [],
   "source": [
    "nohup sos run /home/hs3163/GIT/xqtl-pipeline/pipeline/association_scan/TensorQTL/TensorQTL.ipynb TensorQTL_cis \\\n",
    "--genotype_file_list /mnt/mfs/statgen/xqtl_workflow_testing/demo/GWAS_QC/demo.processed_genotype.plink_per_chrom.recipe \\\n",
    "--molecular_pheno_list /mnt/mfs/statgen/xqtl_workflow_testing/demo/phenotype_reformat/demo.processed_phenotype.per_chrom.recipe  \\\n",
    "--covariate /mnt/mfs/statgen/xqtl_workflow_testing/success_example/testing_no_cov/Data_Processing/Factor_and_Covariate/AC.APEX.cov   \\\n",
    "--wd ./  \\\n",
    "--name \"demo\" --container \"/mnt/mfs/statgen/containers/xqtl_pipeline_sif/TensorQTL.sif\" &"
   ]
  }
 ],
 "metadata": {
  "kernelspec": {
   "display_name": "SoS",
   "language": "sos",
   "name": "sos"
  },
  "language_info": {
   "codemirror_mode": "sos",
   "file_extension": ".sos",
   "mimetype": "text/x-sos",
   "name": "sos",
   "nbconvert_exporter": "sos_notebook.converter.SoS_Exporter",
   "pygments_lexer": "sos"
  },
  "sos": {
   "kernels": [
    [
     "Bash",
     "bash",
     "Bash",
     "#E6EEFF",
     ""
    ],
    [
     "Markdown",
     "markdown",
     "markdown",
     "",
     ""
    ],
    [
     "SoS",
     "sos",
     "",
     "",
     "sos"
    ]
   ],
   "version": "0.22.6"
  }
 },
 "nbformat": 4,
 "nbformat_minor": 5
}
