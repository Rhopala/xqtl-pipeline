{
 "cells": [
  {
   "cell_type": "markdown",
   "id": "stock-intensity",
   "metadata": {
    "kernel": "SoS",
    "tags": []
   },
   "source": [
    "# Gene symbol annotation\n",
    "\n",
    "\n",
    "This is the phenotype annotation step for data processing pipeline for xqtl workflow, containing the generation of annotated phenotype\n",
    "\n",
    "### Input\n",
    "The input for this workflow is the collection of data for 1 conditions as described in the readme of this git repo\n",
    "1. 1 complete unresidual molecular_phenotype data\n",
    "2. (Optional) 1 file documenting the list of region to be analyzed to filtered out unneeded genes\n",
    "\n",
    "### Output\n",
    "For each collection, the output is \n",
    "3. 1 region list file documenting chr, pos, start, end, gene_ID\n",
    "4. 1 complete and annotated unresidual phenotype file (bed+index), suitable to be fed into factor analysis"
   ]
  },
  {
   "cell_type": "code",
   "execution_count": 2,
   "id": "criminal-intelligence",
   "metadata": {
    "kernel": "SoS"
   },
   "outputs": [],
   "source": [
    "[global]\n",
    "import os\n",
    "# Work directory & output directory\n",
    "parameter: wd = path\n",
    "# The filename namefor output data\n",
    "parameter: container = 'gaow/twas'\n",
    "# namefor the analysis output\n",
    "parameter: name= 'ROSMAP'\n",
    "\n",
    "# For cluster jobs, number commands to run per job\n",
    "parameter: job_size = 1\n",
    "# Wall clock time expected\n",
    "parameter: walltime = \"5h\"\n",
    "# Memory expected\n",
    "parameter: mem = \"16G\"\n",
    "# Number of threads\n",
    "parameter: numThreads = 20\n",
    "# Path to the input molecular phenotype data.\n",
    "parameter: molecular_pheno_whole = path\n",
    "# A list of gene to keep, containing 1 column of gene_ID\n",
    "parameter: keep_gene_list = \"FALSE\"\n",
    "\n",
    "Prefix = name\n"
   ]
  },
  {
   "cell_type": "code",
   "execution_count": null,
   "id": "regulation-crest",
   "metadata": {
    "kernel": "SoS"
   },
   "outputs": [],
   "source": []
  },
  {
   "cell_type": "markdown",
   "id": "collectible-staff",
   "metadata": {
    "kernel": "SoS",
    "tags": []
   },
   "source": [
    "## Annotation of molecular phenotype file\n",
    "This workflow adds the annotations of chr pos(TSS where start = end -1) and gene_ID to the bed file"
   ]
  },
  {
   "cell_type": "code",
   "execution_count": null,
   "id": "laden-reputation",
   "metadata": {
    "kernel": "SoS"
   },
   "outputs": [],
   "source": [
    "[annotation]\n",
    "input: molecular_pheno_whole\n",
    "output: f'{wd}/{name}.{_input:bn}.annotated.bed.gz',\n",
    "        f'{wd}/{name}.{_input:bn}.region_list'\n",
    "\n",
    "R:  expand= \"$[ ]\", stderr = f'{_output[0]:n}.stderr', stdout = f'{_output[0]:n}.stdout' ,container = container\n",
    "    library(\"biomaRt\")\n",
    "    library(dplyr)\n",
    "    library(readr)\n",
    "    biomartCacheClear()\n",
    "    gene_exp = readr::read_delim(\"$[_input[0]]\",delim = \"\\t\")\n",
    "    if(\"#chr\" %in% colnames(gene_exp) ){\n",
    "    gene_exp = gene_exp[,4:ncol(gene_exp)]}\n",
    "    ensembl = useDataset(\"hsapiens_gene_ensembl\",mart=useMart(\"ENSEMBL_MART_ENSEMBL\"))\n",
    "    ensembl_df <- getBM(attributes=c(\"ensembl_gene_id\",\"chromosome_name\", \"start_position\", \"end_position\"),mart=ensembl)\n",
    "    my_genes = gene_exp$gene_ID\n",
    "    keep_genes =  my_genes\n",
    "    my_genes_ann = ensembl_df[match(my_genes, ensembl_df$ensembl_gene_id),]%>%filter(chromosome_name%in%1:23)%>%dplyr::rename( \"#chr\" = chromosome_name, \"start\" = start_position, \"end\" = end_position,\"gene_ID\" = ensembl_gene_id)%>%filter(gene_ID!=\"NA\", gene_ID%in%keep_genes)\n",
    "    my_genes_ann%>%select(`#chr`,start,end,gene_ID)%>%write_delim(path = \"$[_output[1]]\",\"\\t\")\n",
    "    my_gene_bed = inner_join(my_genes_ann %>%mutate(end = start + 1) %>%select(`#chr`,start,end,gene_ID),gene_exp,by = \"gene_ID\" )%>%arrange(`#chr`,start) \n",
    "    my_gene_bed%>%readr::write_tsv( path = \"$[_output[0]:n]\", na = \"NA\", append = FALSE, col_names = TRUE, quote_escape = \"double\")\n",
    "\n",
    "bash: expand = \"$[ ]\", stderr = f'{_output[0]}.stderr', stdout = f'{_output[0]}.stdout',container = container\n",
    "        bgzip -f $[_output[0]:n]\n",
    "        tabix -p bed $[_output[0]] -f"
   ]
  }
 ],
 "metadata": {
  "kernelspec": {
   "display_name": "SoS",
   "language": "sos",
   "name": "sos"
  },
  "language_info": {
   "codemirror_mode": "sos",
   "file_extension": ".sos",
   "mimetype": "text/x-sos",
   "name": "sos",
   "nbconvert_exporter": "sos_notebook.converter.SoS_Exporter",
   "pygments_lexer": "sos"
  },
  "sos": {
   "kernels": [
    [
     "SoS",
     "sos",
     "",
     ""
    ]
   ],
   "version": "0.22.4"
  }
 },
 "nbformat": 4,
 "nbformat_minor": 5
}
