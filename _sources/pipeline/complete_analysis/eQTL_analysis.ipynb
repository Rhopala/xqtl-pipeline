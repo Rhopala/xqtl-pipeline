{
 "cells": [
  {
   "cell_type": "markdown",
   "id": "common-chemistry",
   "metadata": {
    "kernel": "SoS",
    "tags": []
   },
   "source": [
    "# eQTL analysis complete workflow\n",
    "\n",
    "This notebook provide a master control on the XQTL workflow so it can works on multiple data collection as proposed.\n",
    "Input:\n",
    "    A recipe file,each row is a data collection and with the following column:\n",
    "    \n",
    "    Theme\n",
    "        name of dataset, must be different, each uni_study analysis will be performed in a folder named after each, meta analysis will be performed in a folder named as {study1}_{study2}\n",
    "            \n",
    "        The column name must contain the # and be the first column\n",
    "    \n",
    "    genotype_list\n",
    "        {Path to file}\n",
    "    \n",
    "    molecular_pheno\n",
    "        {Path to file}\n",
    "    region_list (list of regions to be analzed)\n",
    "        {Path to file}\n",
    "    \n",
    "    covariate_file\n",
    "        {Path to file}\n",
    "    \n",
    "    factor_analysis_opt\n",
    "        \"APEX\" vs \"PEER\" for factor analysis\n",
    "    \n",
    "    LD options:\n",
    "        \"In-sample\" LD vs {path to reference panel}\n",
    "    \n",
    "    QTL_tool_option\n",
    "        \"APEX\" vs \"TensorQTL\" for QTL association\n",
    "    \n",
    "    QTL_analysis_option\n",
    "        {Int for cis window} vs \"trans\"\n",
    "    \n",
    "    Populations\n",
    "        The populations from which of the samples was drawn\n",
    "    \n",
    "    Conditions:\n",
    "        The nature of molecular phenotype\n",
    "    \n",
    "    ### note: Only data collection from the same Populations and conditions will me merged to perform Fix effect meta analysis\n",
    "    \n",
    "Output:\n",
    "    ..."
   ]
  },
  {
   "cell_type": "markdown",
   "id": "interpreted-trading",
   "metadata": {
    "kernel": "SoS"
   },
   "source": [
    "## Generation of MWE\n",
    "This is the code to generate the mwe recipe and LD_recipe on csg cluster\n",
    "\n",
    "**FIXME: Hao, I'm thinking that for this configuration file we should not speicify any parameter (eg `cis_windows` below), but only file locations and workflow names. the outcome of running this should also be that instead of running anything, we write the sequence of commands to execute to a `sh` file (with automatic comment strings `#` to separate the sections) for people to run on their own, so they will have better control over everything. Is there an issue with this plan? (please slack me for discussions on this if necessary). Otherwise, let's focus first on finishing up the modules and worry about this the last?**\n",
    "\n",
    "**FIXME: Also, this file should be those that reproduces exactly the official default Brain xQTL consortium analysis. That is why I would rather have it per xQTL type even if there will be duplicated lines of contents**"
   ]
  },
  {
   "cell_type": "code",
   "execution_count": null,
   "id": "independent-financing",
   "metadata": {
    "kernel": "SoS"
   },
   "outputs": [],
   "source": [
    "Recipe_temp = pd.DataFrame( {\"Theme\" : [\"AC\",\"DLPFC\",\"PCC\"] ,\n",
    "                \"genotype_list\" : [\"/home/hs3163/GIT/ADSPFG-xQTL/MWE/mwe_genotype_list\",\n",
    "                   \"/home/hs3163/GIT/ADSPFG-xQTL/MWE/mwe_genotype_list\",\n",
    "                   \"/home/hs3163/GIT/ADSPFG-xQTL/MWE/mwe_genotype_list\"],\n",
    "                \"molecular_pheno\" : [\"/home/hs3163/Project/Rosmap/data/gene_exp/AC/geneTpmResidualsAgeGenderAdj_rename.txt\",\n",
    "                     \"/home/hs3163/Project/Rosmap/data/gene_exp/DLPFC/geneTpmResidualsAgeGenderAdj_rename.txt\",\n",
    "                     \"/home/hs3163/Project/Rosmap/data/gene_exp/PCC/geneTpmResidualsAgeGenderAdj_rename.txt\"],\n",
    "                \"region_list\" : [\"~/GIT/ADSPFG-xQTL/MWE/mwe_region\",\n",
    "                \"~/GIT/ADSPFG-xQTL/MWE/mwe_region\",\n",
    "                \"~/GIT/ADSPFG-xQTL/MWE/mwe_region\"] ,\n",
    "                \"covariate_file\" : [\"/home/hs3163/GIT/ADSPFG-xQTL/MWE/MWE.cov\",\"/home/hs3163/GIT/ADSPFG-xQTL/MWE/MWE.cov\",\"/home/hs3163/GIT/ADSPFG-xQTL/MWE/MWE.cov\"],\n",
    "                \"factor_analysis_opt\" : [\"APEX\",\"APEX\",\"APEX\"],\n",
    "                \"LD_Recipe\": [\"~/GIT/ADSPFG-xQTL/MWE/LD_Recipe\",\"~/GIT/ADSPFG-xQTL/MWE/LD_Recipe\",\"~/GIT/ADSPFG-xQTL/MWE/LD_Recipe\"],\n",
    "                \"QTL_tool_option\" : [\"APEX\",\"APEX\",\"APEX\"],\n",
    "                \"QTL_analysis_option\" : [\"cis\",\"cis\",\"cis\"],\n",
    "                \"cis_windows\" : [500000,500000,5000000],\n",
    "                \"Metal\" : [\"T\",\"T\",\"F\"]}).to_csv(\"/home/hs3163/GIT/ADSPFG-xQTL/MWE/mwe_recipe_example\",\"\\t\")\n",
    "\n",
    "        ### note: Only data collection from the same Populations and conditions will me merged to perform Fix effect meta analysis\n",
    "    "
   ]
  },
  {
   "cell_type": "code",
   "execution_count": null,
   "id": "buried-stations",
   "metadata": {
    "kernel": "SoS"
   },
   "outputs": [],
   "source": [
    "pd.DataFrame({\"ld_file_prefix\" : [\"/mnt/mfs/statgen/neuro-twas/mv_wg/cache_arch/cache/geneTpmResidualsAgeGenderAdj_rename.\",\"/mnt/mfs/statgen/neuro-twas/mv_wg/cache_arch/cache/geneTpmResidualsAgeGenderAdj_rename.\"],\n",
    "               \"ld_file_surfix\" : [\".merged.ld.rds\",\".merged.ld.rds\"]}).to_csv(\"~/GIT/ADSPFG-xQTL/MWE/LD_Recipe\",sep = \"\\t\")\n",
    "\n",
    "\n",
    "\n"
   ]
  },
  {
   "cell_type": "markdown",
   "id": "graduate-perfume",
   "metadata": {
    "kernel": "SoS"
   },
   "source": [
    "## Example for running the workflow\n",
    "This will run the workflow from via several submission and save the output to nohup.out"
   ]
  },
  {
   "cell_type": "code",
   "execution_count": null,
   "id": "stuck-scroll",
   "metadata": {
    "kernel": "SoS"
   },
   "outputs": [],
   "source": [
    "nohup sos run /home/hs3163/GIT/ADSPFG-xQTL/workflow/master_control.ipynb Fine_mapping \\\n",
    "        --recipe /home/hs3163/GIT/ADSPFG-xQTL/MWE/mwe_recipe_example \\\n",
    "        --wd ./ \\\n",
    "        --exe_dir \"~/GIT/ADSPFG-xQTL/workflow\" -J 50 -q csg -c ~/GIT/ADSPFG-xQTL/code/csg.yml -s build &"
   ]
  },
  {
   "cell_type": "markdown",
   "id": "flying-emphasis",
   "metadata": {
    "kernel": "SoS"
   },
   "source": [
    "## Other example workflow:\n",
    "These command run each of the substep to test them individually"
   ]
  },
  {
   "cell_type": "code",
   "execution_count": null,
   "id": "simple-station",
   "metadata": {
    "kernel": "SoS"
   },
   "outputs": [],
   "source": [
    "sos run /home/hs3163/GIT/ADSPFG-xQTL/workflow/master_control.ipynb data_proc \\\n",
    "        --recipe /home/hs3163/GIT/ADSPFG-xQTL/MWE/mwe_recipe_example \\\n",
    "        --wd ./ \\\n",
    "        --exe_dir \"~/GIT/ADSPFG-xQTL/workflow\"\n",
    "\n",
    "sos run /home/hs3163/GIT/ADSPFG-xQTL/workflow/master_control.ipynb QTL \\\n",
    "        --recipe /home/hs3163/GIT/ADSPFG-xQTL/MWE/mwe_recipe_example \\\n",
    "        --wd ./ \\\n",
    "        --exe_dir \"~/GIT/ADSPFG-xQTL/workflow\"\n",
    "\n",
    "sos run /home/hs3163/GIT/ADSPFG-xQTL/workflow/master_control.ipynb Meta \\\n",
    "        --recipe /home/hs3163/GIT/ADSPFG-xQTL/MWE/mwe_recipe_example \\\n",
    "        --wd ./ \\\n",
    "        --exe_dir \"~/GIT/ADSPFG-xQTL/workflow\" \n",
    "\n",
    "sos run /home/hs3163/GIT/ADSPFG-xQTL/workflow/master_control.ipynb Fine_mapping \\\n",
    "        --recipe /home/hs3163/GIT/ADSPFG-xQTL/MWE/mwe_recipe_example \\\n",
    "        --wd ./ \\\n",
    "        --exe_dir \"~/GIT/ADSPFG-xQTL/workflow\" \n",
    "\n",
    "\n"
   ]
  },
  {
   "cell_type": "code",
   "execution_count": null,
   "id": "further-latex",
   "metadata": {
    "kernel": "SoS"
   },
   "outputs": [],
   "source": [
    "[global]\n",
    "## The aforementioned input recipe\n",
    "parameter: recipe = path\n",
    "## Overall wd, the file structure of analysis is wd/[steps]/[sub_dir for each steps]\n",
    "parameter:  wd = path(\".\")\n",
    "## Diretory to the excutable\n",
    "parameter: exe_dir = path(\"~/GIT/ADSPFG-xQTL/workflow\")\n",
    "\n",
    "parameter: container = '/mnt/mfs/statgen/containers/twas_latest.sif'\n",
    "parameter: container_lmm = '/mnt/mfs/statgen/containers/lmm.sif'\n",
    "parameter: container_apex = '/mnt/mfs/statgen/containers/apex.sif'\n",
    "\n",
    "import pandas as pd\n",
    "input_inv = pd.read_csv(recipe, sep = \"\\t\")\n",
    "Metal_theme = input_inv.query(\"Metal == 'T'\")[\"Theme\"].to_list()\n",
    "Metal_theme_str = \"-\".join(Metal_theme)\n",
    "Non_Metal_theme = input_inv.query(\"Metal != 'T'\")[\"Theme\"].to_list()\n",
    "Non_Metal_theme.append(Metal_theme_str)\n",
    "Theme_Prefix = \"_\".join(Non_Metal_theme)\n",
    "\n",
    "parameter: LD_Recipe  = path(input_inv[\"LD_Recipe\"][0])\n",
    "input_inv = input_inv.to_dict(\"records\")\n"
   ]
  },
  {
   "cell_type": "markdown",
   "id": "2ada369b-c34b-4d84-8844-d86f4c2c22cb",
   "metadata": {
    "kernel": "SoS"
   },
   "source": [
    "## Molecular Phenotype Calling"
   ]
  },
  {
   "cell_type": "code",
   "execution_count": null,
   "id": "7dd3e749-cfd2-4d3d-927f-a2b4092aaeeb",
   "metadata": {
    "kernel": "SoS"
   },
   "outputs": [],
   "source": []
  },
  {
   "cell_type": "markdown",
   "id": "increasing-tract",
   "metadata": {
    "kernel": "SoS",
    "tags": []
   },
   "source": [
    "## Data Preprocessing\n",
    "### Molecular Phenotype Processing"
   ]
  },
  {
   "cell_type": "markdown",
   "id": "407394a5-bc1d-49b7-a420-863e0a34852d",
   "metadata": {
    "kernel": "SoS"
   },
   "source": [
    "### Genotype Processing"
   ]
  },
  {
   "cell_type": "code",
   "execution_count": null,
   "id": "3971c211-4886-4fc8-9ea9-3b9b3d41524e",
   "metadata": {
    "kernel": "SoS"
   },
   "outputs": [],
   "source": [
    "[genotype_QC]\n",
    "input: for_each = \"input_inv\"\n",
    "output: per_chrom_plink_list = f'{wd:a}/data_preprocessing/genotype/qc/{_input_inv[\"Theme\"]}.processed_genotype.plink_per_chrom.recipe',\n",
    "        merged_plink =  f'{wd:a}/data_preprocessing/genotype/qc/{_input_inv[\"Theme\"]}.mergrd.bed',\n",
    "        unrelated = f'{wd:a}/data_preprocessing/genotype/qc/{_input_inv[\"Theme\"]}.mergrd.unrelated.bed',\n",
    "        related = f'{wd:a}/data_preprocessing/genotype/qc/{_input_inv[\"Theme\"]}.mergrd.related.bed'\n",
    "#task: trunk_workers = 1, trunk_size = 1, walltime = '24h',  mem = '40G', tags = f'{step_name}_{_output[0]:bn}'\n",
    "bash:  expand = \"$[ ]\", stderr = f'{_output[0]}.stderr', stdout = f'{_output[0]}.stdout'\n",
    "    sos run $[exe_dir]/data_preprocessing/genotype/GWAS_QC.ipynb output \\\n",
    "        --genotype_list $[_input_inv[\"genotype_list\"]] \\\n",
    "        --name $[_input_inv[\"Theme\"]] \\\n",
    "        --container_lmm $[container_lmm] \\\n",
    "        --wd $[wd:a]/data_preprocessing/genotype/qc/ \\\n",
    "        -J 200 -q csg -c /home/hs3163/GIT/ADSPFG-xQTL/code/csg.yml"
   ]
  },
  {
   "cell_type": "code",
   "execution_count": null,
   "id": "f5243075-b1f5-4723-91e4-73065e9aa5f8",
   "metadata": {
    "kernel": "SoS"
   },
   "outputs": [],
   "source": [
    "[genotype_reformatting]\n",
    "import pandas as pd\n",
    "input: output_from(\"genotype_QC\")[\"per_chrom_plink_list\"], group_with = \"input_inv\"\n",
    "output: vcf_list = f'{wd}/data_preprocessing/genotype/vcf/{_input_inv[\"Theme\"]}.vcf.recipe',\n",
    "        per_gene_plink = f'{wd}/data_preprocessing/genotype/per_gene/{_input_inv[\"Theme\"]}.per_gene_plink.recipe'\n",
    "#task: trunk_workers = 1, trunk_size = 1, walltime = '24h',  mem = '40G', tags = f'{step_name}_{_output[0]:bn}'\n",
    "bash:  expand = \"$[ ]\", stderr = f'{_output[0]}.stderr', stdout = f'{_output[0]}.stdout'\n",
    "    sos run $[exe_dir]/data_preprocessing/genotype/genotype_formatting.ipynb plink2vcf \\\n",
    "        --genotype_list $[_input] \\\n",
    "        --name $[_input_inv[\"Theme\"]] \\\n",
    "        --container_lmm $[container_lmm] \\\n",
    "        --wd $[wd:a]/data_preprocessing/genotype/vcf/ \\\n",
    "        -J 200 -q csg -c /home/hs3163/GIT/ADSPFG-xQTL/code/csg.yml\n",
    "\n",
    "     sos run $[exe_dir]/data_preprocessing/genotype/genotype_formatting.ipynb plink_by_gene \\\n",
    "        --genotype_list $[_input] \\\n",
    "        --name $[_input_inv[\"Theme\"]] \\\n",
    "        --region_list $[_input_inv[\"region_list\"]] \\\n",
    "        --container_lmm $[container_lmm] \\\n",
    "        --wd $[wd:a]/data_preprocessing/genotype/ \\\n",
    "        -J 200 -q csg -c /home/hs3163/GIT/ADSPFG-xQTL/code/csg.yml"
   ]
  },
  {
   "cell_type": "code",
   "execution_count": null,
   "id": "c08e5c96-bd9d-40ea-a06f-e37bf4c18f0a",
   "metadata": {
    "kernel": "SoS"
   },
   "outputs": [],
   "source": [
    "[LD]\n",
    "import pandas as pd\n",
    "input: output_from(\"genotype_reformatting\")[\"per_gene_plink\"],group_with = \"input_inv\"\n",
    "output: f'{wd}/data_preprocessing/genotype/LD/{_input_inv[\"Theme\"]}._LD_recipe'\n",
    "#task: trunk_workers = 1, trunk_size = 1, walltime = '24h',  mem = '40G', tags = f'{step_name}_{_output[0]:bn}'\n",
    "bash:  expand = \"$[ ]\", stderr = f'{_output[0]}.stderr', stdout = f'{_output[0]}.stdout'\n",
    "     sos run $[exe_dir]/data_preprocessing/genotype/LD.ipynb LD \\\n",
    "        --genotype_list $[_input] \\\n",
    "        --name $[_input_inv[\"Theme\"]] \\\n",
    "        --region_list $[_input_inv[\"region_list\"]] \\\n",
    "        --container_lmm $[container_lmm] \\\n",
    "        --wd $[wd:a]/data_preprocessing/genotype/LD/ \\\n",
    "        -J 200 -q csg -c /home/hs3163/GIT/ADSPFG-xQTL/code/csg.yml"
   ]
  },
  {
   "cell_type": "code",
   "execution_count": null,
   "id": "925f3952-5a41-4901-90fc-8383596945e6",
   "metadata": {
    "kernel": "SoS"
   },
   "outputs": [],
   "source": [
    "[LD_Recipe]\n",
    "input: output_from(\"LD\"), group_by = \"all\"\n",
    "output: f'{wd:a}/data_preprocessing/genotype/LD/sumstat_list'\n",
    "python: expand = \"$[ ]\", stderr = f'{_output[0]}.stderr', stdout = f'{_output[0]}.stdout'\n",
    "    import pandas as pd\n",
    "    input_list = [$[_input:r,]]\n",
    "    ld_recipe = pd.read_csv(input_list[0],sep = \"\\t\")\n",
    "    for x in range(1,len(input_list)):\n",
    "        ld_recipe = ld_recipe.append(pd.read_csv(input_list[x],sep = \"\\t\"))\n",
    "    ld_recipe.to_csv(\"$[_output]\", index = 0 , sep = \"\\t\")"
   ]
  },
  {
   "cell_type": "code",
   "execution_count": null,
   "id": "9718f246-af77-413e-a49c-55a3400ebc00",
   "metadata": {
    "kernel": "SoS"
   },
   "outputs": [],
   "source": [
    "[GRM]\n",
    "import pandas as pd\n",
    "input: output_from(\"genotype_QC\")[\"per_chrom_plink_list\"],group_with = \"input_inv\"\n",
    "output: f'{wd}/data_preprocessing/genotype/grm/{_input_inv[\"Theme\"]}.grm_list.txt'\n",
    "#task: trunk_workers = 1, trunk_size = 1, walltime = '24h',  mem = '40G', tags = f'{step_name}_{_output[0]:bn}'\n",
    "bash:  expand = \"$[ ]\", stderr = f'{_output[0]}.stderr', stdout = f'{_output[0]}.stdout'\n",
    "     sos run $[exe_dir]/data_preprocessing/genotype/GRM.ipynb GRM \\\n",
    "        --genotype_list $[_input] \\\n",
    "        --name $[_input_inv[\"Theme\"]] \\\n",
    "        --container $[container_apex] \\\n",
    "        --wd $[wd:a]/data_preprocessing/genotype/grm/ \\\n",
    "        -J 200 -q csg -c /home/hs3163/GIT/ADSPFG-xQTL/code/csg.yml"
   ]
  },
  {
   "cell_type": "markdown",
   "id": "6e8bb5ca-79f3-474e-850d-f27a6aae8746",
   "metadata": {
    "kernel": "SoS"
   },
   "source": [
    "## Factor analysis"
   ]
  },
  {
   "cell_type": "code",
   "execution_count": null,
   "id": "1758c7dd-2a61-447e-8240-bc061fd0868c",
   "metadata": {
    "kernel": "SoS"
   },
   "outputs": [],
   "source": []
  },
  {
   "cell_type": "code",
   "execution_count": null,
   "id": "59581248-4f24-4155-ae58-c388e9570eb8",
   "metadata": {
    "kernel": "SoS"
   },
   "outputs": [],
   "source": [
    "[factor]\n",
    "input: output_from(\"genotype_reformatting\")[\"vcf_list\"],output_from(\"phenotype_reformating\") ,group_with = \"input_inv\"\n",
    "output: f'{wd}/data_Processing/covariate/{_input_inv[\"factor_analysis_opt\"]}/{_input_inv[\"Theme\"]}.factor.cov'\n",
    "#task: trunk_workers = 1, trunk_size = 1, walltime = '24h',  mem = '40G', tags = f'{step_name}_{_output[0]:bn}'\n",
    "bash:  expand = \"$[ ]\", stderr = f'{_output[0]}.stderr', stdout = f'{_output[0]}.stdout'\n",
    "    sos run $[exe_dir]/data_preprocessing/covariate/$[_input_inv[\"factor_analysis_opt\"]].ipynb $[_input_inv[\"factor_analysis_opt\"]] \\\n",
    "        --molecular_pheno_whole $[_input[1]] \\\n",
    "        --region_list $[_input_inv[\"region_list\"]] \\\n",
    "        --genotype $[_input[0]] \\\n",
    "        --name $[_input_inv[\"Theme\"]] \\\n",
    "        --wd $[wd:a]/data_preprocessing/covariate/ \\\n",
    "        -J 200 -q csg -c /home/hs3163/GIT/ADSPFG-xQTL/code/csg.yml $[f'--covariate {_input_inv[\"covariate_file\"]}' if os.path.exists(covariate) else f'']"
   ]
  },
  {
   "cell_type": "code",
   "execution_count": null,
   "id": "94f82ab5-d801-4875-993e-4e124366dd63",
   "metadata": {
    "kernel": "SoS"
   },
   "outputs": [],
   "source": [
    "[pca]\n",
    "import pandas as pd\n",
    "input: output_from(\"genotype_QC\")[\"related\"],output_from(\"genotype_QC\")[\"unrelated\"],output_from(\"phenotype_reformating\"),group_with = \"input_inv\"\n",
    "output: f'{wd}/data_preprocessing/covariate/pca/{_input_inv[\"Theme\"]}.pca.cov'\n",
    "#task: trunk_workers = 1, trunk_size = 1, walltime = '24h',  mem = '40G', tags = f'{step_name}_{_output[0]:bn}'\n",
    "bash:  expand = \"$[ ]\", stderr = f'{_output[0]}.stderr', stdout = f'{_output[0]}.stdout'\n",
    "     sos run $[exe_dir]/data_preprocessing/covariate/PCA.ipynb PCA \\\n",
    "        --related $[_input[0]] \\\n",
    "        --unrelated $[_input[1]] \\\n",
    "        --name $[_input_inv[\"Theme\"]] \\\n",
    "        --molecular_phenotype $[_input[2]]\n",
    "        --container $[container_lmm] \\\n",
    "        --wd $[wd:a]/data_preprocessing/covariate/pca/ \\\n",
    "        -J 200 -q csg -c /home/hs3163/GIT/ADSPFG-xQTL/code/csg.yml"
   ]
  },
  {
   "cell_type": "code",
   "execution_count": null,
   "id": "4e51efa9-19a0-43c9-80d3-34cf84c5844a",
   "metadata": {
    "kernel": "SoS"
   },
   "outputs": [],
   "source": [
    "[pca_factor_merge]\n",
    "## PCA models\n",
    "input: output_from(\"pca\"), output_from(\"factor\")\n",
    "output: pca_factor = f'{_input[1]:n}.pca.cov'\n",
    "R: expand= \"$[ ]\", stderr = f'{_output:n}.stderr', stdout = f'{_output:n}.stdout'\n",
    "        library(\"dplyr\")\n",
    "        library(\"tibble\")\n",
    "        library(\"readr\")\n",
    "        library(\"modelr\")\n",
    "        library(\"purrr\")\n",
    "        pca_output = read_delim(\"$[_input[0]]\",\"\\t\")\n",
    "        mtx = pca_output%>%select(contains(\"PC\"))%>%t()\n",
    "        colnames(mtx) <- pca_output$IID\n",
    "        mtx = mtx%>%as_tibble()%>%mutate(\"#id\" = rownames(mtx))%>%select(\"#id\",everything())\n",
    "        factor_cov = read_delim(\"$[_input[1]]\",\"\\t\")\n",
    "        output = bind_rows(factor_cov,mtx)\n",
    "        output%>%write_delim(\"$[_output]\",\"\\t\")"
   ]
  },
  {
   "cell_type": "code",
   "execution_count": null,
   "id": "c249fb1e-13e8-49a2-a110-cd37cbdcbb9b",
   "metadata": {
    "kernel": "SoS"
   },
   "outputs": [],
   "source": []
  },
  {
   "cell_type": "markdown",
   "id": "fourth-river",
   "metadata": {
    "kernel": "SoS"
   },
   "source": [
    "## QTL associations"
   ]
  },
  {
   "cell_type": "code",
   "execution_count": null,
   "id": "solar-tragedy",
   "metadata": {
    "kernel": "SoS"
   },
   "outputs": [],
   "source": [
    "[QTL_1]\n",
    "input: output_from(\"pca_factor_merge\"),output_from(\"grm\"),output_from(\"phenotype_reformatting\")[\"per_chrom_pheno\"],output_from(\"genotype_reformatting\")[\"vcf_list\"],group_with = \"input_inv\"\n",
    "output: f'{wd:a}/association_scan/{_input_inv[\"QTL_tool_option\"]}/{_input_inv[\"QTL_analysis_option\"]}/{_input_inv[\"Theme\"]}.QTL_output_recipe.tsv'\n",
    "#task: trunk_workers = 1, trunk_size = 1, walltime = '24h',  mem = '40G', tags = f'{step_name}_{_output[0]:bn}'\n",
    "bash:  expand = \"$[ ]\", stderr = f'{_output[0]}.stderr', stdout = f'{_output[0]}.stdout'\n",
    "    sos run $[exe_dir]/association_scan/$[_input_inv[\"QTL_tool_option\"]]/$[_input_inv[\"QTL_tool_option\"]].ipynb $[_input_inv[\"QTL_analysis_option\"]] \\\n",
    "        --molecular_pheno $[_input[2]] \\\n",
    "        --covariate $[_input[0]]\\\n",
    "        --genotype_list $[_input[3]] \\\n",
    "        --container $[container_apex] \\\n",
    "        --window $[_input_inv[\"cis_windows\"]] \\\n",
    "        --name $[_input_inv[\"Theme\"]]  \\\n",
    "        --wd $[wd:a]/QTL_association/ \\       \n",
    "        -J 200 -q csg -c /home/hs3163/GIT/ADSPFG-xQTL/code/csg.yml $[f'--grm {_input[1]}' if $[_input_inv[\"QTL_tool_option\"]] == \"APEX\" else f'']"
   ]
  },
  {
   "cell_type": "markdown",
   "id": "hybrid-spencer",
   "metadata": {
    "kernel": "SoS"
   },
   "source": [
    "#### Example:\n",
    "\n",
    "sos run /home/hs3163/GIT/ADSPFG-xQTL/workflow/QTL_association/QTL_association.ipynb APEX_cis_Recipe \\\n",
    "    --recipe Data_Processing/PCC.data_proc_output_recipe.tsv \\\n",
    "    --container /mnt/mfs/statgen/containers/apex.sif \\\n",
    "    --window 500000 \\\n",
    "    --name PCC  \\\n",
    "    --wd /mnt/mfs/statgen/xqtl_workflow_testing/testing_no_cov/QTL_association/ \\\n",
    "    -J 200 -q csg -c /home/hs3163/GIT/ADSPFG-xQTL/code/csg.yml"
   ]
  },
  {
   "cell_type": "code",
   "execution_count": null,
   "id": "handed-declaration",
   "metadata": {
    "kernel": "SoS"
   },
   "outputs": [],
   "source": [
    "[QTL_2]\n",
    "input: group_by = \"all\"  \n",
    "output: f'{_input[0]:d}/sumstat_list'\n",
    "python: expand = \"$[ ]\", stderr = f'{_output[0]}.stderr', stdout = f'{_output[0]}.stdout'\n",
    "    import pandas as pd\n",
    "    input_list = [$[_input:r,]]\n",
    "    input_inv = $[input_inv]\n",
    "    chr_temp = [int(x[0].split(\".\")[-5].replace(\"chr\",\"\")) for x in  pd.read_csv(input_list[0]).values.tolist()]\n",
    "    sumstat_list = pd.DataFrame({\"chr\" : chr_temp })\n",
    "    for x in range(0,len(input_list)):\n",
    "        sumstat_list = sumstat_list.assign(**{input_inv[x][\"Theme\"] : pd.read_csv(input_list[x])} )\n",
    "    sumstat_list.to_csv(\"$[_output]\", index = 0 , sep = \"\\t\")"
   ]
  },
  {
   "cell_type": "code",
   "execution_count": null,
   "id": "norwegian-aerospace",
   "metadata": {
    "kernel": "SoS"
   },
   "outputs": [],
   "source": []
  },
  {
   "cell_type": "markdown",
   "id": "baking-geology",
   "metadata": {
    "kernel": "SoS"
   },
   "source": [
    "## Meta Analysis\n",
    "Input: \n",
    "1. A recipe generated from the combination of previouse steps\n",
    "\n",
    "Output: \n",
    "1. Recipe for Prior, Vhat, rds input, resid corr\n",
    "3. vcf"
   ]
  },
  {
   "cell_type": "code",
   "execution_count": null,
   "id": "sustainable-puzzle",
   "metadata": {
    "kernel": "SoS"
   },
   "outputs": [],
   "source": [
    "[Meta]\n",
    "input: output_from(\"QTL_2\")\n",
    "output: f'{wd}/Meta_analysis/Fine_mapping_recipe.txt'\n",
    "#task: trunk_workers = 1, trunk_size = 1, walltime = '24h',  mem = '40G', tags = f'{step_name}_{_output[0]:bn}'\n",
    "bash:  expand = \"$[ ]\", stderr = f'{_output[0]}.stderr', stdout = f'{_output[0]}.stdout'\n",
    "    sos run $[exe_dir]/Meta_Analysis/Meta_Analysis.ipynb Recipe \\\n",
    "        --sumstat_list_path $[_input:a] \\\n",
    "        --region_list $[input_inv[0][\"region_list\"]] \\\n",
    "        --container $[container] \\\n",
    "        --wd $[wd:a]/Meta_analysis/ \\\n",
    "        --METAL_theme_str $[\",\".join(Metal_theme)] \\\n",
    "        -J 200 -q csg -c /home/hs3163/GIT/ADSPFG-xQTL/code/csg.yml"
   ]
  },
  {
   "cell_type": "markdown",
   "id": "representative-planet",
   "metadata": {
    "kernel": "SoS"
   },
   "source": [
    "#### Example\n",
    "sos run /home/hs3163/GIT/ADSPFG-xQTL/workflow/Meta_Analysis/Meta_Analysis.ipynb Recipe \\\n",
    "    --sumstat_list_path /mnt/mfs/statgen/xqtl_workflow_testing/testing_no_cov/QTL_association/sumstat_list \\\n",
    "    --region_list ~/GIT/ADSPFG-xQTL/MWE/mwe_region_long \\\n",
    "    --container /mnt/mfs/statgen/containers/twas_latest.sif \\\n",
    "    --wd /mnt/mfs/statgen/xqtl_workflow_testing/testing_no_cov/Meta_analysis/ \\\n",
    "    --METAL_theme_str PCC,DLPFC \\\n",
    "    -J 200 -q csg -c /home/hs3163/GIT/ADSPFG-xQTL/code/csg.yml"
   ]
  },
  {
   "cell_type": "markdown",
   "id": "quality-ukraine",
   "metadata": {
    "kernel": "SoS"
   },
   "source": [
    "## Fine mapping\n",
    "Input: \n",
    "1. Recipe from previous step\n",
    "2. a Recipe for LD, need to be made seperately\n",
    "\n",
    "Output: vcf"
   ]
  },
  {
   "cell_type": "code",
   "execution_count": null,
   "id": "portable-gauge",
   "metadata": {
    "kernel": "SoS"
   },
   "outputs": [],
   "source": [
    "[Fine_mapping]\n",
    "input: output_from(\"Meta\")\n",
    "output: f'{wd}/Fine_Mapping/{Theme_Prefix}.unisusie_rss.output_list.txt',\n",
    "        f'{wd}/Fine_Mapping/{Theme_Prefix}.mvsusie_rss.output_list.txt'\n",
    "#task: trunk_workers = 1, trunk_size = 1, walltime = '24h',  mem = '40G', tags = f'{step_name}_{_output[0]:bn}'\n",
    "bash: expand = \"$[ ]\", stderr = f'{_output[0]}.stderr', stdout = f'{_output[0]}.stdout'\n",
    "    sos run $[exe_dir]/Fine_Mapping/SumStat/SuSiE_RSS.ipynb Fine_mapping \\\n",
    "        --recipe $[_input:a] \\\n",
    "        --LD_Recipe $[LD_Recipe:a] \\\n",
    "        --container $[container] \\\n",
    "        --wd $[wd:a]/Fine_Mapping/ \\\n",
    "        --Theme_prefix $[Theme_Prefix] # \\\n",
    "        #-J 50 -q csg -c ~/GIT/ADSPFG-xQTL/code/csg.yml &"
   ]
  },
  {
   "cell_type": "markdown",
   "id": "postal-phone",
   "metadata": {
    "kernel": "SoS"
   },
   "source": [
    "#### Example\n",
    "sos run /home/hs3163/GIT/ADSPFG-xQTL/workflow/Fine_Mapping/SumStat/SuSiE_RSS.ipynb Fine_mapping \\\n",
    "    --recipe /mnt/mfs/statgen/xqtl_workflow_testing/testing_no_cov/Meta_analysis/Fine_mapping_recipe.txt \\\n",
    "    --LD_Recipe /home/hs3163/GIT/ADSPFG-xQTL/MWE/LD_Recipe \\\n",
    "    --container /mnt/mfs/statgen/containers/twas_latest.sif \\\n",
    "    --wd /mnt/mfs/statgen/xqtl_workflow_testing/testing_no_cov/Fine_Mapping/ \\\n",
    "    --Theme_prefix AC_PCC-DLPFC # \\\n",
    "    # -J 50 -q csg -c ~/GIT/ADSPFG-xQTL/code/csg.yml &"
   ]
  },
  {
   "cell_type": "code",
   "execution_count": null,
   "id": "expected-lying",
   "metadata": {
    "kernel": "SoS"
   },
   "outputs": [],
   "source": []
  }
 ],
 "metadata": {
  "kernelspec": {
   "display_name": "SoS",
   "language": "sos",
   "name": "sos"
  },
  "language_info": {
   "codemirror_mode": "sos",
   "file_extension": ".sos",
   "mimetype": "text/x-sos",
   "name": "sos",
   "nbconvert_exporter": "sos_notebook.converter.SoS_Exporter",
   "pygments_lexer": "sos"
  },
  "sos": {
   "kernels": [
    [
     "Markdown",
     "markdown",
     "markdown",
     "",
     ""
    ],
    [
     "SoS",
     "sos",
     "",
     "",
     "sos"
    ]
   ],
   "version": "0.22.6"
  }
 },
 "nbformat": 4,
 "nbformat_minor": 5
}
